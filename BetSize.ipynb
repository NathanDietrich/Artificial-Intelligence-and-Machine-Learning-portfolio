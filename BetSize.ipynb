{
  "nbformat": 4,
  "nbformat_minor": 0,
  "metadata": {
    "colab": {
      "provenance": [],
      "authorship_tag": "ABX9TyMUEBuyqGjHXImGeLoBGzdi",
      "include_colab_link": true
    },
    "kernelspec": {
      "name": "python3",
      "display_name": "Python 3"
    },
    "language_info": {
      "name": "python"
    }
  },
  "cells": [
    {
      "cell_type": "markdown",
      "metadata": {
        "id": "view-in-github",
        "colab_type": "text"
      },
      "source": [
        "<a href=\"https://colab.research.google.com/github/NathanDietrich/Artificial-Intelligence-and-Machine-Learning-portfolio/blob/main/BetSize.ipynb\" target=\"_parent\"><img src=\"https://colab.research.google.com/assets/colab-badge.svg\" alt=\"Open In Colab\"/></a>"
      ]
    },
    {
      "cell_type": "code",
      "execution_count": 15,
      "metadata": {
        "colab": {
          "base_uri": "https://localhost:8080/"
        },
        "id": "kyARWJjCR-97",
        "outputId": "54a13c65-83d8-4030-8fa9-d478f1bbaac0"
      },
      "outputs": [
        {
          "output_type": "stream",
          "name": "stdout",
          "text": [
            "Optimal bet fraction of your bankroll: 28.00%\n"
          ]
        }
      ],
      "source": [
        "def kelly_criterion(probability, odds):\n",
        "    \"\"\"\n",
        "    Calculate the optimal bet size using the Kelly Criterion.\n",
        "\n",
        "    Parameters:\n",
        "    - probability (float): The probability of winning (between 0 and 1).\n",
        "    - odds (float): The decimal odds offered by the bookmaker.\n",
        "\n",
        "    Returns:\n",
        "    - float: The fraction of your bankroll to bet.\n",
        "\n",
        "    Raises:\n",
        "    - ValueError: If input values are out of range.\n",
        "    \"\"\"\n",
        "    if not (0 < probability < 1):\n",
        "        raise ValueError(\"Probability must be between 0 and 1.\")\n",
        "    if odds <= 1:\n",
        "        raise ValueError(\"Odds must be greater than 1.\")\n",
        "\n",
        "    edge = (odds - 1) * probability - (1 - probability)\n",
        "    bet_fraction = edge / (odds - 1)\n",
        "\n",
        "    return max(0, bet_fraction)  # Bet fraction cannot be negative\n",
        "\n",
        "# Example usage for interactive environments like Colab\n",
        "probability = 0.4  # 60% chance of winning\n",
        "odds = 6  # Decimal odds (e.g., 2.0 means you win $2 for every $1 bet)\n",
        "\n",
        "optimal_bet = kelly_criterion(probability, odds)\n",
        "print(f\"Optimal bet fraction of your bankroll: {optimal_bet:.2%}\")\n"
      ]
    }
  ]
}