{
  "nbformat": 4,
  "nbformat_minor": 0,
  "metadata": {
    "colab": {
      "provenance": [],
      "authorship_tag": "ABX9TyPEiAIhjxLcVxYrlxuh+ckB",
      "include_colab_link": true
    },
    "kernelspec": {
      "name": "python3",
      "display_name": "Python 3"
    },
    "language_info": {
      "name": "python"
    }
  },
  "cells": [
    {
      "cell_type": "markdown",
      "metadata": {
        "id": "view-in-github",
        "colab_type": "text"
      },
      "source": [
        "<a href=\"https://colab.research.google.com/github/NathanDietrich/Artificial-Intelligence-and-Machine-Learning-portfolio/blob/main/PolygonSentimentCollection.ipynb\" target=\"_parent\"><img src=\"https://colab.research.google.com/assets/colab-badge.svg\" alt=\"Open In Colab\"/></a>"
      ]
    },
    {
      "cell_type": "code",
      "execution_count": 4,
      "metadata": {
        "colab": {
          "base_uri": "https://localhost:8080/"
        },
        "id": "s8ZaO9OfvdyU",
        "outputId": "143afd55-1e10-4c3b-c0d3-127a6d3d3dfc"
      },
      "outputs": [
        {
          "output_type": "stream",
          "name": "stdout",
          "text": [
            "Sentiment analysis completed. Results saved to TSLA_news_sentiment_2025-01-01_to_2025-01-15.csv\n"
          ]
        }
      ],
      "source": [
        "import requests\n",
        "from textblob import TextBlob\n",
        "import pandas as pd\n",
        "import datetime\n",
        "from google.colab import userdata\n",
        "\n",
        "#function to get historical stock news\n",
        "def get_historical_news(ticker, start_date, end_date, api_key):\n",
        "  url = f\"https://api.polygon.io/v2/reference/news?ticker={ticker}&published_utc.gte={start_date}&published_utc.lte={end_date}&apiKey={api_key}\"\n",
        "  response = requests.get(url)\n",
        "\n",
        "  if response.status_code == 200:\n",
        "    return response.json()[\"results\"]\n",
        "  else:\n",
        "    print(f\"Error: {response.status_code}, {response.text}\")\n",
        "    return[]\n",
        "\n",
        "#Sentiment analysis function\n",
        "def analyze_sentiment(news_data):\n",
        "  analyzed_data = []\n",
        "\n",
        "  for article in news_data:\n",
        "    title = article.get(\"title\", \"\")\n",
        "    description = article.get(\"description\", \"\")\n",
        "\n",
        "    #combine title and text description\n",
        "    full_text = f\"{title} {description}\"\n",
        "    sentiment = TextBlob(full_text).sentiment\n",
        "\n",
        "    analyzed_data.append({\n",
        "        \"title\": title,\n",
        "        \"description\": description,\n",
        "        \"published_date\": article.get(\"published_utc\", \"\"),\n",
        "        \"sentiment_polarity\": sentiment.polarity,\n",
        "        \"sentiment_subjectivity\": sentiment.subjectivity\n",
        "    })\n",
        "  return analyzed_data\n",
        "\n",
        "def main():\n",
        "  #api config\n",
        "  api_key = userdata.get('Polygon_Key')\n",
        "  ticker = \"TSLA\"\n",
        "  start_date = \"2025-01-01\"\n",
        "  end_date= \"2025-01-15\"\n",
        "\n",
        "  #Get historical news\n",
        "  news_data = get_historical_news(ticker, start_date, end_date, api_key)\n",
        "\n",
        "  if not news_data:\n",
        "    print(\"No news data found.\")\n",
        "    return\n",
        "\n",
        "  #sentiment analysis\n",
        "  analyzed_news = analyze_sentiment(news_data)\n",
        "\n",
        "  #Convert to DataFrame for better visyalization\n",
        "  df = pd.DataFrame(analyzed_news)\n",
        "\n",
        "  #save to CSV file\n",
        "  csv_file = f\"{ticker}_news_sentiment_{start_date}_to_{end_date}.csv\"\n",
        "  df.to_csv(csv_file, index=False)\n",
        "\n",
        "  print(f\"Sentiment analysis completed. Results saved to {csv_file}\")\n",
        "\n",
        "if __name__ == \"__main__\":\n",
        "  main()"
      ]
    }
  ]
}