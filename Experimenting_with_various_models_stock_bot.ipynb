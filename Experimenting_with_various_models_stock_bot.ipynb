{
  "nbformat": 4,
  "nbformat_minor": 0,
  "metadata": {
    "colab": {
      "provenance": [],
      "authorship_tag": "ABX9TyNVpF5hJQtYeejiaTEDEGZw",
      "include_colab_link": true
    },
    "kernelspec": {
      "name": "python3",
      "display_name": "Python 3"
    },
    "language_info": {
      "name": "python"
    }
  },
  "cells": [
    {
      "cell_type": "markdown",
      "metadata": {
        "id": "view-in-github",
        "colab_type": "text"
      },
      "source": [
        "<a href=\"https://colab.research.google.com/github/NathanDietrich/Artificial-Intelligence-and-Machine-Learning-portfolio/blob/main/Experimenting_with_various_models_stock_bot.ipynb\" target=\"_parent\"><img src=\"https://colab.research.google.com/assets/colab-badge.svg\" alt=\"Open In Colab\"/></a>"
      ]
    },
    {
      "cell_type": "markdown",
      "source": [
        "# Grabbing Stock Data"
      ],
      "metadata": {
        "id": "7NT65AARgvRY"
      }
    },
    {
      "cell_type": "code",
      "source": [
        "!pip install yfinance --upgrade --no-cache-dir"
      ],
      "metadata": {
        "colab": {
          "base_uri": "https://localhost:8080/"
        },
        "id": "ckIuuSrJTKhd",
        "outputId": "6a124530-e967-4256-8a64-b4586952709b"
      },
      "execution_count": 1,
      "outputs": [
        {
          "output_type": "stream",
          "name": "stdout",
          "text": [
            "Requirement already satisfied: yfinance in /usr/local/lib/python3.10/dist-packages (0.2.49)\n",
            "Collecting yfinance\n",
            "  Downloading yfinance-0.2.50-py2.py3-none-any.whl.metadata (5.5 kB)\n",
            "Requirement already satisfied: pandas>=1.3.0 in /usr/local/lib/python3.10/dist-packages (from yfinance) (2.2.2)\n",
            "Requirement already satisfied: numpy>=1.16.5 in /usr/local/lib/python3.10/dist-packages (from yfinance) (1.26.4)\n",
            "Requirement already satisfied: requests>=2.31 in /usr/local/lib/python3.10/dist-packages (from yfinance) (2.32.3)\n",
            "Requirement already satisfied: multitasking>=0.0.7 in /usr/local/lib/python3.10/dist-packages (from yfinance) (0.0.11)\n",
            "Requirement already satisfied: lxml>=4.9.1 in /usr/local/lib/python3.10/dist-packages (from yfinance) (5.3.0)\n",
            "Requirement already satisfied: platformdirs>=2.0.0 in /usr/local/lib/python3.10/dist-packages (from yfinance) (4.3.6)\n",
            "Requirement already satisfied: pytz>=2022.5 in /usr/local/lib/python3.10/dist-packages (from yfinance) (2024.2)\n",
            "Requirement already satisfied: frozendict>=2.3.4 in /usr/local/lib/python3.10/dist-packages (from yfinance) (2.4.6)\n",
            "Requirement already satisfied: peewee>=3.16.2 in /usr/local/lib/python3.10/dist-packages (from yfinance) (3.17.8)\n",
            "Requirement already satisfied: beautifulsoup4>=4.11.1 in /usr/local/lib/python3.10/dist-packages (from yfinance) (4.12.3)\n",
            "Requirement already satisfied: html5lib>=1.1 in /usr/local/lib/python3.10/dist-packages (from yfinance) (1.1)\n",
            "Requirement already satisfied: soupsieve>1.2 in /usr/local/lib/python3.10/dist-packages (from beautifulsoup4>=4.11.1->yfinance) (2.6)\n",
            "Requirement already satisfied: six>=1.9 in /usr/local/lib/python3.10/dist-packages (from html5lib>=1.1->yfinance) (1.16.0)\n",
            "Requirement already satisfied: webencodings in /usr/local/lib/python3.10/dist-packages (from html5lib>=1.1->yfinance) (0.5.1)\n",
            "Requirement already satisfied: python-dateutil>=2.8.2 in /usr/local/lib/python3.10/dist-packages (from pandas>=1.3.0->yfinance) (2.8.2)\n",
            "Requirement already satisfied: tzdata>=2022.7 in /usr/local/lib/python3.10/dist-packages (from pandas>=1.3.0->yfinance) (2024.2)\n",
            "Requirement already satisfied: charset-normalizer<4,>=2 in /usr/local/lib/python3.10/dist-packages (from requests>=2.31->yfinance) (3.4.0)\n",
            "Requirement already satisfied: idna<4,>=2.5 in /usr/local/lib/python3.10/dist-packages (from requests>=2.31->yfinance) (3.10)\n",
            "Requirement already satisfied: urllib3<3,>=1.21.1 in /usr/local/lib/python3.10/dist-packages (from requests>=2.31->yfinance) (2.2.3)\n",
            "Requirement already satisfied: certifi>=2017.4.17 in /usr/local/lib/python3.10/dist-packages (from requests>=2.31->yfinance) (2024.8.30)\n",
            "Downloading yfinance-0.2.50-py2.py3-none-any.whl (102 kB)\n",
            "\u001b[2K   \u001b[90m━━━━━━━━━━━━━━━━━━━━━━━━━━━━━━━━━━━━━━━━\u001b[0m \u001b[32m102.2/102.2 kB\u001b[0m \u001b[31m4.7 MB/s\u001b[0m eta \u001b[36m0:00:00\u001b[0m\n",
            "\u001b[?25hInstalling collected packages: yfinance\n",
            "  Attempting uninstall: yfinance\n",
            "    Found existing installation: yfinance 0.2.49\n",
            "    Uninstalling yfinance-0.2.49:\n",
            "      Successfully uninstalled yfinance-0.2.49\n",
            "Successfully installed yfinance-0.2.50\n"
          ]
        }
      ]
    },
    {
      "cell_type": "code",
      "execution_count": 39,
      "metadata": {
        "id": "i3QaZwgNRlhZ"
      },
      "outputs": [],
      "source": [
        "import datetime as dt\n",
        "import pandas as pd\n",
        "from pandas_datareader import data as pdr\n",
        "import yfinance as yf\n",
        "import numpy as np\n",
        "from sklearn.model_selection import TimeSeriesSplit\n",
        "from sklearn.preprocessing import StandardScaler\n",
        "import tensorflow as tf\n",
        "from tensorflow.keras.models import Sequential\n",
        "from tensorflow.keras.layers import LSTM, Dense, Dropout\n",
        "from sklearn.metrics import mean_absolute_error, mean_squared_error, r2_score"
      ]
    },
    {
      "cell_type": "code",
      "source": [
        "#define range of study\n",
        "end = dt.datetime.now()\n",
        "start = end - dt.timedelta(days = 4*360)\n",
        "start, end"
      ],
      "metadata": {
        "colab": {
          "base_uri": "https://localhost:8080/"
        },
        "id": "_TjMFRLvTcxE",
        "outputId": "3685b7c4-f306-4f2e-c5f9-6dfa70f7d3e3"
      },
      "execution_count": 3,
      "outputs": [
        {
          "output_type": "execute_result",
          "data": {
            "text/plain": [
              "(datetime.datetime(2020, 12, 16, 21, 44, 3, 591802),\n",
              " datetime.datetime(2024, 11, 25, 21, 44, 3, 591802))"
            ]
          },
          "metadata": {},
          "execution_count": 3
        }
      ]
    },
    {
      "cell_type": "code",
      "source": [
        "#Choose stock tickers to study\n",
        "stockList = ['NVDA', 'MSFT', 'AAPL', 'TSLA', 'AI', 'SMCI', 'ADI', 'NOW', 'DDOG', 'CROX', 'TWLO', 'ETSY', 'DXCM', 'ZBRA', 'ANET']\n",
        "stocks = [i for i in stockList]\n",
        "stocks"
      ],
      "metadata": {
        "colab": {
          "base_uri": "https://localhost:8080/"
        },
        "id": "bQcq8fiwTvC5",
        "outputId": "8382cceb-69a1-466c-90ed-4c4a1cef6783"
      },
      "execution_count": 10,
      "outputs": [
        {
          "output_type": "execute_result",
          "data": {
            "text/plain": [
              "['NVDA',\n",
              " 'MSFT',\n",
              " 'AAPL',\n",
              " 'TSLA',\n",
              " 'AI',\n",
              " 'SMCI',\n",
              " 'ADI',\n",
              " 'NOW',\n",
              " 'DDOG',\n",
              " 'CROX',\n",
              " 'TWLO',\n",
              " 'ETSY',\n",
              " 'DXCM',\n",
              " 'ZBRA',\n",
              " 'ANET']"
            ]
          },
          "metadata": {},
          "execution_count": 10
        }
      ]
    },
    {
      "cell_type": "code",
      "source": [
        "df = yf.download(stocks, start, end)"
      ],
      "metadata": {
        "colab": {
          "base_uri": "https://localhost:8080/"
        },
        "id": "4Nwu-IHKUg5X",
        "outputId": "cd052e15-0dae-47ca-a170-33a2c87e51db"
      },
      "execution_count": 11,
      "outputs": [
        {
          "output_type": "stream",
          "name": "stderr",
          "text": [
            "[*********************100%***********************]  15 of 15 completed\n"
          ]
        }
      ]
    },
    {
      "cell_type": "code",
      "source": [
        "df.tail()"
      ],
      "metadata": {
        "colab": {
          "base_uri": "https://localhost:8080/",
          "height": 405
        },
        "id": "HxrGSjsgVLSJ",
        "outputId": "90babded-1d96-4ff7-f9ee-c9b9ce0387a5"
      },
      "execution_count": 12,
      "outputs": [
        {
          "output_type": "execute_result",
          "data": {
            "text/plain": [
              "Price        Adj Close                                                 \\\n",
              "Ticker            AAPL         ADI         AI        ANET        CROX   \n",
              "Date                                                                    \n",
              "2024-11-19  228.279999  210.429993  32.959999  377.700012   97.980003   \n",
              "2024-11-20  229.000000  211.009995  32.360001  381.709991   98.589996   \n",
              "2024-11-21  228.520004  213.960007  34.990002  404.970001  101.809998   \n",
              "2024-11-22  229.869995  214.589996  37.419998  406.480011  106.080002   \n",
              "2024-11-25  232.869995  223.580002  37.860001  399.720001  108.529999   \n",
              "\n",
              "Price                                                                  ...  \\\n",
              "Ticker            DDOG       DXCM       ETSY        MSFT          NOW  ...   \n",
              "Date                                                                   ...   \n",
              "2024-11-19  133.410004  74.879997  50.410000  416.955414  1022.099976  ...   \n",
              "2024-11-20  135.449997  75.239998  50.860001  414.659973  1022.979980  ...   \n",
              "2024-11-21  143.860001  74.459999  51.990002  412.869995  1047.050049  ...   \n",
              "2024-11-22  154.830002  72.830002  52.299999  417.000000  1060.599976  ...   \n",
              "2024-11-25  156.630005  77.830002  55.680000  418.790009  1052.709961  ...   \n",
              "\n",
              "Price         Volume                                                  \\\n",
              "Ticker          DDOG     DXCM     ETSY      MSFT      NOW       NVDA   \n",
              "Date                                                                   \n",
              "2024-11-19   6252000  3351900  3345100  18133500  1830200  227834900   \n",
              "2024-11-20   6353300  3077200  2234000  19191700  1141900  309871700   \n",
              "2024-11-21   8671800  3230900  2337700  20780200  1111300  400946600   \n",
              "2024-11-22  13874200  4562600  2377600  24802100  1436900  235772200   \n",
              "2024-11-25   7654744  6556778  6579015  25842761   998346  326414452   \n",
              "\n",
              "Price                                             \n",
              "Ticker           SMCI      TSLA     TWLO    ZBRA  \n",
              "Date                                              \n",
              "2024-11-19  235282900  88852500  2292100  324500  \n",
              "2024-11-20  105366500  66340700  2763000  489400  \n",
              "2024-11-21  118032600  58011700  4216400  368400  \n",
              "2024-11-22  159205900  88896400  2502500  232000  \n",
              "2024-11-25  166191735  93338715  5913672  384151  \n",
              "\n",
              "[5 rows x 90 columns]"
            ],
            "text/html": [
              "\n",
              "  <div id=\"df-054c97bd-28a7-47cc-9ad5-4417f9bb46f5\" class=\"colab-df-container\">\n",
              "    <div>\n",
              "<style scoped>\n",
              "    .dataframe tbody tr th:only-of-type {\n",
              "        vertical-align: middle;\n",
              "    }\n",
              "\n",
              "    .dataframe tbody tr th {\n",
              "        vertical-align: top;\n",
              "    }\n",
              "\n",
              "    .dataframe thead tr th {\n",
              "        text-align: left;\n",
              "    }\n",
              "\n",
              "    .dataframe thead tr:last-of-type th {\n",
              "        text-align: right;\n",
              "    }\n",
              "</style>\n",
              "<table border=\"1\" class=\"dataframe\">\n",
              "  <thead>\n",
              "    <tr>\n",
              "      <th>Price</th>\n",
              "      <th colspan=\"10\" halign=\"left\">Adj Close</th>\n",
              "      <th>...</th>\n",
              "      <th colspan=\"10\" halign=\"left\">Volume</th>\n",
              "    </tr>\n",
              "    <tr>\n",
              "      <th>Ticker</th>\n",
              "      <th>AAPL</th>\n",
              "      <th>ADI</th>\n",
              "      <th>AI</th>\n",
              "      <th>ANET</th>\n",
              "      <th>CROX</th>\n",
              "      <th>DDOG</th>\n",
              "      <th>DXCM</th>\n",
              "      <th>ETSY</th>\n",
              "      <th>MSFT</th>\n",
              "      <th>NOW</th>\n",
              "      <th>...</th>\n",
              "      <th>DDOG</th>\n",
              "      <th>DXCM</th>\n",
              "      <th>ETSY</th>\n",
              "      <th>MSFT</th>\n",
              "      <th>NOW</th>\n",
              "      <th>NVDA</th>\n",
              "      <th>SMCI</th>\n",
              "      <th>TSLA</th>\n",
              "      <th>TWLO</th>\n",
              "      <th>ZBRA</th>\n",
              "    </tr>\n",
              "    <tr>\n",
              "      <th>Date</th>\n",
              "      <th></th>\n",
              "      <th></th>\n",
              "      <th></th>\n",
              "      <th></th>\n",
              "      <th></th>\n",
              "      <th></th>\n",
              "      <th></th>\n",
              "      <th></th>\n",
              "      <th></th>\n",
              "      <th></th>\n",
              "      <th></th>\n",
              "      <th></th>\n",
              "      <th></th>\n",
              "      <th></th>\n",
              "      <th></th>\n",
              "      <th></th>\n",
              "      <th></th>\n",
              "      <th></th>\n",
              "      <th></th>\n",
              "      <th></th>\n",
              "      <th></th>\n",
              "    </tr>\n",
              "  </thead>\n",
              "  <tbody>\n",
              "    <tr>\n",
              "      <th>2024-11-19</th>\n",
              "      <td>228.279999</td>\n",
              "      <td>210.429993</td>\n",
              "      <td>32.959999</td>\n",
              "      <td>377.700012</td>\n",
              "      <td>97.980003</td>\n",
              "      <td>133.410004</td>\n",
              "      <td>74.879997</td>\n",
              "      <td>50.410000</td>\n",
              "      <td>416.955414</td>\n",
              "      <td>1022.099976</td>\n",
              "      <td>...</td>\n",
              "      <td>6252000</td>\n",
              "      <td>3351900</td>\n",
              "      <td>3345100</td>\n",
              "      <td>18133500</td>\n",
              "      <td>1830200</td>\n",
              "      <td>227834900</td>\n",
              "      <td>235282900</td>\n",
              "      <td>88852500</td>\n",
              "      <td>2292100</td>\n",
              "      <td>324500</td>\n",
              "    </tr>\n",
              "    <tr>\n",
              "      <th>2024-11-20</th>\n",
              "      <td>229.000000</td>\n",
              "      <td>211.009995</td>\n",
              "      <td>32.360001</td>\n",
              "      <td>381.709991</td>\n",
              "      <td>98.589996</td>\n",
              "      <td>135.449997</td>\n",
              "      <td>75.239998</td>\n",
              "      <td>50.860001</td>\n",
              "      <td>414.659973</td>\n",
              "      <td>1022.979980</td>\n",
              "      <td>...</td>\n",
              "      <td>6353300</td>\n",
              "      <td>3077200</td>\n",
              "      <td>2234000</td>\n",
              "      <td>19191700</td>\n",
              "      <td>1141900</td>\n",
              "      <td>309871700</td>\n",
              "      <td>105366500</td>\n",
              "      <td>66340700</td>\n",
              "      <td>2763000</td>\n",
              "      <td>489400</td>\n",
              "    </tr>\n",
              "    <tr>\n",
              "      <th>2024-11-21</th>\n",
              "      <td>228.520004</td>\n",
              "      <td>213.960007</td>\n",
              "      <td>34.990002</td>\n",
              "      <td>404.970001</td>\n",
              "      <td>101.809998</td>\n",
              "      <td>143.860001</td>\n",
              "      <td>74.459999</td>\n",
              "      <td>51.990002</td>\n",
              "      <td>412.869995</td>\n",
              "      <td>1047.050049</td>\n",
              "      <td>...</td>\n",
              "      <td>8671800</td>\n",
              "      <td>3230900</td>\n",
              "      <td>2337700</td>\n",
              "      <td>20780200</td>\n",
              "      <td>1111300</td>\n",
              "      <td>400946600</td>\n",
              "      <td>118032600</td>\n",
              "      <td>58011700</td>\n",
              "      <td>4216400</td>\n",
              "      <td>368400</td>\n",
              "    </tr>\n",
              "    <tr>\n",
              "      <th>2024-11-22</th>\n",
              "      <td>229.869995</td>\n",
              "      <td>214.589996</td>\n",
              "      <td>37.419998</td>\n",
              "      <td>406.480011</td>\n",
              "      <td>106.080002</td>\n",
              "      <td>154.830002</td>\n",
              "      <td>72.830002</td>\n",
              "      <td>52.299999</td>\n",
              "      <td>417.000000</td>\n",
              "      <td>1060.599976</td>\n",
              "      <td>...</td>\n",
              "      <td>13874200</td>\n",
              "      <td>4562600</td>\n",
              "      <td>2377600</td>\n",
              "      <td>24802100</td>\n",
              "      <td>1436900</td>\n",
              "      <td>235772200</td>\n",
              "      <td>159205900</td>\n",
              "      <td>88896400</td>\n",
              "      <td>2502500</td>\n",
              "      <td>232000</td>\n",
              "    </tr>\n",
              "    <tr>\n",
              "      <th>2024-11-25</th>\n",
              "      <td>232.869995</td>\n",
              "      <td>223.580002</td>\n",
              "      <td>37.860001</td>\n",
              "      <td>399.720001</td>\n",
              "      <td>108.529999</td>\n",
              "      <td>156.630005</td>\n",
              "      <td>77.830002</td>\n",
              "      <td>55.680000</td>\n",
              "      <td>418.790009</td>\n",
              "      <td>1052.709961</td>\n",
              "      <td>...</td>\n",
              "      <td>7654744</td>\n",
              "      <td>6556778</td>\n",
              "      <td>6579015</td>\n",
              "      <td>25842761</td>\n",
              "      <td>998346</td>\n",
              "      <td>326414452</td>\n",
              "      <td>166191735</td>\n",
              "      <td>93338715</td>\n",
              "      <td>5913672</td>\n",
              "      <td>384151</td>\n",
              "    </tr>\n",
              "  </tbody>\n",
              "</table>\n",
              "<p>5 rows × 90 columns</p>\n",
              "</div>\n",
              "    <div class=\"colab-df-buttons\">\n",
              "\n",
              "  <div class=\"colab-df-container\">\n",
              "    <button class=\"colab-df-convert\" onclick=\"convertToInteractive('df-054c97bd-28a7-47cc-9ad5-4417f9bb46f5')\"\n",
              "            title=\"Convert this dataframe to an interactive table.\"\n",
              "            style=\"display:none;\">\n",
              "\n",
              "  <svg xmlns=\"http://www.w3.org/2000/svg\" height=\"24px\" viewBox=\"0 -960 960 960\">\n",
              "    <path d=\"M120-120v-720h720v720H120Zm60-500h600v-160H180v160Zm220 220h160v-160H400v160Zm0 220h160v-160H400v160ZM180-400h160v-160H180v160Zm440 0h160v-160H620v160ZM180-180h160v-160H180v160Zm440 0h160v-160H620v160Z\"/>\n",
              "  </svg>\n",
              "    </button>\n",
              "\n",
              "  <style>\n",
              "    .colab-df-container {\n",
              "      display:flex;\n",
              "      gap: 12px;\n",
              "    }\n",
              "\n",
              "    .colab-df-convert {\n",
              "      background-color: #E8F0FE;\n",
              "      border: none;\n",
              "      border-radius: 50%;\n",
              "      cursor: pointer;\n",
              "      display: none;\n",
              "      fill: #1967D2;\n",
              "      height: 32px;\n",
              "      padding: 0 0 0 0;\n",
              "      width: 32px;\n",
              "    }\n",
              "\n",
              "    .colab-df-convert:hover {\n",
              "      background-color: #E2EBFA;\n",
              "      box-shadow: 0px 1px 2px rgba(60, 64, 67, 0.3), 0px 1px 3px 1px rgba(60, 64, 67, 0.15);\n",
              "      fill: #174EA6;\n",
              "    }\n",
              "\n",
              "    .colab-df-buttons div {\n",
              "      margin-bottom: 4px;\n",
              "    }\n",
              "\n",
              "    [theme=dark] .colab-df-convert {\n",
              "      background-color: #3B4455;\n",
              "      fill: #D2E3FC;\n",
              "    }\n",
              "\n",
              "    [theme=dark] .colab-df-convert:hover {\n",
              "      background-color: #434B5C;\n",
              "      box-shadow: 0px 1px 3px 1px rgba(0, 0, 0, 0.15);\n",
              "      filter: drop-shadow(0px 1px 2px rgba(0, 0, 0, 0.3));\n",
              "      fill: #FFFFFF;\n",
              "    }\n",
              "  </style>\n",
              "\n",
              "    <script>\n",
              "      const buttonEl =\n",
              "        document.querySelector('#df-054c97bd-28a7-47cc-9ad5-4417f9bb46f5 button.colab-df-convert');\n",
              "      buttonEl.style.display =\n",
              "        google.colab.kernel.accessAllowed ? 'block' : 'none';\n",
              "\n",
              "      async function convertToInteractive(key) {\n",
              "        const element = document.querySelector('#df-054c97bd-28a7-47cc-9ad5-4417f9bb46f5');\n",
              "        const dataTable =\n",
              "          await google.colab.kernel.invokeFunction('convertToInteractive',\n",
              "                                                    [key], {});\n",
              "        if (!dataTable) return;\n",
              "\n",
              "        const docLinkHtml = 'Like what you see? Visit the ' +\n",
              "          '<a target=\"_blank\" href=https://colab.research.google.com/notebooks/data_table.ipynb>data table notebook</a>'\n",
              "          + ' to learn more about interactive tables.';\n",
              "        element.innerHTML = '';\n",
              "        dataTable['output_type'] = 'display_data';\n",
              "        await google.colab.output.renderOutput(dataTable, element);\n",
              "        const docLink = document.createElement('div');\n",
              "        docLink.innerHTML = docLinkHtml;\n",
              "        element.appendChild(docLink);\n",
              "      }\n",
              "    </script>\n",
              "  </div>\n",
              "\n",
              "\n",
              "<div id=\"df-4a513ed4-f2ca-4af5-a261-6d7540bae49a\">\n",
              "  <button class=\"colab-df-quickchart\" onclick=\"quickchart('df-4a513ed4-f2ca-4af5-a261-6d7540bae49a')\"\n",
              "            title=\"Suggest charts\"\n",
              "            style=\"display:none;\">\n",
              "\n",
              "<svg xmlns=\"http://www.w3.org/2000/svg\" height=\"24px\"viewBox=\"0 0 24 24\"\n",
              "     width=\"24px\">\n",
              "    <g>\n",
              "        <path d=\"M19 3H5c-1.1 0-2 .9-2 2v14c0 1.1.9 2 2 2h14c1.1 0 2-.9 2-2V5c0-1.1-.9-2-2-2zM9 17H7v-7h2v7zm4 0h-2V7h2v10zm4 0h-2v-4h2v4z\"/>\n",
              "    </g>\n",
              "</svg>\n",
              "  </button>\n",
              "\n",
              "<style>\n",
              "  .colab-df-quickchart {\n",
              "      --bg-color: #E8F0FE;\n",
              "      --fill-color: #1967D2;\n",
              "      --hover-bg-color: #E2EBFA;\n",
              "      --hover-fill-color: #174EA6;\n",
              "      --disabled-fill-color: #AAA;\n",
              "      --disabled-bg-color: #DDD;\n",
              "  }\n",
              "\n",
              "  [theme=dark] .colab-df-quickchart {\n",
              "      --bg-color: #3B4455;\n",
              "      --fill-color: #D2E3FC;\n",
              "      --hover-bg-color: #434B5C;\n",
              "      --hover-fill-color: #FFFFFF;\n",
              "      --disabled-bg-color: #3B4455;\n",
              "      --disabled-fill-color: #666;\n",
              "  }\n",
              "\n",
              "  .colab-df-quickchart {\n",
              "    background-color: var(--bg-color);\n",
              "    border: none;\n",
              "    border-radius: 50%;\n",
              "    cursor: pointer;\n",
              "    display: none;\n",
              "    fill: var(--fill-color);\n",
              "    height: 32px;\n",
              "    padding: 0;\n",
              "    width: 32px;\n",
              "  }\n",
              "\n",
              "  .colab-df-quickchart:hover {\n",
              "    background-color: var(--hover-bg-color);\n",
              "    box-shadow: 0 1px 2px rgba(60, 64, 67, 0.3), 0 1px 3px 1px rgba(60, 64, 67, 0.15);\n",
              "    fill: var(--button-hover-fill-color);\n",
              "  }\n",
              "\n",
              "  .colab-df-quickchart-complete:disabled,\n",
              "  .colab-df-quickchart-complete:disabled:hover {\n",
              "    background-color: var(--disabled-bg-color);\n",
              "    fill: var(--disabled-fill-color);\n",
              "    box-shadow: none;\n",
              "  }\n",
              "\n",
              "  .colab-df-spinner {\n",
              "    border: 2px solid var(--fill-color);\n",
              "    border-color: transparent;\n",
              "    border-bottom-color: var(--fill-color);\n",
              "    animation:\n",
              "      spin 1s steps(1) infinite;\n",
              "  }\n",
              "\n",
              "  @keyframes spin {\n",
              "    0% {\n",
              "      border-color: transparent;\n",
              "      border-bottom-color: var(--fill-color);\n",
              "      border-left-color: var(--fill-color);\n",
              "    }\n",
              "    20% {\n",
              "      border-color: transparent;\n",
              "      border-left-color: var(--fill-color);\n",
              "      border-top-color: var(--fill-color);\n",
              "    }\n",
              "    30% {\n",
              "      border-color: transparent;\n",
              "      border-left-color: var(--fill-color);\n",
              "      border-top-color: var(--fill-color);\n",
              "      border-right-color: var(--fill-color);\n",
              "    }\n",
              "    40% {\n",
              "      border-color: transparent;\n",
              "      border-right-color: var(--fill-color);\n",
              "      border-top-color: var(--fill-color);\n",
              "    }\n",
              "    60% {\n",
              "      border-color: transparent;\n",
              "      border-right-color: var(--fill-color);\n",
              "    }\n",
              "    80% {\n",
              "      border-color: transparent;\n",
              "      border-right-color: var(--fill-color);\n",
              "      border-bottom-color: var(--fill-color);\n",
              "    }\n",
              "    90% {\n",
              "      border-color: transparent;\n",
              "      border-bottom-color: var(--fill-color);\n",
              "    }\n",
              "  }\n",
              "</style>\n",
              "\n",
              "  <script>\n",
              "    async function quickchart(key) {\n",
              "      const quickchartButtonEl =\n",
              "        document.querySelector('#' + key + ' button');\n",
              "      quickchartButtonEl.disabled = true;  // To prevent multiple clicks.\n",
              "      quickchartButtonEl.classList.add('colab-df-spinner');\n",
              "      try {\n",
              "        const charts = await google.colab.kernel.invokeFunction(\n",
              "            'suggestCharts', [key], {});\n",
              "      } catch (error) {\n",
              "        console.error('Error during call to suggestCharts:', error);\n",
              "      }\n",
              "      quickchartButtonEl.classList.remove('colab-df-spinner');\n",
              "      quickchartButtonEl.classList.add('colab-df-quickchart-complete');\n",
              "    }\n",
              "    (() => {\n",
              "      let quickchartButtonEl =\n",
              "        document.querySelector('#df-4a513ed4-f2ca-4af5-a261-6d7540bae49a button');\n",
              "      quickchartButtonEl.style.display =\n",
              "        google.colab.kernel.accessAllowed ? 'block' : 'none';\n",
              "    })();\n",
              "  </script>\n",
              "</div>\n",
              "\n",
              "    </div>\n",
              "  </div>\n"
            ],
            "application/vnd.google.colaboratory.intrinsic+json": {
              "type": "dataframe"
            }
          },
          "metadata": {},
          "execution_count": 12
        }
      ]
    },
    {
      "cell_type": "code",
      "source": [
        "print(df.info)"
      ],
      "metadata": {
        "id": "Jm0sBpo1VUsY",
        "collapsed": true,
        "outputId": "52b27e71-0023-4cd8-a729-5823016123f2",
        "colab": {
          "base_uri": "https://localhost:8080/"
        }
      },
      "execution_count": 20,
      "outputs": [
        {
          "output_type": "stream",
          "name": "stdout",
          "text": [
            "<bound method DataFrame.info of Price        Adj Close                                                  \\\n",
            "Ticker            AAPL         ADI          AI        ANET        CROX   \n",
            "Date                                                                     \n",
            "2020-12-17  125.849930  134.495972  117.239998   71.342499   65.269997   \n",
            "2020-12-18  123.855118  135.225555  137.589996   71.930000   64.379997   \n",
            "2020-12-21  125.390350  133.382828  160.889999   71.815002   65.620003   \n",
            "2020-12-22  128.959518  134.963684  177.470001   72.705002   64.760002   \n",
            "2020-12-23  128.059906  133.972137  161.059998   71.622498   64.589996   \n",
            "...                ...         ...         ...         ...         ...   \n",
            "2024-11-19  228.279999  210.429993   32.959999  377.700012   97.980003   \n",
            "2024-11-20  229.000000  211.009995   32.360001  381.709991   98.589996   \n",
            "2024-11-21  228.520004  213.960007   34.990002  404.970001  101.809998   \n",
            "2024-11-22  229.869995  214.589996   37.419998  406.480011  106.080002   \n",
            "2024-11-25  232.869995  223.580002   37.860001  399.720001  108.529999   \n",
            "\n",
            "Price                                                                   ...  \\\n",
            "Ticker            DDOG       DXCM        ETSY        MSFT          NOW  ...   \n",
            "Date                                                                    ...   \n",
            "2020-12-17  108.699997  89.477501  188.100006  212.095352   554.070007  ...   \n",
            "2020-12-18  107.720001  89.642502  190.759995  211.293045   565.429993  ...   \n",
            "2020-12-21  106.459999  87.212502  189.199997  215.159515   550.820007  ...   \n",
            "2020-12-22  111.070000  88.557503  197.380005  216.464478   561.719971  ...   \n",
            "2020-12-23  107.440002  88.997498  190.169998  213.641937   550.059998  ...   \n",
            "...                ...        ...         ...         ...          ...  ...   \n",
            "2024-11-19  133.410004  74.879997   50.410000  416.955414  1022.099976  ...   \n",
            "2024-11-20  135.449997  75.239998   50.860001  414.659973  1022.979980  ...   \n",
            "2024-11-21  143.860001  74.459999   51.990002  412.869995  1047.050049  ...   \n",
            "2024-11-22  154.830002  72.830002   52.299999  417.000000  1060.599976  ...   \n",
            "2024-11-25  156.630005  77.830002   55.680000  418.790009  1052.709961  ...   \n",
            "\n",
            "Price         Volume                                                  \\\n",
            "Ticker          DDOG     DXCM     ETSY      MSFT      NOW       NVDA   \n",
            "Date                                                                   \n",
            "2020-12-17   4687700  2645600  4322600  32515800  1228200  231384000   \n",
            "2020-12-18   7520000  4991200  5352800  63354900  2152800  342064000   \n",
            "2020-12-21   2702100  3479600  3034000  37181900  1642400  302332000   \n",
            "2020-12-22   2940300  2806000  3372500  22612200  1199000  185580000   \n",
            "2020-12-23   1587200  2450000  2099300  18699600   887700  179144000   \n",
            "...              ...      ...      ...       ...      ...        ...   \n",
            "2024-11-19   6252000  3351900  3345100  18133500  1830200  227834900   \n",
            "2024-11-20   6353300  3077200  2234000  19191700  1141900  309871700   \n",
            "2024-11-21   8671800  3230900  2337700  20780200  1111300  400946600   \n",
            "2024-11-22  13874200  4562600  2377600  24802100  1436900  235772200   \n",
            "2024-11-25   7654744  6556778  6579015  25842761   998346  326414452   \n",
            "\n",
            "Price                                              \n",
            "Ticker           SMCI       TSLA     TWLO    ZBRA  \n",
            "Date                                               \n",
            "2020-12-17    3401000  168810300  2449200  819500  \n",
            "2020-12-18    6957000  666378600  2418800  900400  \n",
            "2020-12-21    2635000  174135900  2105400  505600  \n",
            "2020-12-22    1926000  155148000  2494200  474600  \n",
            "2020-12-23    3072000   99519000  1197100  191100  \n",
            "...               ...        ...      ...     ...  \n",
            "2024-11-19  235282900   88852500  2292100  324500  \n",
            "2024-11-20  105366500   66340700  2763000  489400  \n",
            "2024-11-21  118032600   58011700  4216400  368400  \n",
            "2024-11-22  159205900   88896400  2502500  232000  \n",
            "2024-11-25  166191735   93338715  5913672  384151  \n",
            "\n",
            "[991 rows x 90 columns]>\n"
          ]
        }
      ]
    },
    {
      "cell_type": "code",
      "source": [
        "df.index = pd.to_datetime(df.index)"
      ],
      "metadata": {
        "id": "kxkieW7OXGom"
      },
      "execution_count": 22,
      "outputs": []
    },
    {
      "cell_type": "code",
      "source": [
        "#Normalize the features\n",
        "scaler = StandardScaler()\n",
        "scaled_data = scaler.fit_transform(df.values)\n",
        "scaled_df = pd.DataFrame(scaled_data, index=df.index, columns=df.columns)"
      ],
      "metadata": {
        "id": "V_R8AcWaXbqN"
      },
      "execution_count": 54,
      "outputs": []
    },
    {
      "cell_type": "code",
      "source": [
        "print(df.head)"
      ],
      "metadata": {
        "collapsed": true,
        "id": "ZMH8lJ2brXI4",
        "outputId": "403cdd05-0c61-485e-ebfe-cd141dc7cf3c",
        "colab": {
          "base_uri": "https://localhost:8080/"
        }
      },
      "execution_count": 55,
      "outputs": [
        {
          "output_type": "stream",
          "name": "stdout",
          "text": [
            "<bound method NDFrame.head of Price        Adj Close                                                  \\\n",
            "Ticker            AAPL         ADI          AI        ANET        CROX   \n",
            "Date                                                                     \n",
            "2020-12-17  125.849930  134.495972  117.239998   71.342499   65.269997   \n",
            "2020-12-18  123.855118  135.225555  137.589996   71.930000   64.379997   \n",
            "2020-12-21  125.390350  133.382828  160.889999   71.815002   65.620003   \n",
            "2020-12-22  128.959518  134.963684  177.470001   72.705002   64.760002   \n",
            "2020-12-23  128.059906  133.972137  161.059998   71.622498   64.589996   \n",
            "...                ...         ...         ...         ...         ...   \n",
            "2024-11-19  228.279999  210.429993   32.959999  377.700012   97.980003   \n",
            "2024-11-20  229.000000  211.009995   32.360001  381.709991   98.589996   \n",
            "2024-11-21  228.520004  213.960007   34.990002  404.970001  101.809998   \n",
            "2024-11-22  229.869995  214.589996   37.419998  406.480011  106.080002   \n",
            "2024-11-25  232.869995  223.580002   37.860001  399.720001  108.529999   \n",
            "\n",
            "Price                                                                   ...  \\\n",
            "Ticker            DDOG       DXCM        ETSY        MSFT          NOW  ...   \n",
            "Date                                                                    ...   \n",
            "2020-12-17  108.699997  89.477501  188.100006  212.095352   554.070007  ...   \n",
            "2020-12-18  107.720001  89.642502  190.759995  211.293045   565.429993  ...   \n",
            "2020-12-21  106.459999  87.212502  189.199997  215.159515   550.820007  ...   \n",
            "2020-12-22  111.070000  88.557503  197.380005  216.464478   561.719971  ...   \n",
            "2020-12-23  107.440002  88.997498  190.169998  213.641937   550.059998  ...   \n",
            "...                ...        ...         ...         ...          ...  ...   \n",
            "2024-11-19  133.410004  74.879997   50.410000  416.955414  1022.099976  ...   \n",
            "2024-11-20  135.449997  75.239998   50.860001  414.659973  1022.979980  ...   \n",
            "2024-11-21  143.860001  74.459999   51.990002  412.869995  1047.050049  ...   \n",
            "2024-11-22  154.830002  72.830002   52.299999  417.000000  1060.599976  ...   \n",
            "2024-11-25  156.630005  77.830002   55.680000  418.790009  1052.709961  ...   \n",
            "\n",
            "Price         Volume                                                  \\\n",
            "Ticker          DDOG     DXCM     ETSY      MSFT      NOW       NVDA   \n",
            "Date                                                                   \n",
            "2020-12-17   4687700  2645600  4322600  32515800  1228200  231384000   \n",
            "2020-12-18   7520000  4991200  5352800  63354900  2152800  342064000   \n",
            "2020-12-21   2702100  3479600  3034000  37181900  1642400  302332000   \n",
            "2020-12-22   2940300  2806000  3372500  22612200  1199000  185580000   \n",
            "2020-12-23   1587200  2450000  2099300  18699600   887700  179144000   \n",
            "...              ...      ...      ...       ...      ...        ...   \n",
            "2024-11-19   6252000  3351900  3345100  18133500  1830200  227834900   \n",
            "2024-11-20   6353300  3077200  2234000  19191700  1141900  309871700   \n",
            "2024-11-21   8671800  3230900  2337700  20780200  1111300  400946600   \n",
            "2024-11-22  13874200  4562600  2377600  24802100  1436900  235772200   \n",
            "2024-11-25   7654744  6556778  6579015  25842761   998346  326414452   \n",
            "\n",
            "Price                                              \n",
            "Ticker           SMCI       TSLA     TWLO    ZBRA  \n",
            "Date                                               \n",
            "2020-12-17    3401000  168810300  2449200  819500  \n",
            "2020-12-18    6957000  666378600  2418800  900400  \n",
            "2020-12-21    2635000  174135900  2105400  505600  \n",
            "2020-12-22    1926000  155148000  2494200  474600  \n",
            "2020-12-23    3072000   99519000  1197100  191100  \n",
            "...               ...        ...      ...     ...  \n",
            "2024-11-19  235282900   88852500  2292100  324500  \n",
            "2024-11-20  105366500   66340700  2763000  489400  \n",
            "2024-11-21  118032600   58011700  4216400  368400  \n",
            "2024-11-22  159205900   88896400  2502500  232000  \n",
            "2024-11-25  166191735   93338715  5913672  384151  \n",
            "\n",
            "[991 rows x 90 columns]>\n"
          ]
        }
      ]
    },
    {
      "cell_type": "markdown",
      "source": [
        "# Preprocess"
      ],
      "metadata": {
        "id": "A6mFFSjPg1NG"
      }
    },
    {
      "cell_type": "code",
      "source": [
        "#featues and target\n",
        "n_future = 5 #this variable will be used when I need to predict 5 days into the future\n",
        "n_steps = 30 # last 30 days will be used as the input"
      ],
      "metadata": {
        "id": "PcBsUzG-XzyW"
      },
      "execution_count": 27,
      "outputs": []
    },
    {
      "cell_type": "code",
      "source": [
        "#prepare the sequences for training\n",
        "def create_multiticker_sequences(data, n_steps, n_future):\n",
        "  X,y = [], []\n",
        "  for i in range(len(data) - n_steps - n_future):\n",
        "    X.append(data[i: i + n_steps])\n",
        "    y.append(data[i + n_steps + n_future - 1]) # predict n_future days ahead\n",
        "  return np.array(X), np.array(y)"
      ],
      "metadata": {
        "id": "BhbvEEshX_NY"
      },
      "execution_count": 32,
      "outputs": []
    },
    {
      "cell_type": "code",
      "source": [
        "#create sequences\n",
        "X,y = create_multiticker_sequences(scaled_df.values, n_steps, n_future)"
      ],
      "metadata": {
        "id": "6dP88q9BaRLL"
      },
      "execution_count": 33,
      "outputs": []
    },
    {
      "cell_type": "code",
      "source": [
        "#Train test split\n",
        "train_size = int(len(X) * 0.8)\n",
        "X_train, X_test = X[:train_size], X[train_size:]\n",
        "y_train, y_test = y[:train_size], y[train_size:]"
      ],
      "metadata": {
        "id": "gYgTmq_vakHc"
      },
      "execution_count": 34,
      "outputs": []
    },
    {
      "cell_type": "markdown",
      "source": [
        "# LSTM"
      ],
      "metadata": {
        "id": "scWte8Veg5Mp"
      }
    },
    {
      "cell_type": "code",
      "source": [
        "def build_lstm_model(input_shape):\n",
        "  model = Sequential([\n",
        "      LSTM(100, return_sequences=True, input_shape=input_shape),\n",
        "      Dropout(0.2),\n",
        "      LSTM(100),\n",
        "      Dropout(0.2),\n",
        "      Dense(input_shape[1]) #predict all tickers at once\n",
        "  ])\n",
        "  model.compile(optimizer = 'adam', loss = 'mse')\n",
        "  return model"
      ],
      "metadata": {
        "id": "VBob0GEsavXs"
      },
      "execution_count": 35,
      "outputs": []
    },
    {
      "cell_type": "code",
      "source": [
        "#train the model\n",
        "input_shape = (n_steps, scaled_df.shape[1])\n",
        "lstm_model = build_lstm_model(input_shape)\n",
        "lstm_model.fit(X_train, y_train, epochs=10, batch_size=32, validation_data=(X_test, y_test), verbose=1)"
      ],
      "metadata": {
        "id": "TJlcWEZCfhci",
        "outputId": "d704469f-15f2-40df-bd8e-f709e4ef6601",
        "colab": {
          "base_uri": "https://localhost:8080/"
        }
      },
      "execution_count": 36,
      "outputs": [
        {
          "output_type": "stream",
          "name": "stderr",
          "text": [
            "/usr/local/lib/python3.10/dist-packages/keras/src/layers/rnn/rnn.py:204: UserWarning: Do not pass an `input_shape`/`input_dim` argument to a layer. When using Sequential models, prefer using an `Input(shape)` object as the first layer in the model instead.\n",
            "  super().__init__(**kwargs)\n"
          ]
        },
        {
          "output_type": "stream",
          "name": "stdout",
          "text": [
            "Epoch 1/10\n",
            "\u001b[1m24/24\u001b[0m \u001b[32m━━━━━━━━━━━━━━━━━━━━\u001b[0m\u001b[37m\u001b[0m \u001b[1m6s\u001b[0m 74ms/step - loss: 0.6445 - val_loss: 1.1735\n",
            "Epoch 2/10\n",
            "\u001b[1m24/24\u001b[0m \u001b[32m━━━━━━━━━━━━━━━━━━━━\u001b[0m\u001b[37m\u001b[0m \u001b[1m2s\u001b[0m 57ms/step - loss: 0.3101 - val_loss: 0.8989\n",
            "Epoch 3/10\n",
            "\u001b[1m24/24\u001b[0m \u001b[32m━━━━━━━━━━━━━━━━━━━━\u001b[0m\u001b[37m\u001b[0m \u001b[1m1s\u001b[0m 56ms/step - loss: 0.2212 - val_loss: 0.8388\n",
            "Epoch 4/10\n",
            "\u001b[1m24/24\u001b[0m \u001b[32m━━━━━━━━━━━━━━━━━━━━\u001b[0m\u001b[37m\u001b[0m \u001b[1m2s\u001b[0m 54ms/step - loss: 0.2074 - val_loss: 0.7995\n",
            "Epoch 5/10\n",
            "\u001b[1m24/24\u001b[0m \u001b[32m━━━━━━━━━━━━━━━━━━━━\u001b[0m\u001b[37m\u001b[0m \u001b[1m1s\u001b[0m 61ms/step - loss: 0.1959 - val_loss: 0.8217\n",
            "Epoch 6/10\n",
            "\u001b[1m24/24\u001b[0m \u001b[32m━━━━━━━━━━━━━━━━━━━━\u001b[0m\u001b[37m\u001b[0m \u001b[1m2s\u001b[0m 98ms/step - loss: 0.1868 - val_loss: 0.8288\n",
            "Epoch 7/10\n",
            "\u001b[1m24/24\u001b[0m \u001b[32m━━━━━━━━━━━━━━━━━━━━\u001b[0m\u001b[37m\u001b[0m \u001b[1m2s\u001b[0m 73ms/step - loss: 0.1794 - val_loss: 0.8412\n",
            "Epoch 8/10\n",
            "\u001b[1m24/24\u001b[0m \u001b[32m━━━━━━━━━━━━━━━━━━━━\u001b[0m\u001b[37m\u001b[0m \u001b[1m1s\u001b[0m 59ms/step - loss: 0.1762 - val_loss: 0.8538\n",
            "Epoch 9/10\n",
            "\u001b[1m24/24\u001b[0m \u001b[32m━━━━━━━━━━━━━━━━━━━━\u001b[0m\u001b[37m\u001b[0m \u001b[1m3s\u001b[0m 58ms/step - loss: 0.1843 - val_loss: 0.8422\n",
            "Epoch 10/10\n",
            "\u001b[1m24/24\u001b[0m \u001b[32m━━━━━━━━━━━━━━━━━━━━\u001b[0m\u001b[37m\u001b[0m \u001b[1m1s\u001b[0m 55ms/step - loss: 0.1682 - val_loss: 0.8673\n"
          ]
        },
        {
          "output_type": "execute_result",
          "data": {
            "text/plain": [
              "<keras.src.callbacks.history.History at 0x7e9f4fa1ded0>"
            ]
          },
          "metadata": {},
          "execution_count": 36
        }
      ]
    },
    {
      "cell_type": "code",
      "source": [
        "lstm_predictions = lstm_model.predict(X_test)"
      ],
      "metadata": {
        "id": "y3RGmwmhgFc4",
        "outputId": "b5a775e4-5c1d-496c-8210-6c4e44100ccf",
        "colab": {
          "base_uri": "https://localhost:8080/"
        }
      },
      "execution_count": 37,
      "outputs": [
        {
          "output_type": "stream",
          "name": "stdout",
          "text": [
            "\u001b[1m6/6\u001b[0m \u001b[32m━━━━━━━━━━━━━━━━━━━━\u001b[0m\u001b[37m\u001b[0m \u001b[1m0s\u001b[0m 18ms/step\n"
          ]
        }
      ]
    },
    {
      "cell_type": "code",
      "source": [
        "#regression analytics\n",
        "mse = mean_squared_error(y_test, lstm_predictions)\n",
        "mae = mean_absolute_error(y_test, lstm_predictions)\n",
        "rmse = np.sqrt(mse)\n",
        "r2 = r2_score(y_test, lstm_predictions)"
      ],
      "metadata": {
        "id": "jzwG1qMQg1uE"
      },
      "execution_count": 44,
      "outputs": []
    },
    {
      "cell_type": "code",
      "source": [
        "print(f'MSE: {mse}')\n",
        "print(f'MAE: {mae}')\n",
        "print(f'RMSE: {rmse}')\n",
        "print(f'R2: {r2}')"
      ],
      "metadata": {
        "id": "dr-AqCVYlMXF",
        "outputId": "80d0c468-25aa-461d-9eee-676123d90279",
        "colab": {
          "base_uri": "https://localhost:8080/"
        }
      },
      "execution_count": 45,
      "outputs": [
        {
          "output_type": "stream",
          "name": "stdout",
          "text": [
            "MSE: 0.8673297743089753\n",
            "MAE: 0.6759202047541273\n",
            "RMSE: 0.9313054140876532\n",
            "R2: -2.3429148533651585\n"
          ]
        }
      ]
    },
    {
      "cell_type": "code",
      "source": [
        "#calculate profit or loss on predicted movement\n",
        "actual_returns = y_test[1:] - y_test[:-1]\n",
        "predicted_returns = lstm_predictions[1:] - lstm_predictions[:-1]\n"
      ],
      "metadata": {
        "id": "EAXVUg5GiQOt"
      },
      "execution_count": 46,
      "outputs": []
    },
    {
      "cell_type": "code",
      "source": [
        "strategy_returns = np.sign(predicted_returns) * actual_returns\n",
        "pnl = np.sum(strategy_returns) #profit and loss\n",
        "print(pnl)"
      ],
      "metadata": {
        "id": "ShzP916ol1_w"
      },
      "execution_count": 47,
      "outputs": []
    },
    {
      "cell_type": "code",
      "source": [
        "mean_return = np.mean(strategy_returns)\n",
        "std_return = np.std(strategy_returns)\n",
        "sharpe_ratio = mean_return / std_return\n",
        "print(sharpe_ratio)"
      ],
      "metadata": {
        "id": "RC2GjCFjp_f1",
        "outputId": "a07cd743-4a69-478c-b349-d1ed631f7e42",
        "colab": {
          "base_uri": "https://localhost:8080/"
        }
      },
      "execution_count": 49,
      "outputs": [
        {
          "output_type": "stream",
          "name": "stdout",
          "text": [
            "-0.0016171967215591555\n"
          ]
        }
      ]
    },
    {
      "cell_type": "code",
      "source": [
        "#Hit ratio is the proportion of the model correctly predicting the direction of the stock movement\n",
        "hits = np.sign(predicted_returns) == np.sign(actual_returns)\n",
        "hit_ratio = np.sum(hits) / len(hits)\n",
        "print(f\"LSTM Hit Ratio: {hit_ratio:.4f}\")"
      ],
      "metadata": {
        "id": "OkoaJK9TqUgV",
        "outputId": "2cef4425-3a1d-4207-dd52-49850606f30f",
        "colab": {
          "base_uri": "https://localhost:8080/"
        }
      },
      "execution_count": 51,
      "outputs": [
        {
          "output_type": "stream",
          "name": "stdout",
          "text": [
            "LSTM Hit Ratio: 44.8063\n"
          ]
        }
      ]
    },
    {
      "cell_type": "code",
      "source": [],
      "metadata": {
        "id": "gRGYHy9SqpIY"
      },
      "execution_count": null,
      "outputs": []
    },
    {
      "cell_type": "markdown",
      "source": [
        "#TCN"
      ],
      "metadata": {
        "id": "yNuW05xirsbA"
      }
    },
    {
      "cell_type": "code",
      "source": [],
      "metadata": {
        "id": "qnXPttYusC8A"
      },
      "execution_count": null,
      "outputs": []
    }
  ]
}