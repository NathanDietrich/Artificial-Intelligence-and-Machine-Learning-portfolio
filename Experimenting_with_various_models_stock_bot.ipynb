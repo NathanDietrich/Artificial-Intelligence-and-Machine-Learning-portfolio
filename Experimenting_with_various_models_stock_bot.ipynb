{
  "nbformat": 4,
  "nbformat_minor": 0,
  "metadata": {
    "colab": {
      "provenance": [],
      "machine_shape": "hm",
      "gpuType": "A100",
      "authorship_tag": "ABX9TyPiGsg6BtDPs2hkyWoO68C2",
      "include_colab_link": true
    },
    "kernelspec": {
      "name": "python3",
      "display_name": "Python 3"
    },
    "language_info": {
      "name": "python"
    },
    "accelerator": "GPU"
  },
  "cells": [
    {
      "cell_type": "markdown",
      "metadata": {
        "id": "view-in-github",
        "colab_type": "text"
      },
      "source": [
        "<a href=\"https://colab.research.google.com/github/NathanDietrich/Artificial-Intelligence-and-Machine-Learning-portfolio/blob/main/Experimenting_with_various_models_stock_bot.ipynb\" target=\"_parent\"><img src=\"https://colab.research.google.com/assets/colab-badge.svg\" alt=\"Open In Colab\"/></a>"
      ]
    },
    {
      "cell_type": "markdown",
      "source": [
        "# Grabbing Stock Data"
      ],
      "metadata": {
        "id": "7NT65AARgvRY"
      }
    },
    {
      "cell_type": "code",
      "source": [
        "!pip install yfinance --upgrade --no-cache-dir"
      ],
      "metadata": {
        "colab": {
          "base_uri": "https://localhost:8080/"
        },
        "id": "ckIuuSrJTKhd",
        "outputId": "8ae42d33-2790-4133-b80e-bc767dec78ad"
      },
      "execution_count": 1,
      "outputs": [
        {
          "output_type": "stream",
          "name": "stdout",
          "text": [
            "Requirement already satisfied: yfinance in /usr/local/lib/python3.10/dist-packages (0.2.49)\n",
            "Collecting yfinance\n",
            "  Downloading yfinance-0.2.50-py2.py3-none-any.whl.metadata (5.5 kB)\n",
            "Requirement already satisfied: pandas>=1.3.0 in /usr/local/lib/python3.10/dist-packages (from yfinance) (2.2.2)\n",
            "Requirement already satisfied: numpy>=1.16.5 in /usr/local/lib/python3.10/dist-packages (from yfinance) (1.26.4)\n",
            "Requirement already satisfied: requests>=2.31 in /usr/local/lib/python3.10/dist-packages (from yfinance) (2.32.3)\n",
            "Requirement already satisfied: multitasking>=0.0.7 in /usr/local/lib/python3.10/dist-packages (from yfinance) (0.0.11)\n",
            "Requirement already satisfied: lxml>=4.9.1 in /usr/local/lib/python3.10/dist-packages (from yfinance) (5.3.0)\n",
            "Requirement already satisfied: platformdirs>=2.0.0 in /usr/local/lib/python3.10/dist-packages (from yfinance) (4.3.6)\n",
            "Requirement already satisfied: pytz>=2022.5 in /usr/local/lib/python3.10/dist-packages (from yfinance) (2024.2)\n",
            "Requirement already satisfied: frozendict>=2.3.4 in /usr/local/lib/python3.10/dist-packages (from yfinance) (2.4.6)\n",
            "Requirement already satisfied: peewee>=3.16.2 in /usr/local/lib/python3.10/dist-packages (from yfinance) (3.17.8)\n",
            "Requirement already satisfied: beautifulsoup4>=4.11.1 in /usr/local/lib/python3.10/dist-packages (from yfinance) (4.12.3)\n",
            "Requirement already satisfied: html5lib>=1.1 in /usr/local/lib/python3.10/dist-packages (from yfinance) (1.1)\n",
            "Requirement already satisfied: soupsieve>1.2 in /usr/local/lib/python3.10/dist-packages (from beautifulsoup4>=4.11.1->yfinance) (2.6)\n",
            "Requirement already satisfied: six>=1.9 in /usr/local/lib/python3.10/dist-packages (from html5lib>=1.1->yfinance) (1.16.0)\n",
            "Requirement already satisfied: webencodings in /usr/local/lib/python3.10/dist-packages (from html5lib>=1.1->yfinance) (0.5.1)\n",
            "Requirement already satisfied: python-dateutil>=2.8.2 in /usr/local/lib/python3.10/dist-packages (from pandas>=1.3.0->yfinance) (2.8.2)\n",
            "Requirement already satisfied: tzdata>=2022.7 in /usr/local/lib/python3.10/dist-packages (from pandas>=1.3.0->yfinance) (2024.2)\n",
            "Requirement already satisfied: charset-normalizer<4,>=2 in /usr/local/lib/python3.10/dist-packages (from requests>=2.31->yfinance) (3.4.0)\n",
            "Requirement already satisfied: idna<4,>=2.5 in /usr/local/lib/python3.10/dist-packages (from requests>=2.31->yfinance) (3.10)\n",
            "Requirement already satisfied: urllib3<3,>=1.21.1 in /usr/local/lib/python3.10/dist-packages (from requests>=2.31->yfinance) (2.2.3)\n",
            "Requirement already satisfied: certifi>=2017.4.17 in /usr/local/lib/python3.10/dist-packages (from requests>=2.31->yfinance) (2024.8.30)\n",
            "Downloading yfinance-0.2.50-py2.py3-none-any.whl (102 kB)\n",
            "\u001b[2K   \u001b[90m━━━━━━━━━━━━━━━━━━━━━━━━━━━━━━━━━━━━━━━━\u001b[0m \u001b[32m102.2/102.2 kB\u001b[0m \u001b[31m2.6 MB/s\u001b[0m eta \u001b[36m0:00:00\u001b[0m\n",
            "\u001b[?25hInstalling collected packages: yfinance\n",
            "  Attempting uninstall: yfinance\n",
            "    Found existing installation: yfinance 0.2.49\n",
            "    Uninstalling yfinance-0.2.49:\n",
            "      Successfully uninstalled yfinance-0.2.49\n",
            "Successfully installed yfinance-0.2.50\n"
          ]
        }
      ]
    },
    {
      "cell_type": "code",
      "execution_count": 2,
      "metadata": {
        "id": "i3QaZwgNRlhZ"
      },
      "outputs": [],
      "source": [
        "import datetime as dt\n",
        "import pandas as pd\n",
        "from pandas_datareader import data as pdr\n",
        "import yfinance as yf\n",
        "import numpy as np\n",
        "from sklearn.model_selection import TimeSeriesSplit\n",
        "from sklearn.preprocessing import StandardScaler\n",
        "import tensorflow as tf\n",
        "from tensorflow.keras.models import Sequential\n",
        "from tensorflow.keras.layers import LSTM, Dense, Dropout\n",
        "from sklearn.metrics import mean_absolute_error, mean_squared_error, r2_score"
      ]
    },
    {
      "cell_type": "code",
      "source": [
        "#define range of study\n",
        "end = dt.datetime.now()\n",
        "start = end - dt.timedelta(days = 4*360)\n",
        "start, end"
      ],
      "metadata": {
        "colab": {
          "base_uri": "https://localhost:8080/"
        },
        "id": "_TjMFRLvTcxE",
        "outputId": "6fcbc83d-ba65-4228-a594-82a099b12e3a"
      },
      "execution_count": 3,
      "outputs": [
        {
          "output_type": "execute_result",
          "data": {
            "text/plain": [
              "(datetime.datetime(2020, 12, 17, 19, 44, 31, 188329),\n",
              " datetime.datetime(2024, 11, 26, 19, 44, 31, 188329))"
            ]
          },
          "metadata": {},
          "execution_count": 3
        }
      ]
    },
    {
      "cell_type": "code",
      "source": [
        "#Choose stock tickers to study\n",
        "stockList = ['NVDA', 'MSFT', 'AAPL', 'TSLA', 'AI', 'SMCI', 'ADI', 'NOW', 'DDOG', 'CROX', 'TWLO', 'ETSY', 'DXCM', 'ZBRA', 'ANET']\n",
        "stocks = [i for i in stockList]\n",
        "stocks"
      ],
      "metadata": {
        "colab": {
          "base_uri": "https://localhost:8080/"
        },
        "id": "bQcq8fiwTvC5",
        "outputId": "70a50187-4c44-4216-b904-cafd746b9473"
      },
      "execution_count": 4,
      "outputs": [
        {
          "output_type": "execute_result",
          "data": {
            "text/plain": [
              "['NVDA',\n",
              " 'MSFT',\n",
              " 'AAPL',\n",
              " 'TSLA',\n",
              " 'AI',\n",
              " 'SMCI',\n",
              " 'ADI',\n",
              " 'NOW',\n",
              " 'DDOG',\n",
              " 'CROX',\n",
              " 'TWLO',\n",
              " 'ETSY',\n",
              " 'DXCM',\n",
              " 'ZBRA',\n",
              " 'ANET']"
            ]
          },
          "metadata": {},
          "execution_count": 4
        }
      ]
    },
    {
      "cell_type": "code",
      "source": [
        "df = yf.download(stocks, start, end)"
      ],
      "metadata": {
        "colab": {
          "base_uri": "https://localhost:8080/"
        },
        "id": "4Nwu-IHKUg5X",
        "outputId": "6ce5a01e-23e0-4086-e8ce-8a1a7eac3d26"
      },
      "execution_count": 5,
      "outputs": [
        {
          "output_type": "stream",
          "name": "stderr",
          "text": [
            "[*********************100%***********************]  15 of 15 completed\n"
          ]
        }
      ]
    },
    {
      "cell_type": "code",
      "source": [
        "df.tail()"
      ],
      "metadata": {
        "colab": {
          "base_uri": "https://localhost:8080/",
          "height": 405
        },
        "id": "HxrGSjsgVLSJ",
        "outputId": "a4ec2032-7c2f-4c7f-b202-c5d601978f08"
      },
      "execution_count": 6,
      "outputs": [
        {
          "output_type": "execute_result",
          "data": {
            "text/plain": [
              "Price        Adj Close                                                 \\\n",
              "Ticker            AAPL         ADI         AI        ANET        CROX   \n",
              "Date                                                                    \n",
              "2024-11-20  229.000000  211.009995  32.360001  381.709991   98.589996   \n",
              "2024-11-21  228.520004  213.960007  34.990002  404.970001  101.809998   \n",
              "2024-11-22  229.869995  214.589996  37.419998  406.480011  106.080002   \n",
              "2024-11-25  232.869995  223.580002  37.860001  399.720001  108.529999   \n",
              "2024-11-26  234.889999  217.070007  36.380001  408.170013  104.820000   \n",
              "\n",
              "Price                                                                  ...  \\\n",
              "Ticker            DDOG       DXCM       ETSY        MSFT          NOW  ...   \n",
              "Date                                                                   ...   \n",
              "2024-11-20  135.449997  75.239998  50.860001  414.659973  1022.979980  ...   \n",
              "2024-11-21  143.860001  74.459999  51.990002  412.869995  1047.050049  ...   \n",
              "2024-11-22  154.830002  72.830002  52.299999  417.000000  1060.599976  ...   \n",
              "2024-11-25  156.630005  77.830002  55.680000  418.790009  1052.709961  ...   \n",
              "2024-11-26  154.610001  77.519997  54.709999  427.105011  1065.609985  ...   \n",
              "\n",
              "Price         Volume                                                  \\\n",
              "Ticker          DDOG     DXCM     ETSY      MSFT      NOW       NVDA   \n",
              "Date                                                                   \n",
              "2024-11-20   6353300  3077200  2234000  19191700  1141900  309871700   \n",
              "2024-11-21   8671800  3230900  2337700  20780200  1111300  400946600   \n",
              "2024-11-22  13878800  4562600  2379700  24814600  1436900  236406200   \n",
              "2024-11-25   7686200  6579300  7691600  27691100  1930200  344941900   \n",
              "2024-11-26   2679308  2403279  1060760  13048771   414104  143505670   \n",
              "\n",
              "Price                                             \n",
              "Ticker           SMCI      TSLA     TWLO    ZBRA  \n",
              "Date                                              \n",
              "2024-11-20  105366500  66340700  2763000  489400  \n",
              "2024-11-21  118032600  58011700  4216400  368400  \n",
              "2024-11-22  159607100  89140700  2504200  232000  \n",
              "2024-11-25  170113700  95890900  5962900  420200  \n",
              "2024-11-26   78369990  48847164   968002  166164  \n",
              "\n",
              "[5 rows x 90 columns]"
            ],
            "text/html": [
              "\n",
              "  <div id=\"df-6ec9467a-3a4c-4929-845e-3fc9a810f8c2\" class=\"colab-df-container\">\n",
              "    <div>\n",
              "<style scoped>\n",
              "    .dataframe tbody tr th:only-of-type {\n",
              "        vertical-align: middle;\n",
              "    }\n",
              "\n",
              "    .dataframe tbody tr th {\n",
              "        vertical-align: top;\n",
              "    }\n",
              "\n",
              "    .dataframe thead tr th {\n",
              "        text-align: left;\n",
              "    }\n",
              "\n",
              "    .dataframe thead tr:last-of-type th {\n",
              "        text-align: right;\n",
              "    }\n",
              "</style>\n",
              "<table border=\"1\" class=\"dataframe\">\n",
              "  <thead>\n",
              "    <tr>\n",
              "      <th>Price</th>\n",
              "      <th colspan=\"10\" halign=\"left\">Adj Close</th>\n",
              "      <th>...</th>\n",
              "      <th colspan=\"10\" halign=\"left\">Volume</th>\n",
              "    </tr>\n",
              "    <tr>\n",
              "      <th>Ticker</th>\n",
              "      <th>AAPL</th>\n",
              "      <th>ADI</th>\n",
              "      <th>AI</th>\n",
              "      <th>ANET</th>\n",
              "      <th>CROX</th>\n",
              "      <th>DDOG</th>\n",
              "      <th>DXCM</th>\n",
              "      <th>ETSY</th>\n",
              "      <th>MSFT</th>\n",
              "      <th>NOW</th>\n",
              "      <th>...</th>\n",
              "      <th>DDOG</th>\n",
              "      <th>DXCM</th>\n",
              "      <th>ETSY</th>\n",
              "      <th>MSFT</th>\n",
              "      <th>NOW</th>\n",
              "      <th>NVDA</th>\n",
              "      <th>SMCI</th>\n",
              "      <th>TSLA</th>\n",
              "      <th>TWLO</th>\n",
              "      <th>ZBRA</th>\n",
              "    </tr>\n",
              "    <tr>\n",
              "      <th>Date</th>\n",
              "      <th></th>\n",
              "      <th></th>\n",
              "      <th></th>\n",
              "      <th></th>\n",
              "      <th></th>\n",
              "      <th></th>\n",
              "      <th></th>\n",
              "      <th></th>\n",
              "      <th></th>\n",
              "      <th></th>\n",
              "      <th></th>\n",
              "      <th></th>\n",
              "      <th></th>\n",
              "      <th></th>\n",
              "      <th></th>\n",
              "      <th></th>\n",
              "      <th></th>\n",
              "      <th></th>\n",
              "      <th></th>\n",
              "      <th></th>\n",
              "      <th></th>\n",
              "    </tr>\n",
              "  </thead>\n",
              "  <tbody>\n",
              "    <tr>\n",
              "      <th>2024-11-20</th>\n",
              "      <td>229.000000</td>\n",
              "      <td>211.009995</td>\n",
              "      <td>32.360001</td>\n",
              "      <td>381.709991</td>\n",
              "      <td>98.589996</td>\n",
              "      <td>135.449997</td>\n",
              "      <td>75.239998</td>\n",
              "      <td>50.860001</td>\n",
              "      <td>414.659973</td>\n",
              "      <td>1022.979980</td>\n",
              "      <td>...</td>\n",
              "      <td>6353300</td>\n",
              "      <td>3077200</td>\n",
              "      <td>2234000</td>\n",
              "      <td>19191700</td>\n",
              "      <td>1141900</td>\n",
              "      <td>309871700</td>\n",
              "      <td>105366500</td>\n",
              "      <td>66340700</td>\n",
              "      <td>2763000</td>\n",
              "      <td>489400</td>\n",
              "    </tr>\n",
              "    <tr>\n",
              "      <th>2024-11-21</th>\n",
              "      <td>228.520004</td>\n",
              "      <td>213.960007</td>\n",
              "      <td>34.990002</td>\n",
              "      <td>404.970001</td>\n",
              "      <td>101.809998</td>\n",
              "      <td>143.860001</td>\n",
              "      <td>74.459999</td>\n",
              "      <td>51.990002</td>\n",
              "      <td>412.869995</td>\n",
              "      <td>1047.050049</td>\n",
              "      <td>...</td>\n",
              "      <td>8671800</td>\n",
              "      <td>3230900</td>\n",
              "      <td>2337700</td>\n",
              "      <td>20780200</td>\n",
              "      <td>1111300</td>\n",
              "      <td>400946600</td>\n",
              "      <td>118032600</td>\n",
              "      <td>58011700</td>\n",
              "      <td>4216400</td>\n",
              "      <td>368400</td>\n",
              "    </tr>\n",
              "    <tr>\n",
              "      <th>2024-11-22</th>\n",
              "      <td>229.869995</td>\n",
              "      <td>214.589996</td>\n",
              "      <td>37.419998</td>\n",
              "      <td>406.480011</td>\n",
              "      <td>106.080002</td>\n",
              "      <td>154.830002</td>\n",
              "      <td>72.830002</td>\n",
              "      <td>52.299999</td>\n",
              "      <td>417.000000</td>\n",
              "      <td>1060.599976</td>\n",
              "      <td>...</td>\n",
              "      <td>13878800</td>\n",
              "      <td>4562600</td>\n",
              "      <td>2379700</td>\n",
              "      <td>24814600</td>\n",
              "      <td>1436900</td>\n",
              "      <td>236406200</td>\n",
              "      <td>159607100</td>\n",
              "      <td>89140700</td>\n",
              "      <td>2504200</td>\n",
              "      <td>232000</td>\n",
              "    </tr>\n",
              "    <tr>\n",
              "      <th>2024-11-25</th>\n",
              "      <td>232.869995</td>\n",
              "      <td>223.580002</td>\n",
              "      <td>37.860001</td>\n",
              "      <td>399.720001</td>\n",
              "      <td>108.529999</td>\n",
              "      <td>156.630005</td>\n",
              "      <td>77.830002</td>\n",
              "      <td>55.680000</td>\n",
              "      <td>418.790009</td>\n",
              "      <td>1052.709961</td>\n",
              "      <td>...</td>\n",
              "      <td>7686200</td>\n",
              "      <td>6579300</td>\n",
              "      <td>7691600</td>\n",
              "      <td>27691100</td>\n",
              "      <td>1930200</td>\n",
              "      <td>344941900</td>\n",
              "      <td>170113700</td>\n",
              "      <td>95890900</td>\n",
              "      <td>5962900</td>\n",
              "      <td>420200</td>\n",
              "    </tr>\n",
              "    <tr>\n",
              "      <th>2024-11-26</th>\n",
              "      <td>234.889999</td>\n",
              "      <td>217.070007</td>\n",
              "      <td>36.380001</td>\n",
              "      <td>408.170013</td>\n",
              "      <td>104.820000</td>\n",
              "      <td>154.610001</td>\n",
              "      <td>77.519997</td>\n",
              "      <td>54.709999</td>\n",
              "      <td>427.105011</td>\n",
              "      <td>1065.609985</td>\n",
              "      <td>...</td>\n",
              "      <td>2679308</td>\n",
              "      <td>2403279</td>\n",
              "      <td>1060760</td>\n",
              "      <td>13048771</td>\n",
              "      <td>414104</td>\n",
              "      <td>143505670</td>\n",
              "      <td>78369990</td>\n",
              "      <td>48847164</td>\n",
              "      <td>968002</td>\n",
              "      <td>166164</td>\n",
              "    </tr>\n",
              "  </tbody>\n",
              "</table>\n",
              "<p>5 rows × 90 columns</p>\n",
              "</div>\n",
              "    <div class=\"colab-df-buttons\">\n",
              "\n",
              "  <div class=\"colab-df-container\">\n",
              "    <button class=\"colab-df-convert\" onclick=\"convertToInteractive('df-6ec9467a-3a4c-4929-845e-3fc9a810f8c2')\"\n",
              "            title=\"Convert this dataframe to an interactive table.\"\n",
              "            style=\"display:none;\">\n",
              "\n",
              "  <svg xmlns=\"http://www.w3.org/2000/svg\" height=\"24px\" viewBox=\"0 -960 960 960\">\n",
              "    <path d=\"M120-120v-720h720v720H120Zm60-500h600v-160H180v160Zm220 220h160v-160H400v160Zm0 220h160v-160H400v160ZM180-400h160v-160H180v160Zm440 0h160v-160H620v160ZM180-180h160v-160H180v160Zm440 0h160v-160H620v160Z\"/>\n",
              "  </svg>\n",
              "    </button>\n",
              "\n",
              "  <style>\n",
              "    .colab-df-container {\n",
              "      display:flex;\n",
              "      gap: 12px;\n",
              "    }\n",
              "\n",
              "    .colab-df-convert {\n",
              "      background-color: #E8F0FE;\n",
              "      border: none;\n",
              "      border-radius: 50%;\n",
              "      cursor: pointer;\n",
              "      display: none;\n",
              "      fill: #1967D2;\n",
              "      height: 32px;\n",
              "      padding: 0 0 0 0;\n",
              "      width: 32px;\n",
              "    }\n",
              "\n",
              "    .colab-df-convert:hover {\n",
              "      background-color: #E2EBFA;\n",
              "      box-shadow: 0px 1px 2px rgba(60, 64, 67, 0.3), 0px 1px 3px 1px rgba(60, 64, 67, 0.15);\n",
              "      fill: #174EA6;\n",
              "    }\n",
              "\n",
              "    .colab-df-buttons div {\n",
              "      margin-bottom: 4px;\n",
              "    }\n",
              "\n",
              "    [theme=dark] .colab-df-convert {\n",
              "      background-color: #3B4455;\n",
              "      fill: #D2E3FC;\n",
              "    }\n",
              "\n",
              "    [theme=dark] .colab-df-convert:hover {\n",
              "      background-color: #434B5C;\n",
              "      box-shadow: 0px 1px 3px 1px rgba(0, 0, 0, 0.15);\n",
              "      filter: drop-shadow(0px 1px 2px rgba(0, 0, 0, 0.3));\n",
              "      fill: #FFFFFF;\n",
              "    }\n",
              "  </style>\n",
              "\n",
              "    <script>\n",
              "      const buttonEl =\n",
              "        document.querySelector('#df-6ec9467a-3a4c-4929-845e-3fc9a810f8c2 button.colab-df-convert');\n",
              "      buttonEl.style.display =\n",
              "        google.colab.kernel.accessAllowed ? 'block' : 'none';\n",
              "\n",
              "      async function convertToInteractive(key) {\n",
              "        const element = document.querySelector('#df-6ec9467a-3a4c-4929-845e-3fc9a810f8c2');\n",
              "        const dataTable =\n",
              "          await google.colab.kernel.invokeFunction('convertToInteractive',\n",
              "                                                    [key], {});\n",
              "        if (!dataTable) return;\n",
              "\n",
              "        const docLinkHtml = 'Like what you see? Visit the ' +\n",
              "          '<a target=\"_blank\" href=https://colab.research.google.com/notebooks/data_table.ipynb>data table notebook</a>'\n",
              "          + ' to learn more about interactive tables.';\n",
              "        element.innerHTML = '';\n",
              "        dataTable['output_type'] = 'display_data';\n",
              "        await google.colab.output.renderOutput(dataTable, element);\n",
              "        const docLink = document.createElement('div');\n",
              "        docLink.innerHTML = docLinkHtml;\n",
              "        element.appendChild(docLink);\n",
              "      }\n",
              "    </script>\n",
              "  </div>\n",
              "\n",
              "\n",
              "<div id=\"df-b3cfe230-5b72-4d68-b742-d46dc42b69af\">\n",
              "  <button class=\"colab-df-quickchart\" onclick=\"quickchart('df-b3cfe230-5b72-4d68-b742-d46dc42b69af')\"\n",
              "            title=\"Suggest charts\"\n",
              "            style=\"display:none;\">\n",
              "\n",
              "<svg xmlns=\"http://www.w3.org/2000/svg\" height=\"24px\"viewBox=\"0 0 24 24\"\n",
              "     width=\"24px\">\n",
              "    <g>\n",
              "        <path d=\"M19 3H5c-1.1 0-2 .9-2 2v14c0 1.1.9 2 2 2h14c1.1 0 2-.9 2-2V5c0-1.1-.9-2-2-2zM9 17H7v-7h2v7zm4 0h-2V7h2v10zm4 0h-2v-4h2v4z\"/>\n",
              "    </g>\n",
              "</svg>\n",
              "  </button>\n",
              "\n",
              "<style>\n",
              "  .colab-df-quickchart {\n",
              "      --bg-color: #E8F0FE;\n",
              "      --fill-color: #1967D2;\n",
              "      --hover-bg-color: #E2EBFA;\n",
              "      --hover-fill-color: #174EA6;\n",
              "      --disabled-fill-color: #AAA;\n",
              "      --disabled-bg-color: #DDD;\n",
              "  }\n",
              "\n",
              "  [theme=dark] .colab-df-quickchart {\n",
              "      --bg-color: #3B4455;\n",
              "      --fill-color: #D2E3FC;\n",
              "      --hover-bg-color: #434B5C;\n",
              "      --hover-fill-color: #FFFFFF;\n",
              "      --disabled-bg-color: #3B4455;\n",
              "      --disabled-fill-color: #666;\n",
              "  }\n",
              "\n",
              "  .colab-df-quickchart {\n",
              "    background-color: var(--bg-color);\n",
              "    border: none;\n",
              "    border-radius: 50%;\n",
              "    cursor: pointer;\n",
              "    display: none;\n",
              "    fill: var(--fill-color);\n",
              "    height: 32px;\n",
              "    padding: 0;\n",
              "    width: 32px;\n",
              "  }\n",
              "\n",
              "  .colab-df-quickchart:hover {\n",
              "    background-color: var(--hover-bg-color);\n",
              "    box-shadow: 0 1px 2px rgba(60, 64, 67, 0.3), 0 1px 3px 1px rgba(60, 64, 67, 0.15);\n",
              "    fill: var(--button-hover-fill-color);\n",
              "  }\n",
              "\n",
              "  .colab-df-quickchart-complete:disabled,\n",
              "  .colab-df-quickchart-complete:disabled:hover {\n",
              "    background-color: var(--disabled-bg-color);\n",
              "    fill: var(--disabled-fill-color);\n",
              "    box-shadow: none;\n",
              "  }\n",
              "\n",
              "  .colab-df-spinner {\n",
              "    border: 2px solid var(--fill-color);\n",
              "    border-color: transparent;\n",
              "    border-bottom-color: var(--fill-color);\n",
              "    animation:\n",
              "      spin 1s steps(1) infinite;\n",
              "  }\n",
              "\n",
              "  @keyframes spin {\n",
              "    0% {\n",
              "      border-color: transparent;\n",
              "      border-bottom-color: var(--fill-color);\n",
              "      border-left-color: var(--fill-color);\n",
              "    }\n",
              "    20% {\n",
              "      border-color: transparent;\n",
              "      border-left-color: var(--fill-color);\n",
              "      border-top-color: var(--fill-color);\n",
              "    }\n",
              "    30% {\n",
              "      border-color: transparent;\n",
              "      border-left-color: var(--fill-color);\n",
              "      border-top-color: var(--fill-color);\n",
              "      border-right-color: var(--fill-color);\n",
              "    }\n",
              "    40% {\n",
              "      border-color: transparent;\n",
              "      border-right-color: var(--fill-color);\n",
              "      border-top-color: var(--fill-color);\n",
              "    }\n",
              "    60% {\n",
              "      border-color: transparent;\n",
              "      border-right-color: var(--fill-color);\n",
              "    }\n",
              "    80% {\n",
              "      border-color: transparent;\n",
              "      border-right-color: var(--fill-color);\n",
              "      border-bottom-color: var(--fill-color);\n",
              "    }\n",
              "    90% {\n",
              "      border-color: transparent;\n",
              "      border-bottom-color: var(--fill-color);\n",
              "    }\n",
              "  }\n",
              "</style>\n",
              "\n",
              "  <script>\n",
              "    async function quickchart(key) {\n",
              "      const quickchartButtonEl =\n",
              "        document.querySelector('#' + key + ' button');\n",
              "      quickchartButtonEl.disabled = true;  // To prevent multiple clicks.\n",
              "      quickchartButtonEl.classList.add('colab-df-spinner');\n",
              "      try {\n",
              "        const charts = await google.colab.kernel.invokeFunction(\n",
              "            'suggestCharts', [key], {});\n",
              "      } catch (error) {\n",
              "        console.error('Error during call to suggestCharts:', error);\n",
              "      }\n",
              "      quickchartButtonEl.classList.remove('colab-df-spinner');\n",
              "      quickchartButtonEl.classList.add('colab-df-quickchart-complete');\n",
              "    }\n",
              "    (() => {\n",
              "      let quickchartButtonEl =\n",
              "        document.querySelector('#df-b3cfe230-5b72-4d68-b742-d46dc42b69af button');\n",
              "      quickchartButtonEl.style.display =\n",
              "        google.colab.kernel.accessAllowed ? 'block' : 'none';\n",
              "    })();\n",
              "  </script>\n",
              "</div>\n",
              "\n",
              "    </div>\n",
              "  </div>\n"
            ],
            "application/vnd.google.colaboratory.intrinsic+json": {
              "type": "dataframe"
            }
          },
          "metadata": {},
          "execution_count": 6
        }
      ]
    },
    {
      "cell_type": "code",
      "source": [
        "print(df.info)"
      ],
      "metadata": {
        "id": "Jm0sBpo1VUsY",
        "collapsed": true,
        "outputId": "b46dd6ac-6ca2-404b-d237-d706844bf707",
        "colab": {
          "base_uri": "https://localhost:8080/"
        }
      },
      "execution_count": 7,
      "outputs": [
        {
          "output_type": "stream",
          "name": "stdout",
          "text": [
            "<bound method DataFrame.info of Price        Adj Close                                                  \\\n",
            "Ticker            AAPL         ADI          AI        ANET        CROX   \n",
            "Date                                                                     \n",
            "2020-12-18  123.855110  135.225586  137.589996   71.930000   64.379997   \n",
            "2020-12-21  125.390335  133.382797  160.889999   71.815002   65.620003   \n",
            "2020-12-22  128.959534  134.963684  177.470001   72.705002   64.760002   \n",
            "2020-12-23  128.059891  133.972107  161.059998   71.622498   64.589996   \n",
            "2020-12-24  129.047531  135.141434  161.000000   72.209999   62.689999   \n",
            "...                ...         ...         ...         ...         ...   \n",
            "2024-11-20  229.000000  211.009995   32.360001  381.709991   98.589996   \n",
            "2024-11-21  228.520004  213.960007   34.990002  404.970001  101.809998   \n",
            "2024-11-22  229.869995  214.589996   37.419998  406.480011  106.080002   \n",
            "2024-11-25  232.869995  223.580002   37.860001  399.720001  108.529999   \n",
            "2024-11-26  234.889999  217.070007   36.380001  408.170013  104.820000   \n",
            "\n",
            "Price                                                                   ...  \\\n",
            "Ticker            DDOG       DXCM        ETSY        MSFT          NOW  ...   \n",
            "Date                                                                    ...   \n",
            "2020-12-18  107.720001  89.642502  190.759995  211.293045   565.429993  ...   \n",
            "2020-12-21  106.459999  87.212502  189.199997  215.159485   550.820007  ...   \n",
            "2020-12-22  111.070000  88.557503  197.380005  216.464447   561.719971  ...   \n",
            "2020-12-23  107.440002  88.997498  190.169998  213.641937   550.059998  ...   \n",
            "2020-12-24  106.279999  88.754997  190.309998  215.314194   553.890015  ...   \n",
            "...                ...        ...         ...         ...          ...  ...   \n",
            "2024-11-20  135.449997  75.239998   50.860001  414.659973  1022.979980  ...   \n",
            "2024-11-21  143.860001  74.459999   51.990002  412.869995  1047.050049  ...   \n",
            "2024-11-22  154.830002  72.830002   52.299999  417.000000  1060.599976  ...   \n",
            "2024-11-25  156.630005  77.830002   55.680000  418.790009  1052.709961  ...   \n",
            "2024-11-26  154.610001  77.519997   54.709999  427.105011  1065.609985  ...   \n",
            "\n",
            "Price         Volume                                                  \\\n",
            "Ticker          DDOG     DXCM     ETSY      MSFT      NOW       NVDA   \n",
            "Date                                                                   \n",
            "2020-12-18   7520000  4991200  5352800  63354900  2152800  342064000   \n",
            "2020-12-21   2702100  3479600  3034000  37181900  1642400  302332000   \n",
            "2020-12-22   2940300  2806000  3372500  22612200  1199000  185580000   \n",
            "2020-12-23   1587200  2450000  2099300  18699600   887700  179144000   \n",
            "2020-12-24    785400  1130000  1116600  10550600   623700   97884000   \n",
            "...              ...      ...      ...       ...      ...        ...   \n",
            "2024-11-20   6353300  3077200  2234000  19191700  1141900  309871700   \n",
            "2024-11-21   8671800  3230900  2337700  20780200  1111300  400946600   \n",
            "2024-11-22  13878800  4562600  2379700  24814600  1436900  236406200   \n",
            "2024-11-25   7686200  6579300  7691600  27691100  1930200  344941900   \n",
            "2024-11-26   2679308  2403279  1060760  13048771   414104  143505670   \n",
            "\n",
            "Price                                              \n",
            "Ticker           SMCI       TSLA     TWLO    ZBRA  \n",
            "Date                                               \n",
            "2020-12-18    6957000  666378600  2418800  900400  \n",
            "2020-12-21    2635000  174135900  2105400  505600  \n",
            "2020-12-22    1926000  155148000  2494200  474600  \n",
            "2020-12-23    3072000   99519000  1197100  191100  \n",
            "2020-12-24    1156000   68596800   681100  138300  \n",
            "...               ...        ...      ...     ...  \n",
            "2024-11-20  105366500   66340700  2763000  489400  \n",
            "2024-11-21  118032600   58011700  4216400  368400  \n",
            "2024-11-22  159607100   89140700  2504200  232000  \n",
            "2024-11-25  170113700   95890900  5962900  420200  \n",
            "2024-11-26   78369990   48847164   968002  166164  \n",
            "\n",
            "[991 rows x 90 columns]>\n"
          ]
        }
      ]
    },
    {
      "cell_type": "code",
      "source": [
        "df.index = pd.to_datetime(df.index)"
      ],
      "metadata": {
        "id": "kxkieW7OXGom"
      },
      "execution_count": 8,
      "outputs": []
    },
    {
      "cell_type": "code",
      "source": [
        "#Normalize the features\n",
        "scaler = StandardScaler()\n",
        "scaled_data = scaler.fit_transform(df.values)\n",
        "scaled_df = pd.DataFrame(scaled_data, index=df.index, columns=df.columns)"
      ],
      "metadata": {
        "id": "V_R8AcWaXbqN"
      },
      "execution_count": 9,
      "outputs": []
    },
    {
      "cell_type": "code",
      "source": [
        "print(df.head)"
      ],
      "metadata": {
        "collapsed": true,
        "id": "ZMH8lJ2brXI4",
        "outputId": "a4a41f2b-76c5-402c-852c-eb36cd78ece1",
        "colab": {
          "base_uri": "https://localhost:8080/"
        }
      },
      "execution_count": 10,
      "outputs": [
        {
          "output_type": "stream",
          "name": "stdout",
          "text": [
            "<bound method NDFrame.head of Price        Adj Close                                                  \\\n",
            "Ticker            AAPL         ADI          AI        ANET        CROX   \n",
            "Date                                                                     \n",
            "2020-12-18  123.855110  135.225586  137.589996   71.930000   64.379997   \n",
            "2020-12-21  125.390335  133.382797  160.889999   71.815002   65.620003   \n",
            "2020-12-22  128.959534  134.963684  177.470001   72.705002   64.760002   \n",
            "2020-12-23  128.059891  133.972107  161.059998   71.622498   64.589996   \n",
            "2020-12-24  129.047531  135.141434  161.000000   72.209999   62.689999   \n",
            "...                ...         ...         ...         ...         ...   \n",
            "2024-11-20  229.000000  211.009995   32.360001  381.709991   98.589996   \n",
            "2024-11-21  228.520004  213.960007   34.990002  404.970001  101.809998   \n",
            "2024-11-22  229.869995  214.589996   37.419998  406.480011  106.080002   \n",
            "2024-11-25  232.869995  223.580002   37.860001  399.720001  108.529999   \n",
            "2024-11-26  234.889999  217.070007   36.380001  408.170013  104.820000   \n",
            "\n",
            "Price                                                                   ...  \\\n",
            "Ticker            DDOG       DXCM        ETSY        MSFT          NOW  ...   \n",
            "Date                                                                    ...   \n",
            "2020-12-18  107.720001  89.642502  190.759995  211.293045   565.429993  ...   \n",
            "2020-12-21  106.459999  87.212502  189.199997  215.159485   550.820007  ...   \n",
            "2020-12-22  111.070000  88.557503  197.380005  216.464447   561.719971  ...   \n",
            "2020-12-23  107.440002  88.997498  190.169998  213.641937   550.059998  ...   \n",
            "2020-12-24  106.279999  88.754997  190.309998  215.314194   553.890015  ...   \n",
            "...                ...        ...         ...         ...          ...  ...   \n",
            "2024-11-20  135.449997  75.239998   50.860001  414.659973  1022.979980  ...   \n",
            "2024-11-21  143.860001  74.459999   51.990002  412.869995  1047.050049  ...   \n",
            "2024-11-22  154.830002  72.830002   52.299999  417.000000  1060.599976  ...   \n",
            "2024-11-25  156.630005  77.830002   55.680000  418.790009  1052.709961  ...   \n",
            "2024-11-26  154.610001  77.519997   54.709999  427.105011  1065.609985  ...   \n",
            "\n",
            "Price         Volume                                                  \\\n",
            "Ticker          DDOG     DXCM     ETSY      MSFT      NOW       NVDA   \n",
            "Date                                                                   \n",
            "2020-12-18   7520000  4991200  5352800  63354900  2152800  342064000   \n",
            "2020-12-21   2702100  3479600  3034000  37181900  1642400  302332000   \n",
            "2020-12-22   2940300  2806000  3372500  22612200  1199000  185580000   \n",
            "2020-12-23   1587200  2450000  2099300  18699600   887700  179144000   \n",
            "2020-12-24    785400  1130000  1116600  10550600   623700   97884000   \n",
            "...              ...      ...      ...       ...      ...        ...   \n",
            "2024-11-20   6353300  3077200  2234000  19191700  1141900  309871700   \n",
            "2024-11-21   8671800  3230900  2337700  20780200  1111300  400946600   \n",
            "2024-11-22  13878800  4562600  2379700  24814600  1436900  236406200   \n",
            "2024-11-25   7686200  6579300  7691600  27691100  1930200  344941900   \n",
            "2024-11-26   2679308  2403279  1060760  13048771   414104  143505670   \n",
            "\n",
            "Price                                              \n",
            "Ticker           SMCI       TSLA     TWLO    ZBRA  \n",
            "Date                                               \n",
            "2020-12-18    6957000  666378600  2418800  900400  \n",
            "2020-12-21    2635000  174135900  2105400  505600  \n",
            "2020-12-22    1926000  155148000  2494200  474600  \n",
            "2020-12-23    3072000   99519000  1197100  191100  \n",
            "2020-12-24    1156000   68596800   681100  138300  \n",
            "...               ...        ...      ...     ...  \n",
            "2024-11-20  105366500   66340700  2763000  489400  \n",
            "2024-11-21  118032600   58011700  4216400  368400  \n",
            "2024-11-22  159607100   89140700  2504200  232000  \n",
            "2024-11-25  170113700   95890900  5962900  420200  \n",
            "2024-11-26   78369990   48847164   968002  166164  \n",
            "\n",
            "[991 rows x 90 columns]>\n"
          ]
        }
      ]
    },
    {
      "cell_type": "markdown",
      "source": [
        "# Preprocess"
      ],
      "metadata": {
        "id": "A6mFFSjPg1NG"
      }
    },
    {
      "cell_type": "code",
      "source": [
        "#featues and target\n",
        "n_future = 5 #this variable will be used when I need to predict 5 days into the future\n",
        "n_steps = 30 # last 30 days will be used as the input"
      ],
      "metadata": {
        "id": "PcBsUzG-XzyW"
      },
      "execution_count": 11,
      "outputs": []
    },
    {
      "cell_type": "code",
      "source": [
        "#prepare the sequences for training\n",
        "def create_multiticker_sequences(data, n_steps, n_future):\n",
        "  X,y = [], []\n",
        "  for i in range(len(data) - n_steps - n_future):\n",
        "    X.append(data[i: i + n_steps])\n",
        "    y.append(data[i + n_steps + n_future - 1]) # predict n_future days ahead\n",
        "  return np.array(X), np.array(y)"
      ],
      "metadata": {
        "id": "BhbvEEshX_NY"
      },
      "execution_count": 12,
      "outputs": []
    },
    {
      "cell_type": "code",
      "source": [
        "#create sequences\n",
        "X,y = create_multiticker_sequences(scaled_df.values, n_steps, n_future)"
      ],
      "metadata": {
        "id": "6dP88q9BaRLL"
      },
      "execution_count": 13,
      "outputs": []
    },
    {
      "cell_type": "code",
      "source": [
        "#Train test split\n",
        "train_size = int(len(X) * 0.8)\n",
        "X_train, X_test = X[:train_size], X[train_size:]\n",
        "y_train, y_test = y[:train_size], y[train_size:]"
      ],
      "metadata": {
        "id": "gYgTmq_vakHc"
      },
      "execution_count": 14,
      "outputs": []
    },
    {
      "cell_type": "markdown",
      "source": [
        "# LSTM"
      ],
      "metadata": {
        "id": "scWte8Veg5Mp"
      }
    },
    {
      "cell_type": "code",
      "source": [
        "def build_lstm_model(input_shape):\n",
        "  model = Sequential([\n",
        "      LSTM(100, return_sequences=True, input_shape=input_shape),\n",
        "      Dropout(0.2),\n",
        "      LSTM(100),\n",
        "      Dropout(0.2),\n",
        "      Dense(input_shape[1]) #predict all tickers at once\n",
        "  ])\n",
        "  model.compile(optimizer = 'adam', loss = 'mse')\n",
        "  return model"
      ],
      "metadata": {
        "id": "VBob0GEsavXs"
      },
      "execution_count": 15,
      "outputs": []
    },
    {
      "cell_type": "code",
      "source": [
        "#train the model\n",
        "input_shape = (n_steps, scaled_df.shape[1])\n",
        "lstm_model = build_lstm_model(input_shape)\n",
        "lstm_model.fit(X_train, y_train, epochs=10, batch_size=32, validation_data=(X_test, y_test), verbose=1)"
      ],
      "metadata": {
        "id": "TJlcWEZCfhci",
        "outputId": "ca0d6035-9474-4c51-888b-9fb55ebbd45d",
        "colab": {
          "base_uri": "https://localhost:8080/"
        }
      },
      "execution_count": 16,
      "outputs": [
        {
          "output_type": "stream",
          "name": "stderr",
          "text": [
            "/usr/local/lib/python3.10/dist-packages/keras/src/layers/rnn/rnn.py:204: UserWarning: Do not pass an `input_shape`/`input_dim` argument to a layer. When using Sequential models, prefer using an `Input(shape)` object as the first layer in the model instead.\n",
            "  super().__init__(**kwargs)\n"
          ]
        },
        {
          "output_type": "stream",
          "name": "stdout",
          "text": [
            "Epoch 1/10\n",
            "\u001b[1m24/24\u001b[0m \u001b[32m━━━━━━━━━━━━━━━━━━━━\u001b[0m\u001b[37m\u001b[0m \u001b[1m10s\u001b[0m 92ms/step - loss: 0.6210 - val_loss: 1.1593\n",
            "Epoch 2/10\n",
            "\u001b[1m24/24\u001b[0m \u001b[32m━━━━━━━━━━━━━━━━━━━━\u001b[0m\u001b[37m\u001b[0m \u001b[1m1s\u001b[0m 45ms/step - loss: 0.3100 - val_loss: 0.9082\n",
            "Epoch 3/10\n",
            "\u001b[1m24/24\u001b[0m \u001b[32m━━━━━━━━━━━━━━━━━━━━\u001b[0m\u001b[37m\u001b[0m \u001b[1m2s\u001b[0m 84ms/step - loss: 0.2418 - val_loss: 0.8479\n",
            "Epoch 4/10\n",
            "\u001b[1m24/24\u001b[0m \u001b[32m━━━━━━━━━━━━━━━━━━━━\u001b[0m\u001b[37m\u001b[0m \u001b[1m3s\u001b[0m 90ms/step - loss: 0.2027 - val_loss: 0.7757\n",
            "Epoch 5/10\n",
            "\u001b[1m24/24\u001b[0m \u001b[32m━━━━━━━━━━━━━━━━━━━━\u001b[0m\u001b[37m\u001b[0m \u001b[1m1s\u001b[0m 46ms/step - loss: 0.2006 - val_loss: 0.7832\n",
            "Epoch 6/10\n",
            "\u001b[1m24/24\u001b[0m \u001b[32m━━━━━━━━━━━━━━━━━━━━\u001b[0m\u001b[37m\u001b[0m \u001b[1m1s\u001b[0m 46ms/step - loss: 0.1944 - val_loss: 0.8101\n",
            "Epoch 7/10\n",
            "\u001b[1m24/24\u001b[0m \u001b[32m━━━━━━━━━━━━━━━━━━━━\u001b[0m\u001b[37m\u001b[0m \u001b[1m1s\u001b[0m 46ms/step - loss: 0.1858 - val_loss: 0.8105\n",
            "Epoch 8/10\n",
            "\u001b[1m24/24\u001b[0m \u001b[32m━━━━━━━━━━━━━━━━━━━━\u001b[0m\u001b[37m\u001b[0m \u001b[1m1s\u001b[0m 60ms/step - loss: 0.1728 - val_loss: 0.8310\n",
            "Epoch 9/10\n",
            "\u001b[1m24/24\u001b[0m \u001b[32m━━━━━━━━━━━━━━━━━━━━\u001b[0m\u001b[37m\u001b[0m \u001b[1m2s\u001b[0m 54ms/step - loss: 0.1742 - val_loss: 0.8567\n",
            "Epoch 10/10\n",
            "\u001b[1m24/24\u001b[0m \u001b[32m━━━━━━━━━━━━━━━━━━━━\u001b[0m\u001b[37m\u001b[0m \u001b[1m2s\u001b[0m 45ms/step - loss: 0.1592 - val_loss: 0.8485\n"
          ]
        },
        {
          "output_type": "execute_result",
          "data": {
            "text/plain": [
              "<keras.src.callbacks.history.History at 0x7ea6ec071de0>"
            ]
          },
          "metadata": {},
          "execution_count": 16
        }
      ]
    },
    {
      "cell_type": "code",
      "source": [
        "lstm_predictions = lstm_model.predict(X_test)"
      ],
      "metadata": {
        "id": "y3RGmwmhgFc4",
        "outputId": "9863119c-bb1e-47e3-e002-0e89d7474c5e",
        "colab": {
          "base_uri": "https://localhost:8080/"
        }
      },
      "execution_count": 17,
      "outputs": [
        {
          "output_type": "stream",
          "name": "stdout",
          "text": [
            "\u001b[1m6/6\u001b[0m \u001b[32m━━━━━━━━━━━━━━━━━━━━\u001b[0m\u001b[37m\u001b[0m \u001b[1m1s\u001b[0m 27ms/step\n"
          ]
        }
      ]
    },
    {
      "cell_type": "code",
      "source": [
        "#regression analytics\n",
        "mse = mean_squared_error(y_test, lstm_predictions)\n",
        "mae = mean_absolute_error(y_test, lstm_predictions)\n",
        "rmse = np.sqrt(mse)\n",
        "r2 = r2_score(y_test, lstm_predictions)"
      ],
      "metadata": {
        "id": "jzwG1qMQg1uE"
      },
      "execution_count": 18,
      "outputs": []
    },
    {
      "cell_type": "code",
      "source": [
        "print(f'MSE: {mse}')\n",
        "print(f'MAE: {mae}')\n",
        "print(f'RMSE: {rmse}')\n",
        "print(f'R2: {r2}')"
      ],
      "metadata": {
        "id": "dr-AqCVYlMXF",
        "outputId": "0258c4ef-bbd4-4998-e653-b9b33287efff",
        "colab": {
          "base_uri": "https://localhost:8080/"
        }
      },
      "execution_count": 19,
      "outputs": [
        {
          "output_type": "stream",
          "name": "stdout",
          "text": [
            "MSE: 0.848455846074063\n",
            "MAE: 0.6704361453206764\n",
            "RMSE: 0.9211166300062458\n",
            "R2: -2.6538196654277995\n"
          ]
        }
      ]
    },
    {
      "cell_type": "code",
      "source": [
        "#calculate profit or loss on predicted movement\n",
        "actual_returns = y_test[1:] - y_test[:-1]\n",
        "predicted_returns = lstm_predictions[1:] - lstm_predictions[:-1]\n"
      ],
      "metadata": {
        "id": "EAXVUg5GiQOt"
      },
      "execution_count": 20,
      "outputs": []
    },
    {
      "cell_type": "code",
      "source": [
        "strategy_returns = np.sign(predicted_returns) * actual_returns\n",
        "pnl = np.sum(strategy_returns) #profit and loss\n",
        "print(pnl)"
      ],
      "metadata": {
        "id": "ShzP916ol1_w",
        "colab": {
          "base_uri": "https://localhost:8080/"
        },
        "outputId": "0961527d-79f4-4d77-f989-cf83befb532a"
      },
      "execution_count": 21,
      "outputs": [
        {
          "output_type": "stream",
          "name": "stdout",
          "text": [
            "-7.579885018547291\n"
          ]
        }
      ]
    },
    {
      "cell_type": "code",
      "source": [
        "mean_return = np.mean(strategy_returns)\n",
        "std_return = np.std(strategy_returns)\n",
        "sharpe_ratio = mean_return / std_return\n",
        "print(sharpe_ratio)"
      ],
      "metadata": {
        "id": "RC2GjCFjp_f1",
        "outputId": "2bd06c44-a497-4921-cdc2-0e137fc44f7e",
        "colab": {
          "base_uri": "https://localhost:8080/"
        }
      },
      "execution_count": 22,
      "outputs": [
        {
          "output_type": "stream",
          "name": "stdout",
          "text": [
            "-0.000993050025163125\n"
          ]
        }
      ]
    },
    {
      "cell_type": "code",
      "source": [
        "#Hit ratio is the proportion of the model correctly predicting the direction of the stock movement\n",
        "hits = np.sign(predicted_returns) == np.sign(actual_returns)\n",
        "hit_ratio = np.sum(hits) / len(hits)\n",
        "print(f\"LSTM Hit Ratio: {hit_ratio:.4f}\")"
      ],
      "metadata": {
        "id": "OkoaJK9TqUgV",
        "outputId": "f230a3c7-2238-45e9-a72b-d4d8e3d4b1de",
        "colab": {
          "base_uri": "https://localhost:8080/"
        }
      },
      "execution_count": 23,
      "outputs": [
        {
          "output_type": "stream",
          "name": "stdout",
          "text": [
            "LSTM Hit Ratio: 44.9895\n"
          ]
        }
      ]
    },
    {
      "cell_type": "code",
      "source": [],
      "metadata": {
        "id": "gRGYHy9SqpIY"
      },
      "execution_count": 23,
      "outputs": []
    },
    {
      "cell_type": "markdown",
      "source": [
        "#New Strategy LSTM"
      ],
      "metadata": {
        "id": "yNuW05xirsbA"
      }
    },
    {
      "cell_type": "markdown",
      "source": [
        "This strategy is an idea I have come up with myself where the input is data from large market-cap stocks like NVDA, MSFT, TSLA, AMZN, Meta, and X, and the target will be the price of the s and p 500"
      ],
      "metadata": {
        "id": "8xeJ2TskAY84"
      }
    },
    {
      "cell_type": "code",
      "source": [
        "# import numpy as np\n",
        "# import pandas as pd\n",
        "# import yfinance as yf\n",
        "# from sklearn.preprocessing import MinMaxScaler\n",
        "# from tensorflow.keras.models import Sequential\n",
        "# from tensorflow.keras.layers import LSTM, Dense, Dropout\n",
        "# from sklearn.model_selection import train_test_split\n",
        "# import matplotlib.pyplot as plt\n",
        "\n",
        "# # Define stock tickers and S&P 500 index\n",
        "# stocks = ['AMZN', 'MSFT', 'NVDA', 'TSLA', 'META', 'AAPL']  # Replace 'AAPL' with your 6th stock\n",
        "# index = '^GSPC'  # S&P 500\n",
        "\n",
        "# # Fetch data using yfinance\n",
        "# start_date = '2015-01-01'\n",
        "# end_date = '2023-01-01'\n",
        "\n",
        "# def fetch_data(tickers, start, end):\n",
        "#     data = yf.download(tickers, start=start, end=end)['Adj Close']\n",
        "#     return data\n",
        "\n",
        "# # Fetch stock data\n",
        "# stock_data = fetch_data(stocks + [index], start_date, end_date)\n",
        "\n",
        "# # Fill missing data\n",
        "# stock_data.fillna(method='ffill', inplace=True)\n",
        "# stock_data.fillna(method='bfill', inplace=True)\n",
        "\n",
        "# # Separate features and target\n",
        "# X = stock_data[stocks].values\n",
        "# y = stock_data[index].values\n",
        "\n",
        "# # Normalize the data\n",
        "# scaler_X = MinMaxScaler(feature_range=(0, 1))\n",
        "# X_scaled = scaler_X.fit_transform(X)\n",
        "\n",
        "# scaler_y = MinMaxScaler(feature_range=(0, 1))\n",
        "# y_scaled = scaler_y.fit_transform(y.reshape(-1, 1))\n",
        "\n",
        "# # Convert data into sequences for LSTM\n",
        "# def create_sequences(X, y, sequence_length):\n",
        "#     X_seq, y_seq = [], []\n",
        "#     for i in range(len(X) - sequence_length):\n",
        "#         X_seq.append(X[i:i + sequence_length])\n",
        "#         y_seq.append(y[i + sequence_length])\n",
        "#     return np.array(X_seq), np.array(y_seq)\n",
        "\n",
        "# sequence_length = 30  # Number of days to use for prediction\n",
        "# X_seq, y_seq = create_sequences(X_scaled, y_scaled, sequence_length)\n",
        "\n",
        "# # Sequential train-test split\n",
        "# train_size = int(0.8 * len(X_seq))  # 80% for training\n",
        "# X_train, X_test = X_seq[:train_size], X_seq[train_size:]\n",
        "# y_train, y_test = y_seq[:train_size], y_seq[train_size:]\n",
        "\n",
        "# # Build the LSTM model\n",
        "# model = Sequential([\n",
        "#     LSTM(50, return_sequences=True, input_shape=(sequence_length, len(stocks))),\n",
        "#     Dropout(0.2),\n",
        "#     LSTM(50, return_sequences=False),\n",
        "#     Dropout(0.2),\n",
        "#     Dense(25, activation='relu'),\n",
        "#     Dense(1)\n",
        "# ])\n",
        "\n",
        "# model.compile(optimizer='adam', loss='mean_squared_error')\n",
        "\n",
        "# # Train the model\n",
        "# model.fit(X_train, y_train, epochs=20, batch_size=32, validation_data=(X_test, y_test))\n",
        "\n",
        "# # Evaluate the model\n",
        "# train_loss = model.evaluate(X_train, y_train, verbose=0)\n",
        "# test_loss = model.evaluate(X_test, y_test, verbose=0)\n",
        "# print(f\"Train Loss: {train_loss}, Test Loss: {test_loss}\")\n",
        "\n",
        "# # Make predictions\n",
        "# y_pred_scaled = model.predict(X_test)\n",
        "# y_pred = scaler_y.inverse_transform(y_pred_scaled)\n",
        "# y_test_unscaled = scaler_y.inverse_transform(y_test)\n",
        "\n",
        "# # Plot the predictions\n",
        "# plt.figure(figsize=(12, 6))\n",
        "# plt.plot(y_test_unscaled, label='True S&P 500 Price')\n",
        "# plt.plot(y_pred, label='Predicted S&P 500 Price')\n",
        "# plt.legend()\n",
        "# plt.title('True vs Predicted S&P 500 Price')\n",
        "# plt.xlabel('Time')\n",
        "# plt.ylabel('Price')\n",
        "# plt.show()\n"
      ],
      "metadata": {
        "id": "qnXPttYusC8A"
      },
      "execution_count": 1,
      "outputs": []
    },
    {
      "cell_type": "code",
      "source": [
        "# # Compute regression metrics\n",
        "# mae = mean_absolute_error(y_test_unscaled, y_pred)\n",
        "# rmse = np.sqrt(mean_squared_error(y_test_unscaled, y_pred))\n",
        "# mape = np.mean(np.abs((y_test_unscaled - y_pred) / y_test_unscaled)) * 100\n",
        "# r2 = r2_score(y_test_unscaled, y_pred)\n",
        "\n",
        "# print(f\"MAE: {mae:.2f}\")\n",
        "# print(f\"RMSE: {rmse:.2f}\")\n",
        "# print(f\"MAPE: {mape:.2f}%\")\n",
        "# print(f\"R-Squared: {r2:.2f}\")\n",
        "\n",
        "# # Compute directional accuracy\n",
        "# direction_actual = np.sign(np.diff(y_test_unscaled.flatten()))\n",
        "# direction_predicted = np.sign(np.diff(y_pred.flatten()))\n",
        "# directional_accuracy = np.mean(direction_actual == direction_predicted)\n",
        "\n",
        "# print(f\"Directional Accuracy: {directional_accuracy:.2f}\")"
      ],
      "metadata": {
        "id": "nEw42Y9zBcL0"
      },
      "execution_count": 2,
      "outputs": []
    },
    {
      "cell_type": "code",
      "source": [
        "import numpy as np\n",
        "import pandas as pd\n",
        "import yfinance as yf\n",
        "from sklearn.preprocessing import MinMaxScaler\n",
        "from tensorflow.keras.models import Sequential\n",
        "from tensorflow.keras.layers import LSTM, Dense, Dropout\n",
        "import matplotlib.pyplot as plt\n",
        "from tensorflow.keras.losses import Huber\n",
        "from tensorflow.keras.layers import Input\n",
        "\n",
        "# Define stock tickers and S and p 500 index\n",
        "stocks = ['AMZN', 'MSFT', 'NVDA', 'TSLA', 'META', 'AAPL']\n",
        "index = '^GSPC' # s and p 500 ticker\n",
        "\n",
        "# Fetch data\n",
        "start_date = '2013-01-01'\n",
        "end_date = '2024-11-26'\n",
        "\n",
        "def fetch_data(tickers, start, end):\n",
        "    data = yf.download(tickers, start=start, end=end)['Adj Close']\n",
        "    return data\n",
        "stock_data = fetch_data(stocks + [index], start_date, end_date)\n",
        "\n",
        "#clean data\n",
        "stock_data.fillna(method = 'ffill', inplace = True)\n",
        "stock_data.fillna(method = 'bfill', inplace = True)\n",
        "\n",
        "#technical indicators\n",
        "def add_indicators(df):\n",
        "  for col in df.columns:\n",
        "    df[f'{col}_MA10'] = df[col].rolling(window=10).mean()\n",
        "    df[f'{col}_MA50'] = df[col].rolling(window=50).mean()\n",
        "    df[f'{col}_RSI'] = (df[col].diff().apply(lambda x: max(x,0)).rolling(window=14).mean() /\n",
        "                        df[col].diff().abs().rolling(window=14).mean()) *  100\n",
        "  return df.fillna(0)\n",
        "stock_data = add_indicators(stock_data)\n",
        "\n",
        "#separate features and target\n",
        "X = stock_data.drop(columns=index).values\n",
        "y = stock_data[index].values\n",
        "\n",
        "#Normalize the data\n",
        "scaler_X = MinMaxScaler(feature_range=(0,1))\n",
        "X_scaled = scaler_X.fit_transform(X)\n",
        "\n",
        "scaler_y = MinMaxScaler(feature_range=(0,1))\n",
        "y_scaled = scaler_y.fit_transform(y.reshape(-1,1))\n",
        "\n",
        "#convert data into a time sequence for the LSTM\n",
        "def create_sequences(X, y, sequence_length):\n",
        "  X_seq, y_seq = [], []\n",
        "  for i in range(len(X) - sequence_length):\n",
        "    X_seq.append(X[i:i + sequence_length])\n",
        "    y_seq.append(y[i + sequence_length])\n",
        "  return np.array(X_seq), np.array(y_seq)\n",
        "\n",
        "sequence_length = 45  # Number of days to use for prediction\n",
        "X_seq, y_seq = create_sequences(X_scaled, y_scaled, sequence_length)\n",
        "\n",
        "# Sequential train-test split\n",
        "train_size = int(0.8 * len(X_seq))  # 80% for training\n",
        "X_train, X_test = X_seq[:train_size], X_seq[train_size:]\n",
        "y_train, y_test = y_seq[:train_size], y_seq[train_size:]\n",
        "\n",
        "#Build the LSTM model\n",
        "model = Sequential([\n",
        "    LSTM(100, return_sequences=True, input_shape=(sequence_length, X.shape[1])),\n",
        "    Dropout(0.3),\n",
        "    LSTM(50, return_sequences=False),\n",
        "    Dropout(0.3),\n",
        "    Dense(50, activation = 'relu'),\n",
        "    Dense(1)\n",
        "])\n",
        "\n",
        "model.compile(optimizer = 'adam', loss= Huber())\n",
        "\n",
        "# Train the model on the data\n",
        "model.fit(X_train, y_train, epochs=50, batch_size=32, validation_data= (X_test, y_test))\n",
        "\n",
        "# Evaluate model\n",
        "train_loss = model.evaluate(X_train, y_train, verbose=0)\n",
        "test_loss = model.evaluate(X_test, y_test, verbose=0)\n",
        "print(f\"Train Loss: {train_loss}, Test Loss: {test_loss}\")\n",
        "\n",
        "#predictions on the data\n",
        "y_pred_scaled = model.predict(X_test)\n",
        "y_pred = scaler_y.inverse_transform(y_pred_scaled)\n",
        "y_test_unscaled = scaler_y.inverse_transform(y_test)\n",
        "\n",
        "#plot predictions using matplotlib\n",
        "plt.figure(figsize=(12,6))\n",
        "plt.plot(y_test_unscaled, label='True S and P 500 Price')\n",
        "plt.plot(y_pred, label='Predicted S and P 500 Price')\n",
        "plt.legend()\n",
        "plt.title('True vs predicted S and p 500 Price')\n",
        "plt.xlabel('Time')\n",
        "plt.ylabel('Price')\n",
        "plt.show()"
      ],
      "metadata": {
        "collapsed": true,
        "colab": {
          "base_uri": "https://localhost:8080/",
          "height": 1000
        },
        "id": "E555oZlfEGOh",
        "outputId": "5c43a3bd-e156-470a-9ea4-26eba0d1e2db"
      },
      "execution_count": 3,
      "outputs": [
        {
          "output_type": "stream",
          "name": "stderr",
          "text": [
            "[*********************100%***********************]  7 of 7 completed\n",
            "<ipython-input-3-490a2eb1f706>:25: FutureWarning: DataFrame.fillna with 'method' is deprecated and will raise in a future version. Use obj.ffill() or obj.bfill() instead.\n",
            "  stock_data.fillna(method = 'ffill', inplace = True)\n",
            "<ipython-input-3-490a2eb1f706>:26: FutureWarning: DataFrame.fillna with 'method' is deprecated and will raise in a future version. Use obj.ffill() or obj.bfill() instead.\n",
            "  stock_data.fillna(method = 'bfill', inplace = True)\n",
            "/usr/local/lib/python3.10/dist-packages/keras/src/layers/rnn/rnn.py:204: UserWarning: Do not pass an `input_shape`/`input_dim` argument to a layer. When using Sequential models, prefer using an `Input(shape)` object as the first layer in the model instead.\n",
            "  super().__init__(**kwargs)\n"
          ]
        },
        {
          "output_type": "stream",
          "name": "stdout",
          "text": [
            "Epoch 1/50\n",
            "\u001b[1m74/74\u001b[0m \u001b[32m━━━━━━━━━━━━━━━━━━━━\u001b[0m\u001b[37m\u001b[0m \u001b[1m5s\u001b[0m 13ms/step - loss: 0.0067 - val_loss: 0.0138\n",
            "Epoch 2/50\n",
            "\u001b[1m74/74\u001b[0m \u001b[32m━━━━━━━━━━━━━━━━━━━━\u001b[0m\u001b[37m\u001b[0m \u001b[1m1s\u001b[0m 9ms/step - loss: 0.0014 - val_loss: 0.0045\n",
            "Epoch 3/50\n",
            "\u001b[1m74/74\u001b[0m \u001b[32m━━━━━━━━━━━━━━━━━━━━\u001b[0m\u001b[37m\u001b[0m \u001b[1m1s\u001b[0m 9ms/step - loss: 0.0011 - val_loss: 0.0088\n",
            "Epoch 4/50\n",
            "\u001b[1m74/74\u001b[0m \u001b[32m━━━━━━━━━━━━━━━━━━━━\u001b[0m\u001b[37m\u001b[0m \u001b[1m1s\u001b[0m 9ms/step - loss: 8.3132e-04 - val_loss: 0.0052\n",
            "Epoch 5/50\n",
            "\u001b[1m74/74\u001b[0m \u001b[32m━━━━━━━━━━━━━━━━━━━━\u001b[0m\u001b[37m\u001b[0m \u001b[1m1s\u001b[0m 9ms/step - loss: 7.0974e-04 - val_loss: 0.0091\n",
            "Epoch 6/50\n",
            "\u001b[1m74/74\u001b[0m \u001b[32m━━━━━━━━━━━━━━━━━━━━\u001b[0m\u001b[37m\u001b[0m \u001b[1m1s\u001b[0m 8ms/step - loss: 6.9547e-04 - val_loss: 0.0069\n",
            "Epoch 7/50\n",
            "\u001b[1m74/74\u001b[0m \u001b[32m━━━━━━━━━━━━━━━━━━━━\u001b[0m\u001b[37m\u001b[0m \u001b[1m1s\u001b[0m 8ms/step - loss: 5.5824e-04 - val_loss: 0.0098\n",
            "Epoch 8/50\n",
            "\u001b[1m74/74\u001b[0m \u001b[32m━━━━━━━━━━━━━━━━━━━━\u001b[0m\u001b[37m\u001b[0m \u001b[1m1s\u001b[0m 8ms/step - loss: 5.7734e-04 - val_loss: 0.0070\n",
            "Epoch 9/50\n",
            "\u001b[1m74/74\u001b[0m \u001b[32m━━━━━━━━━━━━━━━━━━━━\u001b[0m\u001b[37m\u001b[0m \u001b[1m1s\u001b[0m 9ms/step - loss: 4.0972e-04 - val_loss: 0.0095\n",
            "Epoch 10/50\n",
            "\u001b[1m74/74\u001b[0m \u001b[32m━━━━━━━━━━━━━━━━━━━━\u001b[0m\u001b[37m\u001b[0m \u001b[1m1s\u001b[0m 9ms/step - loss: 4.7755e-04 - val_loss: 0.0114\n",
            "Epoch 11/50\n",
            "\u001b[1m74/74\u001b[0m \u001b[32m━━━━━━━━━━━━━━━━━━━━\u001b[0m\u001b[37m\u001b[0m \u001b[1m1s\u001b[0m 8ms/step - loss: 4.9849e-04 - val_loss: 0.0129\n",
            "Epoch 12/50\n",
            "\u001b[1m74/74\u001b[0m \u001b[32m━━━━━━━━━━━━━━━━━━━━\u001b[0m\u001b[37m\u001b[0m \u001b[1m1s\u001b[0m 8ms/step - loss: 4.8220e-04 - val_loss: 0.0132\n",
            "Epoch 13/50\n",
            "\u001b[1m74/74\u001b[0m \u001b[32m━━━━━━━━━━━━━━━━━━━━\u001b[0m\u001b[37m\u001b[0m \u001b[1m1s\u001b[0m 9ms/step - loss: 4.2105e-04 - val_loss: 0.0118\n",
            "Epoch 14/50\n",
            "\u001b[1m74/74\u001b[0m \u001b[32m━━━━━━━━━━━━━━━━━━━━\u001b[0m\u001b[37m\u001b[0m \u001b[1m1s\u001b[0m 8ms/step - loss: 3.5556e-04 - val_loss: 0.0131\n",
            "Epoch 15/50\n",
            "\u001b[1m74/74\u001b[0m \u001b[32m━━━━━━━━━━━━━━━━━━━━\u001b[0m\u001b[37m\u001b[0m \u001b[1m1s\u001b[0m 8ms/step - loss: 3.3880e-04 - val_loss: 0.0133\n",
            "Epoch 16/50\n",
            "\u001b[1m74/74\u001b[0m \u001b[32m━━━━━━━━━━━━━━━━━━━━\u001b[0m\u001b[37m\u001b[0m \u001b[1m1s\u001b[0m 8ms/step - loss: 3.0676e-04 - val_loss: 0.0128\n",
            "Epoch 17/50\n",
            "\u001b[1m74/74\u001b[0m \u001b[32m━━━━━━━━━━━━━━━━━━━━\u001b[0m\u001b[37m\u001b[0m \u001b[1m1s\u001b[0m 8ms/step - loss: 4.0148e-04 - val_loss: 0.0146\n",
            "Epoch 18/50\n",
            "\u001b[1m74/74\u001b[0m \u001b[32m━━━━━━━━━━━━━━━━━━━━\u001b[0m\u001b[37m\u001b[0m \u001b[1m1s\u001b[0m 8ms/step - loss: 2.9259e-04 - val_loss: 0.0112\n",
            "Epoch 19/50\n",
            "\u001b[1m74/74\u001b[0m \u001b[32m━━━━━━━━━━━━━━━━━━━━\u001b[0m\u001b[37m\u001b[0m \u001b[1m1s\u001b[0m 8ms/step - loss: 3.0590e-04 - val_loss: 0.0176\n",
            "Epoch 20/50\n",
            "\u001b[1m74/74\u001b[0m \u001b[32m━━━━━━━━━━━━━━━━━━━━\u001b[0m\u001b[37m\u001b[0m \u001b[1m1s\u001b[0m 8ms/step - loss: 3.2490e-04 - val_loss: 0.0149\n",
            "Epoch 21/50\n",
            "\u001b[1m74/74\u001b[0m \u001b[32m━━━━━━━━━━━━━━━━━━━━\u001b[0m\u001b[37m\u001b[0m \u001b[1m1s\u001b[0m 9ms/step - loss: 3.5264e-04 - val_loss: 0.0135\n",
            "Epoch 22/50\n",
            "\u001b[1m74/74\u001b[0m \u001b[32m━━━━━━━━━━━━━━━━━━━━\u001b[0m\u001b[37m\u001b[0m \u001b[1m1s\u001b[0m 9ms/step - loss: 2.8483e-04 - val_loss: 0.0163\n",
            "Epoch 23/50\n",
            "\u001b[1m74/74\u001b[0m \u001b[32m━━━━━━━━━━━━━━━━━━━━\u001b[0m\u001b[37m\u001b[0m \u001b[1m1s\u001b[0m 9ms/step - loss: 2.9328e-04 - val_loss: 0.0170\n",
            "Epoch 24/50\n",
            "\u001b[1m74/74\u001b[0m \u001b[32m━━━━━━━━━━━━━━━━━━━━\u001b[0m\u001b[37m\u001b[0m \u001b[1m1s\u001b[0m 9ms/step - loss: 3.1837e-04 - val_loss: 0.0185\n",
            "Epoch 25/50\n",
            "\u001b[1m74/74\u001b[0m \u001b[32m━━━━━━━━━━━━━━━━━━━━\u001b[0m\u001b[37m\u001b[0m \u001b[1m1s\u001b[0m 10ms/step - loss: 2.2587e-04 - val_loss: 0.0129\n",
            "Epoch 26/50\n",
            "\u001b[1m74/74\u001b[0m \u001b[32m━━━━━━━━━━━━━━━━━━━━\u001b[0m\u001b[37m\u001b[0m \u001b[1m1s\u001b[0m 9ms/step - loss: 2.7016e-04 - val_loss: 0.0186\n",
            "Epoch 27/50\n",
            "\u001b[1m74/74\u001b[0m \u001b[32m━━━━━━━━━━━━━━━━━━━━\u001b[0m\u001b[37m\u001b[0m \u001b[1m1s\u001b[0m 8ms/step - loss: 2.5439e-04 - val_loss: 0.0193\n",
            "Epoch 28/50\n",
            "\u001b[1m74/74\u001b[0m \u001b[32m━━━━━━━━━━━━━━━━━━━━\u001b[0m\u001b[37m\u001b[0m \u001b[1m1s\u001b[0m 9ms/step - loss: 2.5709e-04 - val_loss: 0.0151\n",
            "Epoch 29/50\n",
            "\u001b[1m74/74\u001b[0m \u001b[32m━━━━━━━━━━━━━━━━━━━━\u001b[0m\u001b[37m\u001b[0m \u001b[1m1s\u001b[0m 8ms/step - loss: 2.2573e-04 - val_loss: 0.0173\n",
            "Epoch 30/50\n",
            "\u001b[1m74/74\u001b[0m \u001b[32m━━━━━━━━━━━━━━━━━━━━\u001b[0m\u001b[37m\u001b[0m \u001b[1m1s\u001b[0m 8ms/step - loss: 2.1786e-04 - val_loss: 0.0119\n",
            "Epoch 31/50\n",
            "\u001b[1m74/74\u001b[0m \u001b[32m━━━━━━━━━━━━━━━━━━━━\u001b[0m\u001b[37m\u001b[0m \u001b[1m1s\u001b[0m 8ms/step - loss: 2.7004e-04 - val_loss: 0.0177\n",
            "Epoch 32/50\n",
            "\u001b[1m74/74\u001b[0m \u001b[32m━━━━━━━━━━━━━━━━━━━━\u001b[0m\u001b[37m\u001b[0m \u001b[1m1s\u001b[0m 8ms/step - loss: 2.1398e-04 - val_loss: 0.0134\n",
            "Epoch 33/50\n",
            "\u001b[1m74/74\u001b[0m \u001b[32m━━━━━━━━━━━━━━━━━━━━\u001b[0m\u001b[37m\u001b[0m \u001b[1m1s\u001b[0m 8ms/step - loss: 2.4592e-04 - val_loss: 0.0183\n",
            "Epoch 34/50\n",
            "\u001b[1m74/74\u001b[0m \u001b[32m━━━━━━━━━━━━━━━━━━━━\u001b[0m\u001b[37m\u001b[0m \u001b[1m1s\u001b[0m 8ms/step - loss: 1.9068e-04 - val_loss: 0.0192\n",
            "Epoch 35/50\n",
            "\u001b[1m74/74\u001b[0m \u001b[32m━━━━━━━━━━━━━━━━━━━━\u001b[0m\u001b[37m\u001b[0m \u001b[1m1s\u001b[0m 8ms/step - loss: 3.3377e-04 - val_loss: 0.0193\n",
            "Epoch 36/50\n",
            "\u001b[1m74/74\u001b[0m \u001b[32m━━━━━━━━━━━━━━━━━━━━\u001b[0m\u001b[37m\u001b[0m \u001b[1m1s\u001b[0m 8ms/step - loss: 1.7939e-04 - val_loss: 0.0176\n",
            "Epoch 37/50\n",
            "\u001b[1m74/74\u001b[0m \u001b[32m━━━━━━━━━━━━━━━━━━━━\u001b[0m\u001b[37m\u001b[0m \u001b[1m1s\u001b[0m 8ms/step - loss: 2.1974e-04 - val_loss: 0.0186\n",
            "Epoch 38/50\n",
            "\u001b[1m74/74\u001b[0m \u001b[32m━━━━━━━━━━━━━━━━━━━━\u001b[0m\u001b[37m\u001b[0m \u001b[1m1s\u001b[0m 8ms/step - loss: 2.1472e-04 - val_loss: 0.0214\n",
            "Epoch 39/50\n",
            "\u001b[1m74/74\u001b[0m \u001b[32m━━━━━━━━━━━━━━━━━━━━\u001b[0m\u001b[37m\u001b[0m \u001b[1m1s\u001b[0m 8ms/step - loss: 2.5256e-04 - val_loss: 0.0191\n",
            "Epoch 40/50\n",
            "\u001b[1m74/74\u001b[0m \u001b[32m━━━━━━━━━━━━━━━━━━━━\u001b[0m\u001b[37m\u001b[0m \u001b[1m1s\u001b[0m 8ms/step - loss: 1.9865e-04 - val_loss: 0.0208\n",
            "Epoch 41/50\n",
            "\u001b[1m74/74\u001b[0m \u001b[32m━━━━━━━━━━━━━━━━━━━━\u001b[0m\u001b[37m\u001b[0m \u001b[1m1s\u001b[0m 8ms/step - loss: 1.8399e-04 - val_loss: 0.0201\n",
            "Epoch 42/50\n",
            "\u001b[1m74/74\u001b[0m \u001b[32m━━━━━━━━━━━━━━━━━━━━\u001b[0m\u001b[37m\u001b[0m \u001b[1m1s\u001b[0m 8ms/step - loss: 1.4465e-04 - val_loss: 0.0177\n",
            "Epoch 43/50\n",
            "\u001b[1m74/74\u001b[0m \u001b[32m━━━━━━━━━━━━━━━━━━━━\u001b[0m\u001b[37m\u001b[0m \u001b[1m1s\u001b[0m 8ms/step - loss: 1.7024e-04 - val_loss: 0.0177\n",
            "Epoch 44/50\n",
            "\u001b[1m74/74\u001b[0m \u001b[32m━━━━━━━━━━━━━━━━━━━━\u001b[0m\u001b[37m\u001b[0m \u001b[1m1s\u001b[0m 9ms/step - loss: 1.6965e-04 - val_loss: 0.0167\n",
            "Epoch 45/50\n",
            "\u001b[1m74/74\u001b[0m \u001b[32m━━━━━━━━━━━━━━━━━━━━\u001b[0m\u001b[37m\u001b[0m \u001b[1m1s\u001b[0m 9ms/step - loss: 2.0013e-04 - val_loss: 0.0188\n",
            "Epoch 46/50\n",
            "\u001b[1m74/74\u001b[0m \u001b[32m━━━━━━━━━━━━━━━━━━━━\u001b[0m\u001b[37m\u001b[0m \u001b[1m1s\u001b[0m 9ms/step - loss: 1.8149e-04 - val_loss: 0.0208\n",
            "Epoch 47/50\n",
            "\u001b[1m74/74\u001b[0m \u001b[32m━━━━━━━━━━━━━━━━━━━━\u001b[0m\u001b[37m\u001b[0m \u001b[1m1s\u001b[0m 8ms/step - loss: 1.7031e-04 - val_loss: 0.0197\n",
            "Epoch 48/50\n",
            "\u001b[1m74/74\u001b[0m \u001b[32m━━━━━━━━━━━━━━━━━━━━\u001b[0m\u001b[37m\u001b[0m \u001b[1m1s\u001b[0m 8ms/step - loss: 1.3261e-04 - val_loss: 0.0206\n",
            "Epoch 49/50\n",
            "\u001b[1m74/74\u001b[0m \u001b[32m━━━━━━━━━━━━━━━━━━━━\u001b[0m\u001b[37m\u001b[0m \u001b[1m1s\u001b[0m 8ms/step - loss: 1.5506e-04 - val_loss: 0.0218\n",
            "Epoch 50/50\n",
            "\u001b[1m74/74\u001b[0m \u001b[32m━━━━━━━━━━━━━━━━━━━━\u001b[0m\u001b[37m\u001b[0m \u001b[1m1s\u001b[0m 8ms/step - loss: 1.6846e-04 - val_loss: 0.0228\n",
            "Train Loss: 0.0020521823316812515, Test Loss: 0.022849809378385544\n",
            "\u001b[1m19/19\u001b[0m \u001b[32m━━━━━━━━━━━━━━━━━━━━\u001b[0m\u001b[37m\u001b[0m \u001b[1m0s\u001b[0m 12ms/step\n"
          ]
        },
        {
          "output_type": "display_data",
          "data": {
            "text/plain": [
              "<Figure size 1200x600 with 1 Axes>"
            ],
            "image/png": "[encoded data removed]"
          },
          "metadata": {}
        }
      ]
    },
    {
      "cell_type": "code",
      "source": [
        "#evaluation metrics\n",
        "from sklearn.metrics import mean_absolute_error, mean_squared_error\n",
        "import numpy as np\n",
        "\n",
        "# Calculate metrics\n",
        "mae = mean_absolute_error(y_test_unscaled, y_pred)\n",
        "rmse = np.sqrt(mean_squared_error(y_test_unscaled, y_pred))\n",
        "mape = np.mean(np.abs((y_test_unscaled - y_pred) / y_test_unscaled)) * 100\n",
        "correlation = np.corrcoef(y_test_unscaled.flatten(), y_pred.flatten())[0, 1]\n",
        "\n",
        "# Directional accuracy\n",
        "direction_actual = np.sign(np.diff(y_test_unscaled.flatten()))\n",
        "direction_predicted = np.sign(np.diff(y_pred.flatten()))\n",
        "directional_accuracy = np.mean(direction_actual == direction_predicted)\n",
        "\n",
        "# Print metrics\n",
        "print(f\"Mean Absolute Error (MAE): {mae:.4f}\")\n",
        "print(f\"Root Mean Squared Error (RMSE): {rmse:.4f}\")\n",
        "print(f\"Mean Absolute Percentage Error (MAPE): {mape:.2f}%\")\n",
        "print(f\"Correlation Coefficient: {correlation:.4f}\")\n",
        "print(f\"Directional Accuracy: {directional_accuracy:.2f}\")"
      ],
      "metadata": {
        "colab": {
          "base_uri": "https://localhost:8080/"
        },
        "id": "1LeqWYuWX4y_",
        "outputId": "991d30fc-8284-4487-8e02-7bf8c372709f"
      },
      "execution_count": 4,
      "outputs": [
        {
          "output_type": "stream",
          "name": "stdout",
          "text": [
            "Mean Absolute Error (MAE): 922.0184\n",
            "Root Mean Squared Error (RMSE): 971.4350\n",
            "Mean Absolute Percentage Error (MAPE): 19.65%\n",
            "Correlation Coefficient: 0.9034\n",
            "Directional Accuracy: 0.53\n"
          ]
        }
      ]
    },
    {
      "cell_type": "code",
      "source": [
        "!pip install keras-tuner"
      ],
      "metadata": {
        "collapsed": true,
        "colab": {
          "base_uri": "https://localhost:8080/"
        },
        "id": "5PPnuoo2Xsll",
        "outputId": "9a217c76-de00-4a6d-9cda-71b4f6e74b5e"
      },
      "execution_count": 5,
      "outputs": [
        {
          "output_type": "stream",
          "name": "stdout",
          "text": [
            "Collecting keras-tuner\n",
            "  Downloading keras_tuner-1.4.7-py3-none-any.whl.metadata (5.4 kB)\n",
            "Requirement already satisfied: keras in /usr/local/lib/python3.10/dist-packages (from keras-tuner) (3.5.0)\n",
            "Requirement already satisfied: packaging in /usr/local/lib/python3.10/dist-packages (from keras-tuner) (24.2)\n",
            "Requirement already satisfied: requests in /usr/local/lib/python3.10/dist-packages (from keras-tuner) (2.32.3)\n",
            "Collecting kt-legacy (from keras-tuner)\n",
            "  Downloading kt_legacy-1.0.5-py3-none-any.whl.metadata (221 bytes)\n",
            "Requirement already satisfied: absl-py in /usr/local/lib/python3.10/dist-packages (from keras->keras-tuner) (1.4.0)\n",
            "Requirement already satisfied: numpy in /usr/local/lib/python3.10/dist-packages (from keras->keras-tuner) (1.26.4)\n",
            "Requirement already satisfied: rich in /usr/local/lib/python3.10/dist-packages (from keras->keras-tuner) (13.9.4)\n",
            "Requirement already satisfied: namex in /usr/local/lib/python3.10/dist-packages (from keras->keras-tuner) (0.0.8)\n",
            "Requirement already satisfied: h5py in /usr/local/lib/python3.10/dist-packages (from keras->keras-tuner) (3.12.1)\n",
            "Requirement already satisfied: optree in /usr/local/lib/python3.10/dist-packages (from keras->keras-tuner) (0.13.1)\n",
            "Requirement already satisfied: ml-dtypes in /usr/local/lib/python3.10/dist-packages (from keras->keras-tuner) (0.4.1)\n",
            "Requirement already satisfied: charset-normalizer<4,>=2 in /usr/local/lib/python3.10/dist-packages (from requests->keras-tuner) (3.4.0)\n",
            "Requirement already satisfied: idna<4,>=2.5 in /usr/local/lib/python3.10/dist-packages (from requests->keras-tuner) (3.10)\n",
            "Requirement already satisfied: urllib3<3,>=1.21.1 in /usr/local/lib/python3.10/dist-packages (from requests->keras-tuner) (2.2.3)\n",
            "Requirement already satisfied: certifi>=2017.4.17 in /usr/local/lib/python3.10/dist-packages (from requests->keras-tuner) (2024.8.30)\n",
            "Requirement already satisfied: typing-extensions>=4.5.0 in /usr/local/lib/python3.10/dist-packages (from optree->keras->keras-tuner) (4.12.2)\n",
            "Requirement already satisfied: markdown-it-py>=2.2.0 in /usr/local/lib/python3.10/dist-packages (from rich->keras->keras-tuner) (3.0.0)\n",
            "Requirement already satisfied: pygments<3.0.0,>=2.13.0 in /usr/local/lib/python3.10/dist-packages (from rich->keras->keras-tuner) (2.18.0)\n",
            "Requirement already satisfied: mdurl~=0.1 in /usr/local/lib/python3.10/dist-packages (from markdown-it-py>=2.2.0->rich->keras->keras-tuner) (0.1.2)\n",
            "Downloading keras_tuner-1.4.7-py3-none-any.whl (129 kB)\n",
            "\u001b[?25l   \u001b[90m━━━━━━━━━━━━━━━━━━━━━━━━━━━━━━━━━━━━━━━━\u001b[0m \u001b[32m0.0/129.1 kB\u001b[0m \u001b[31m?\u001b[0m eta \u001b[36m-:--:--\u001b[0m\r\u001b[2K   \u001b[90m━━━━━━━━━━━━━━━━━━━━━━━━━━━━━━━━━━━━━━━━\u001b[0m \u001b[32m129.1/129.1 kB\u001b[0m \u001b[31m3.8 MB/s\u001b[0m eta \u001b[36m0:00:00\u001b[0m\n",
            "\u001b[?25hDownloading kt_legacy-1.0.5-py3-none-any.whl (9.6 kB)\n",
            "Installing collected packages: kt-legacy, keras-tuner\n",
            "Successfully installed keras-tuner-1.4.7 kt-legacy-1.0.5\n"
          ]
        }
      ]
    },
    {
      "cell_type": "code",
      "source": [
        "import keras_tuner as kt\n",
        "from tensorflow.keras.models import Sequential\n",
        "from tensorflow.keras.layers import LSTM, Dense, Dropout, Input\n",
        "from tensorflow.keras.losses import Huber\n",
        "\n",
        "# Define the search space\n",
        "def build_model(hp):\n",
        "    model = Sequential([\n",
        "        Input(shape=(sequence_length, X.shape[1])),\n",
        "        LSTM(\n",
        "            hp.Int('units_1', min_value=50, max_value=200, step=50),\n",
        "            return_sequences=True\n",
        "        ),\n",
        "        Dropout(hp.Float('dropout_1', min_value=0.2, max_value=0.5, step=0.1)),\n",
        "        LSTM(\n",
        "            hp.Int('units_2', min_value=50, max_value=200, step=50),\n",
        "            return_sequences=False\n",
        "        ),\n",
        "        Dropout(hp.Float('dropout_2', min_value=0.2, max_value=0.5, step=0.1)),\n",
        "        Dense(hp.Int('dense_units', min_value=25, max_value=100, step=25), activation='relu'),\n",
        "        Dense(1)\n",
        "    ])\n",
        "    model.compile(\n",
        "        optimizer='adam',\n",
        "        loss=Huber(delta=1.0)\n",
        "    )\n",
        "    return model\n",
        "\n",
        "# Initialize Keras Tuner\n",
        "tuner = kt.RandomSearch(\n",
        "    build_model,\n",
        "    objective='val_loss',\n",
        "    max_trials=10,  # Number of hyperparameter configurations to try\n",
        "    executions_per_trial=2,  # Run each configuration multiple times\n",
        "    directory='tuner_logs',\n",
        "    project_name='lstm_tuning'\n",
        ")\n",
        "\n",
        "# Run hyperparameter search\n",
        "tuner.search(\n",
        "    X_train, y_train,\n",
        "    epochs=20,\n",
        "    validation_data=(X_test, y_test),\n",
        "    batch_size=32\n",
        ")\n",
        "\n",
        "# Retrieve the best hyperparameters\n",
        "best_hps = tuner.get_best_hyperparameters(num_trials=1)[0]\n",
        "\n",
        "print(\"Best Hyperparameters:\")\n",
        "for param, value in best_hps.values.items():\n",
        "    print(f\"{param}: {value}\")\n",
        "\n",
        "# Build the model with the best hyperparameters\n",
        "model = tuner.hypermodel.build(best_hps)\n",
        "\n",
        "# Train the best model\n",
        "history = model.fit(\n",
        "    X_train, y_train,\n",
        "    epochs=50,\n",
        "    validation_data=(X_test, y_test),\n",
        "    batch_size=32\n",
        ")\n",
        "\n",
        "# Evaluate the best model\n",
        "final_loss = model.evaluate(X_test, y_test, verbose=0)\n",
        "print(f\"Final Test Loss: {final_loss:.4f}\")\n",
        "\n",
        "# Predictions\n",
        "y_pred_scaled = model.predict(X_test)\n",
        "y_pred = scaler_y.inverse_transform(y_pred_scaled)\n",
        "y_test_unscaled = scaler_y.inverse_transform(y_test)\n",
        "\n",
        "# Plot true vs. predicted prices\n",
        "plt.figure(figsize=(12, 6))\n",
        "plt.plot(y_test_unscaled, label='True S&P 500 Price')\n",
        "plt.plot(y_pred, label='Predicted S&P 500 Price')\n",
        "plt.legend()\n",
        "plt.title('True vs Predicted S&P 500 Price (Best Model)')\n",
        "plt.xlabel('Time')\n",
        "plt.ylabel('Price')\n",
        "plt.show()\n"
      ],
      "metadata": {
        "colab": {
          "base_uri": "https://localhost:8080/",
          "height": 1000
        },
        "id": "YpXxfpaQY08X",
        "outputId": "94695875-60f3-4381-e12e-ce665159bcb1"
      },
      "execution_count": 6,
      "outputs": [
        {
          "output_type": "stream",
          "name": "stdout",
          "text": [
            "Trial 10 Complete [00h 00m 33s]\n",
            "val_loss: 0.0013911712740082294\n",
            "\n",
            "Best val_loss So Far: 0.0008352984441444278\n",
            "Total elapsed time: 00h 05m 27s\n",
            "Best Hyperparameters:\n",
            "units_1: 200\n",
            "dropout_1: 0.4\n",
            "units_2: 200\n",
            "dropout_2: 0.2\n",
            "dense_units: 50\n",
            "Epoch 1/50\n",
            "\u001b[1m74/74\u001b[0m \u001b[32m━━━━━━━━━━━━━━━━━━━━\u001b[0m\u001b[37m\u001b[0m \u001b[1m3s\u001b[0m 12ms/step - loss: 0.0082 - val_loss: 0.0062\n",
            "Epoch 2/50\n",
            "\u001b[1m74/74\u001b[0m \u001b[32m━━━━━━━━━━━━━━━━━━━━\u001b[0m\u001b[37m\u001b[0m \u001b[1m1s\u001b[0m 9ms/step - loss: 7.9725e-04 - val_loss: 0.0024\n",
            "Epoch 3/50\n",
            "\u001b[1m74/74\u001b[0m \u001b[32m━━━━━━━━━━━━━━━━━━━━\u001b[0m\u001b[37m\u001b[0m \u001b[1m1s\u001b[0m 9ms/step - loss: 6.5987e-04 - val_loss: 0.0069\n",
            "Epoch 4/50\n",
            "\u001b[1m74/74\u001b[0m \u001b[32m━━━━━━━━━━━━━━━━━━━━\u001b[0m\u001b[37m\u001b[0m \u001b[1m1s\u001b[0m 9ms/step - loss: 6.3124e-04 - val_loss: 0.0025\n",
            "Epoch 5/50\n",
            "\u001b[1m74/74\u001b[0m \u001b[32m━━━━━━━━━━━━━━━━━━━━\u001b[0m\u001b[37m\u001b[0m \u001b[1m1s\u001b[0m 9ms/step - loss: 5.9134e-04 - val_loss: 8.3372e-04\n",
            "Epoch 6/50\n",
            "\u001b[1m74/74\u001b[0m \u001b[32m━━━━━━━━━━━━━━━━━━━━\u001b[0m\u001b[37m\u001b[0m \u001b[1m1s\u001b[0m 9ms/step - loss: 4.0198e-04 - val_loss: 0.0014\n",
            "Epoch 7/50\n",
            "\u001b[1m74/74\u001b[0m \u001b[32m━━━━━━━━━━━━━━━━━━━━\u001b[0m\u001b[37m\u001b[0m \u001b[1m1s\u001b[0m 9ms/step - loss: 4.3678e-04 - val_loss: 0.0021\n",
            "Epoch 8/50\n",
            "\u001b[1m74/74\u001b[0m \u001b[32m━━━━━━━━━━━━━━━━━━━━\u001b[0m\u001b[37m\u001b[0m \u001b[1m1s\u001b[0m 9ms/step - loss: 3.7159e-04 - val_loss: 0.0019\n",
            "Epoch 9/50\n",
            "\u001b[1m74/74\u001b[0m \u001b[32m━━━━━━━━━━━━━━━━━━━━\u001b[0m\u001b[37m\u001b[0m \u001b[1m1s\u001b[0m 9ms/step - loss: 4.3481e-04 - val_loss: 0.0012\n",
            "Epoch 10/50\n",
            "\u001b[1m74/74\u001b[0m \u001b[32m━━━━━━━━━━━━━━━━━━━━\u001b[0m\u001b[37m\u001b[0m \u001b[1m1s\u001b[0m 9ms/step - loss: 3.5357e-04 - val_loss: 0.0011\n",
            "Epoch 11/50\n",
            "\u001b[1m74/74\u001b[0m \u001b[32m━━━━━━━━━━━━━━━━━━━━\u001b[0m\u001b[37m\u001b[0m \u001b[1m1s\u001b[0m 9ms/step - loss: 3.1771e-04 - val_loss: 0.0013\n",
            "Epoch 12/50\n",
            "\u001b[1m74/74\u001b[0m \u001b[32m━━━━━━━━━━━━━━━━━━━━\u001b[0m\u001b[37m\u001b[0m \u001b[1m1s\u001b[0m 9ms/step - loss: 3.3463e-04 - val_loss: 0.0023\n",
            "Epoch 13/50\n",
            "\u001b[1m74/74\u001b[0m \u001b[32m━━━━━━━━━━━━━━━━━━━━\u001b[0m\u001b[37m\u001b[0m \u001b[1m1s\u001b[0m 9ms/step - loss: 3.6410e-04 - val_loss: 0.0012\n",
            "Epoch 14/50\n",
            "\u001b[1m74/74\u001b[0m \u001b[32m━━━━━━━━━━━━━━━━━━━━\u001b[0m\u001b[37m\u001b[0m \u001b[1m1s\u001b[0m 9ms/step - loss: 2.6182e-04 - val_loss: 0.0016\n",
            "Epoch 15/50\n",
            "\u001b[1m74/74\u001b[0m \u001b[32m━━━━━━━━━━━━━━━━━━━━\u001b[0m\u001b[37m\u001b[0m \u001b[1m1s\u001b[0m 9ms/step - loss: 3.5348e-04 - val_loss: 0.0036\n",
            "Epoch 16/50\n",
            "\u001b[1m74/74\u001b[0m \u001b[32m━━━━━━━━━━━━━━━━━━━━\u001b[0m\u001b[37m\u001b[0m \u001b[1m1s\u001b[0m 9ms/step - loss: 2.2244e-04 - val_loss: 0.0019\n",
            "Epoch 17/50\n",
            "\u001b[1m74/74\u001b[0m \u001b[32m━━━━━━━━━━━━━━━━━━━━\u001b[0m\u001b[37m\u001b[0m \u001b[1m1s\u001b[0m 9ms/step - loss: 3.1533e-04 - val_loss: 0.0018\n",
            "Epoch 18/50\n",
            "\u001b[1m74/74\u001b[0m \u001b[32m━━━━━━━━━━━━━━━━━━━━\u001b[0m\u001b[37m\u001b[0m \u001b[1m1s\u001b[0m 9ms/step - loss: 2.3551e-04 - val_loss: 0.0035\n",
            "Epoch 19/50\n",
            "\u001b[1m74/74\u001b[0m \u001b[32m━━━━━━━━━━━━━━━━━━━━\u001b[0m\u001b[37m\u001b[0m \u001b[1m1s\u001b[0m 9ms/step - loss: 2.7569e-04 - val_loss: 0.0012\n",
            "Epoch 20/50\n",
            "\u001b[1m74/74\u001b[0m \u001b[32m━━━━━━━━━━━━━━━━━━━━\u001b[0m\u001b[37m\u001b[0m \u001b[1m1s\u001b[0m 9ms/step - loss: 2.4335e-04 - val_loss: 0.0016\n",
            "Epoch 21/50\n",
            "\u001b[1m74/74\u001b[0m \u001b[32m━━━━━━━━━━━━━━━━━━━━\u001b[0m\u001b[37m\u001b[0m \u001b[1m1s\u001b[0m 9ms/step - loss: 2.2238e-04 - val_loss: 0.0025\n",
            "Epoch 22/50\n",
            "\u001b[1m74/74\u001b[0m \u001b[32m━━━━━━━━━━━━━━━━━━━━\u001b[0m\u001b[37m\u001b[0m \u001b[1m1s\u001b[0m 9ms/step - loss: 1.9461e-04 - val_loss: 0.0020\n",
            "Epoch 23/50\n",
            "\u001b[1m74/74\u001b[0m \u001b[32m━━━━━━━━━━━━━━━━━━━━\u001b[0m\u001b[37m\u001b[0m \u001b[1m1s\u001b[0m 9ms/step - loss: 1.8738e-04 - val_loss: 0.0030\n",
            "Epoch 24/50\n",
            "\u001b[1m74/74\u001b[0m \u001b[32m━━━━━━━━━━━━━━━━━━━━\u001b[0m\u001b[37m\u001b[0m \u001b[1m1s\u001b[0m 9ms/step - loss: 1.8926e-04 - val_loss: 0.0032\n",
            "Epoch 25/50\n",
            "\u001b[1m74/74\u001b[0m \u001b[32m━━━━━━━━━━━━━━━━━━━━\u001b[0m\u001b[37m\u001b[0m \u001b[1m1s\u001b[0m 9ms/step - loss: 2.5475e-04 - val_loss: 0.0024\n",
            "Epoch 26/50\n",
            "\u001b[1m74/74\u001b[0m \u001b[32m━━━━━━━━━━━━━━━━━━━━\u001b[0m\u001b[37m\u001b[0m \u001b[1m1s\u001b[0m 9ms/step - loss: 2.1598e-04 - val_loss: 0.0028\n",
            "Epoch 27/50\n",
            "\u001b[1m74/74\u001b[0m \u001b[32m━━━━━━━━━━━━━━━━━━━━\u001b[0m\u001b[37m\u001b[0m \u001b[1m1s\u001b[0m 9ms/step - loss: 1.6989e-04 - val_loss: 0.0033\n",
            "Epoch 28/50\n",
            "\u001b[1m74/74\u001b[0m \u001b[32m━━━━━━━━━━━━━━━━━━━━\u001b[0m\u001b[37m\u001b[0m \u001b[1m1s\u001b[0m 9ms/step - loss: 1.9626e-04 - val_loss: 0.0031\n",
            "Epoch 29/50\n",
            "\u001b[1m74/74\u001b[0m \u001b[32m━━━━━━━━━━━━━━━━━━━━\u001b[0m\u001b[37m\u001b[0m \u001b[1m1s\u001b[0m 9ms/step - loss: 1.5110e-04 - val_loss: 0.0021\n",
            "Epoch 30/50\n",
            "\u001b[1m74/74\u001b[0m \u001b[32m━━━━━━━━━━━━━━━━━━━━\u001b[0m\u001b[37m\u001b[0m \u001b[1m1s\u001b[0m 9ms/step - loss: 1.7613e-04 - val_loss: 0.0016\n",
            "Epoch 31/50\n",
            "\u001b[1m74/74\u001b[0m \u001b[32m━━━━━━━━━━━━━━━━━━━━\u001b[0m\u001b[37m\u001b[0m \u001b[1m1s\u001b[0m 9ms/step - loss: 1.7909e-04 - val_loss: 0.0019\n",
            "Epoch 32/50\n",
            "\u001b[1m74/74\u001b[0m \u001b[32m━━━━━━━━━━━━━━━━━━━━\u001b[0m\u001b[37m\u001b[0m \u001b[1m1s\u001b[0m 9ms/step - loss: 1.6588e-04 - val_loss: 0.0021\n",
            "Epoch 33/50\n",
            "\u001b[1m74/74\u001b[0m \u001b[32m━━━━━━━━━━━━━━━━━━━━\u001b[0m\u001b[37m\u001b[0m \u001b[1m1s\u001b[0m 9ms/step - loss: 1.7776e-04 - val_loss: 0.0029\n",
            "Epoch 34/50\n",
            "\u001b[1m74/74\u001b[0m \u001b[32m━━━━━━━━━━━━━━━━━━━━\u001b[0m\u001b[37m\u001b[0m \u001b[1m1s\u001b[0m 9ms/step - loss: 2.2616e-04 - val_loss: 0.0024\n",
            "Epoch 35/50\n",
            "\u001b[1m74/74\u001b[0m \u001b[32m━━━━━━━━━━━━━━━━━━━━\u001b[0m\u001b[37m\u001b[0m \u001b[1m1s\u001b[0m 9ms/step - loss: 1.7219e-04 - val_loss: 0.0020\n",
            "Epoch 36/50\n",
            "\u001b[1m74/74\u001b[0m \u001b[32m━━━━━━━━━━━━━━━━━━━━\u001b[0m\u001b[37m\u001b[0m \u001b[1m1s\u001b[0m 9ms/step - loss: 1.5857e-04 - val_loss: 0.0034\n",
            "Epoch 37/50\n",
            "\u001b[1m74/74\u001b[0m \u001b[32m━━━━━━━━━━━━━━━━━━━━\u001b[0m\u001b[37m\u001b[0m \u001b[1m1s\u001b[0m 9ms/step - loss: 1.6769e-04 - val_loss: 0.0022\n",
            "Epoch 38/50\n",
            "\u001b[1m74/74\u001b[0m \u001b[32m━━━━━━━━━━━━━━━━━━━━\u001b[0m\u001b[37m\u001b[0m \u001b[1m1s\u001b[0m 9ms/step - loss: 1.4594e-04 - val_loss: 0.0021\n",
            "Epoch 39/50\n",
            "\u001b[1m74/74\u001b[0m \u001b[32m━━━━━━━━━━━━━━━━━━━━\u001b[0m\u001b[37m\u001b[0m \u001b[1m1s\u001b[0m 9ms/step - loss: 1.4535e-04 - val_loss: 0.0017\n",
            "Epoch 40/50\n",
            "\u001b[1m74/74\u001b[0m \u001b[32m━━━━━━━━━━━━━━━━━━━━\u001b[0m\u001b[37m\u001b[0m \u001b[1m1s\u001b[0m 9ms/step - loss: 1.3799e-04 - val_loss: 0.0019\n",
            "Epoch 41/50\n",
            "\u001b[1m74/74\u001b[0m \u001b[32m━━━━━━━━━━━━━━━━━━━━\u001b[0m\u001b[37m\u001b[0m \u001b[1m1s\u001b[0m 9ms/step - loss: 1.4377e-04 - val_loss: 0.0021\n",
            "Epoch 42/50\n",
            "\u001b[1m74/74\u001b[0m \u001b[32m━━━━━━━━━━━━━━━━━━━━\u001b[0m\u001b[37m\u001b[0m \u001b[1m1s\u001b[0m 9ms/step - loss: 1.4424e-04 - val_loss: 0.0026\n",
            "Epoch 43/50\n",
            "\u001b[1m74/74\u001b[0m \u001b[32m━━━━━━━━━━━━━━━━━━━━\u001b[0m\u001b[37m\u001b[0m \u001b[1m1s\u001b[0m 9ms/step - loss: 1.7624e-04 - val_loss: 0.0022\n",
            "Epoch 44/50\n",
            "\u001b[1m74/74\u001b[0m \u001b[32m━━━━━━━━━━━━━━━━━━━━\u001b[0m\u001b[37m\u001b[0m \u001b[1m1s\u001b[0m 9ms/step - loss: 1.3748e-04 - val_loss: 0.0028\n",
            "Epoch 45/50\n",
            "\u001b[1m74/74\u001b[0m \u001b[32m━━━━━━━━━━━━━━━━━━━━\u001b[0m\u001b[37m\u001b[0m \u001b[1m1s\u001b[0m 9ms/step - loss: 1.2011e-04 - val_loss: 0.0026\n",
            "Epoch 46/50\n",
            "\u001b[1m74/74\u001b[0m \u001b[32m━━━━━━━━━━━━━━━━━━━━\u001b[0m\u001b[37m\u001b[0m \u001b[1m1s\u001b[0m 9ms/step - loss: 1.3207e-04 - val_loss: 0.0024\n",
            "Epoch 47/50\n",
            "\u001b[1m74/74\u001b[0m \u001b[32m━━━━━━━━━━━━━━━━━━━━\u001b[0m\u001b[37m\u001b[0m \u001b[1m1s\u001b[0m 9ms/step - loss: 1.9405e-04 - val_loss: 0.0024\n",
            "Epoch 48/50\n",
            "\u001b[1m74/74\u001b[0m \u001b[32m━━━━━━━━━━━━━━━━━━━━\u001b[0m\u001b[37m\u001b[0m \u001b[1m1s\u001b[0m 9ms/step - loss: 1.8340e-04 - val_loss: 0.0019\n",
            "Epoch 49/50\n",
            "\u001b[1m74/74\u001b[0m \u001b[32m━━━━━━━━━━━━━━━━━━━━\u001b[0m\u001b[37m\u001b[0m \u001b[1m1s\u001b[0m 9ms/step - loss: 1.4612e-04 - val_loss: 0.0027\n",
            "Epoch 50/50\n",
            "\u001b[1m74/74\u001b[0m \u001b[32m━━━━━━━━━━━━━━━━━━━━\u001b[0m\u001b[37m\u001b[0m \u001b[1m1s\u001b[0m 9ms/step - loss: 1.3050e-04 - val_loss: 0.0033\n",
            "Final Test Loss: 0.0033\n",
            "\u001b[1m19/19\u001b[0m \u001b[32m━━━━━━━━━━━━━━━━━━━━\u001b[0m\u001b[37m\u001b[0m \u001b[1m0s\u001b[0m 12ms/step\n"
          ]
        },
        {
          "output_type": "display_data",
          "data": {
            "text/plain": [
              "<Figure size 1200x600 with 1 Axes>"
            ],
            "image/png": "[encoded data removed]"
          },
          "metadata": {}
        }
      ]
    },
    {
      "cell_type": "code",
      "source": [
        "# Calculate metrics\n",
        "mae = mean_absolute_error(y_test_unscaled, y_pred)\n",
        "rmse = np.sqrt(mean_squared_error(y_test_unscaled, y_pred))\n",
        "mape = np.mean(np.abs((y_test_unscaled - y_pred) / y_test_unscaled)) * 100\n",
        "correlation = np.corrcoef(y_test_unscaled.flatten(), y_pred.flatten())[0, 1]\n",
        "\n",
        "# Directional accuracy\n",
        "direction_actual = np.sign(np.diff(y_test_unscaled.flatten()))\n",
        "direction_predicted = np.sign(np.diff(y_pred.flatten()))\n",
        "directional_accuracy = np.mean(direction_actual == direction_predicted)\n",
        "\n",
        "# Print evaluation metrics\n",
        "print(f\"Mean Absolute Error (MAE): {mae:.4f}\")\n",
        "print(f\"Root Mean Squared Error (RMSE): {rmse:.4f}\")\n",
        "print(f\"Mean Absolute Percentage Error (MAPE): {mape:.2f}%\")\n",
        "print(f\"Correlation Coefficient: {correlation:.4f}\")\n",
        "print(f\"Directional Accuracy: {directional_accuracy:.2f}\")"
      ],
      "metadata": {
        "id": "pu3S5nF5eNjt",
        "outputId": "772ad22f-a5af-403b-8791-e9ab2df5378e",
        "colab": {
          "base_uri": "https://localhost:8080/"
        }
      },
      "execution_count": 7,
      "outputs": [
        {
          "output_type": "stream",
          "name": "stdout",
          "text": [
            "Mean Absolute Error (MAE): 292.4813\n",
            "Root Mean Squared Error (RMSE): 366.8504\n",
            "Mean Absolute Percentage Error (MAPE): 6.08%\n",
            "Correlation Coefficient: 0.9222\n",
            "Directional Accuracy: 0.52\n"
          ]
        }
      ]
    },
    {
      "cell_type": "code",
      "source": [
        "# Parameters\n",
        "initial_capital = 100000  # Starting capital in dollars\n",
        "transaction_cost = 0.001  # Transaction cost as a percentage (0.1%)\n",
        "capital = initial_capital\n",
        "cash = initial_capital\n",
        "positions = 0  # Number of units held\n",
        "portfolio_value = []\n",
        "daily_pnl = []\n",
        "\n",
        "# Simulate trading\n",
        "for i in range(1, len(y_test_unscaled)):\n",
        "    # Decision: buy, sell, or hold\n",
        "    if y_pred[i] > y_test_unscaled[i - 1] and positions == 0:  # Buy signal\n",
        "        positions = cash / y_test_unscaled[i]  # Buy maximum units possible\n",
        "        cash = 0\n",
        "    elif y_pred[i] < y_test_unscaled[i - 1] and positions > 0:  # Sell signal\n",
        "        cash = positions * y_test_unscaled[i]  # Sell all units\n",
        "        cash -= transaction_cost * cash  # Deduct transaction cost\n",
        "        positions = 0\n",
        "\n",
        "    # Calculate portfolio value\n",
        "    current_value = float(cash + (positions * y_test_unscaled[i]))\n",
        "    portfolio_value.append(current_value)\n",
        "\n",
        "    # Calculate daily P&L\n",
        "    if i > 1:\n",
        "        daily_pnl.append(float(portfolio_value[-1] - portfolio_value[-2]))\n",
        "\n",
        "# Ensure portfolio value has no missing values\n",
        "portfolio_value = [initial_capital] + portfolio_value  # Add initial capital for the first value\n",
        "\n",
        "# Convert to DataFrame for analysis\n",
        "import pandas as pd\n",
        "\n",
        "pnl_df = pd.DataFrame({\n",
        "    'Portfolio Value': portfolio_value[1:],  # Ignore the initial value used as reference\n",
        "    'Daily P&L': [0] + daily_pnl\n",
        "})\n",
        "\n",
        "# Summary metrics\n",
        "total_pnl = portfolio_value[-1] - initial_capital\n",
        "cumulative_return = (portfolio_value[-1] / initial_capital - 1) * 100\n",
        "daily_returns = pd.Series(pnl_df['Daily P&L']) / initial_capital\n",
        "\n",
        "# Ensure no division by zero in Sharpe ratio calculation\n",
        "if daily_returns.std() != 0:\n",
        "    sharpe_ratio = daily_returns.mean() / daily_returns.std() * np.sqrt(252)\n",
        "else:\n",
        "    sharpe_ratio = 0  # No variability in returns, Sharpe ratio is undefined\n",
        "\n",
        "# Print results\n",
        "print(f\"Initial Capital: ${initial_capital}\")\n",
        "print(f\"Final Portfolio Value: ${portfolio_value[-1]:.2f}\")\n",
        "print(f\"Total Profit/Loss: ${total_pnl:.2f}\")\n",
        "print(f\"Cumulative Return: {cumulative_return:.2f}%\")\n",
        "print(f\"Sharpe Ratio: {sharpe_ratio:.2f}\")\n",
        "\n",
        "# Plot portfolio value over time\n",
        "import matplotlib.pyplot as plt\n",
        "\n",
        "plt.figure(figsize=(12, 6))\n",
        "plt.plot(portfolio_value[1:], label='Portfolio Value')\n",
        "plt.title('Portfolio Value Over Time')\n",
        "plt.xlabel('Days')\n",
        "plt.ylabel('Portfolio Value ($)')\n",
        "plt.legend()\n",
        "plt.show()"
      ],
      "metadata": {
        "id": "FGKxhUgaeVfx",
        "outputId": "30276084-03ac-4782-b946-b25b0f2c6533",
        "colab": {
          "base_uri": "https://localhost:8080/",
          "height": 500
        }
      },
      "execution_count": 10,
      "outputs": [
        {
          "output_type": "stream",
          "name": "stdout",
          "text": [
            "Initial Capital: $100000\n",
            "Final Portfolio Value: $117239.96\n",
            "Total Profit/Loss: $17239.96\n",
            "Cumulative Return: 17.24%\n",
            "Sharpe Ratio: 1.16\n"
          ]
        },
        {
          "output_type": "stream",
          "name": "stderr",
          "text": [
            "<ipython-input-10-bf04f56142c4>:22: DeprecationWarning: Conversion of an array with ndim > 0 to a scalar is deprecated, and will error in future. Ensure you extract a single element from your array before performing this operation. (Deprecated NumPy 1.25.)\n",
            "  current_value = float(cash + (positions * y_test_unscaled[i]))\n"
          ]
        },
        {
          "output_type": "display_data",
          "data": {
            "text/plain": [
              "<Figure size 1200x600 with 1 Axes>"
            ],
            "image/png": "[encoded data removed]"
          },
          "metadata": {}
        }
      ]
    }
  ]
}