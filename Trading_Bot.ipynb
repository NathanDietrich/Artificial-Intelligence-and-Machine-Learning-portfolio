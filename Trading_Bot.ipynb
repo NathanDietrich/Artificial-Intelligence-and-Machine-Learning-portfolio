{
  "nbformat": 4,
  "nbformat_minor": 0,
  "metadata": {
    "colab": {
      "provenance": [],
      "authorship_tag": "ABX9TyMiWtGCtjZSbXbm7rRPN3Ze",
      "include_colab_link": true
    },
    "kernelspec": {
      "name": "python3",
      "display_name": "Python 3"
    },
    "language_info": {
      "name": "python"
    }
  },
  "cells": [
    {
      "cell_type": "markdown",
      "metadata": {
        "id": "view-in-github",
        "colab_type": "text"
      },
      "source": [
        "<a href=\"https://colab.research.google.com/github/NathanDietrich/Artificial-Intelligence-and-Machine-Learning-portfolio/blob/main/Trading_Bot.ipynb\" target=\"_parent\"><img src=\"https://colab.research.google.com/assets/colab-badge.svg\" alt=\"Open In Colab\"/></a>"
      ]
    },
    {
      "cell_type": "markdown",
      "source": [
        "# Stock Data collection"
      ],
      "metadata": {
        "id": "ZkUR0VVwdg7B"
      }
    },
    {
      "cell_type": "markdown",
      "source": [
        "Started the project by following this tutorital of how to import financial Data\n",
        "https://www.youtube.com/watch?v=t_vZDyQDUkk"
      ],
      "metadata": {
        "id": "EZ_rroA7nvX_"
      }
    },
    {
      "cell_type": "code",
      "execution_count": 2,
      "metadata": {
        "colab": {
          "base_uri": "https://localhost:8080/"
        },
        "id": "Q-wY17xljafd",
        "outputId": "eb5d5160-0436-47eb-9ed5-bdd6c6695015"
      },
      "outputs": [
        {
          "output_type": "stream",
          "name": "stdout",
          "text": [
            "Requirement already satisfied: yfinance in /usr/local/lib/python3.10/dist-packages (0.2.48)\n",
            "Requirement already satisfied: pandas>=1.3.0 in /usr/local/lib/python3.10/dist-packages (from yfinance) (2.2.2)\n",
            "Requirement already satisfied: numpy>=1.16.5 in /usr/local/lib/python3.10/dist-packages (from yfinance) (1.26.4)\n",
            "Requirement already satisfied: requests>=2.31 in /usr/local/lib/python3.10/dist-packages (from yfinance) (2.32.3)\n",
            "Requirement already satisfied: multitasking>=0.0.7 in /usr/local/lib/python3.10/dist-packages (from yfinance) (0.0.11)\n",
            "Requirement already satisfied: lxml>=4.9.1 in /usr/local/lib/python3.10/dist-packages (from yfinance) (5.3.0)\n",
            "Requirement already satisfied: platformdirs>=2.0.0 in /usr/local/lib/python3.10/dist-packages (from yfinance) (4.3.6)\n",
            "Requirement already satisfied: pytz>=2022.5 in /usr/local/lib/python3.10/dist-packages (from yfinance) (2024.2)\n",
            "Requirement already satisfied: frozendict>=2.3.4 in /usr/local/lib/python3.10/dist-packages (from yfinance) (2.4.6)\n",
            "Requirement already satisfied: peewee>=3.16.2 in /usr/local/lib/python3.10/dist-packages (from yfinance) (3.17.7)\n",
            "Requirement already satisfied: beautifulsoup4>=4.11.1 in /usr/local/lib/python3.10/dist-packages (from yfinance) (4.12.3)\n",
            "Requirement already satisfied: html5lib>=1.1 in /usr/local/lib/python3.10/dist-packages (from yfinance) (1.1)\n",
            "Requirement already satisfied: soupsieve>1.2 in /usr/local/lib/python3.10/dist-packages (from beautifulsoup4>=4.11.1->yfinance) (2.6)\n",
            "Requirement already satisfied: six>=1.9 in /usr/local/lib/python3.10/dist-packages (from html5lib>=1.1->yfinance) (1.16.0)\n",
            "Requirement already satisfied: webencodings in /usr/local/lib/python3.10/dist-packages (from html5lib>=1.1->yfinance) (0.5.1)\n",
            "Requirement already satisfied: python-dateutil>=2.8.2 in /usr/local/lib/python3.10/dist-packages (from pandas>=1.3.0->yfinance) (2.8.2)\n",
            "Requirement already satisfied: tzdata>=2022.7 in /usr/local/lib/python3.10/dist-packages (from pandas>=1.3.0->yfinance) (2024.2)\n",
            "Requirement already satisfied: charset-normalizer<4,>=2 in /usr/local/lib/python3.10/dist-packages (from requests>=2.31->yfinance) (3.4.0)\n",
            "Requirement already satisfied: idna<4,>=2.5 in /usr/local/lib/python3.10/dist-packages (from requests>=2.31->yfinance) (3.10)\n",
            "Requirement already satisfied: urllib3<3,>=1.21.1 in /usr/local/lib/python3.10/dist-packages (from requests>=2.31->yfinance) (2.2.3)\n",
            "Requirement already satisfied: certifi>=2017.4.17 in /usr/local/lib/python3.10/dist-packages (from requests>=2.31->yfinance) (2024.8.30)\n"
          ]
        }
      ],
      "source": [
        "import datetime as dt\n",
        "import pandas as pd\n",
        "from pandas_datareader import data as pdr\n",
        "!pip install yfinance --upgrade --no-cache-dir\n",
        "import yfinance as yf"
      ]
    },
    {
      "cell_type": "code",
      "source": [
        "#define range of study\n",
        "end = dt.datetime.now()\n",
        "start = end - dt.timedelta(days = 365)\n",
        "start, end"
      ],
      "metadata": {
        "colab": {
          "base_uri": "https://localhost:8080/"
        },
        "id": "8ROJsffvlT1f",
        "outputId": "04789687-b3ce-4379-c4c5-07eb46252b5c"
      },
      "execution_count": 3,
      "outputs": [
        {
          "output_type": "execute_result",
          "data": {
            "text/plain": [
              "(datetime.datetime(2023, 11, 7, 1, 17, 26, 642226),\n",
              " datetime.datetime(2024, 11, 6, 1, 17, 26, 642226))"
            ]
          },
          "metadata": {},
          "execution_count": 3
        }
      ]
    },
    {
      "cell_type": "code",
      "source": [
        "#Choose stock tickers to study\n",
        "#stocklist = ['NVDA', 'MSFT', 'TSLA', 'AAPL', 'CAVA']\n",
        "#stockList = ['CBA', 'NAB', 'WBC', 'ANZ']\n",
        "#stocks = [i + '.AX' for i in stockList]\n",
        "stockList = ['NVDA', 'MSFT', 'AAPL', 'TSLA']\n",
        "stocks = [i for i in stockList]\n",
        "stocks"
      ],
      "metadata": {
        "colab": {
          "base_uri": "https://localhost:8080/"
        },
        "id": "9PzgH_EJnDmR",
        "outputId": "279667f1-bab3-47a4-eee8-c8ad03c24a13"
      },
      "execution_count": 4,
      "outputs": [
        {
          "output_type": "execute_result",
          "data": {
            "text/plain": [
              "['NVDA', 'MSFT', 'AAPL', 'TSLA']"
            ]
          },
          "metadata": {},
          "execution_count": 4
        }
      ]
    },
    {
      "cell_type": "markdown",
      "source": [],
      "metadata": {
        "id": "CcdAqtWV4KIn"
      }
    },
    {
      "cell_type": "code",
      "source": [
        "#pdr.DataReader(stocklist, 'yahoo', start, end)\n",
        "\n",
        "df = yf.download(stocks, start, end)\n",
        "df.head()"
      ],
      "metadata": {
        "colab": {
          "base_uri": "https://localhost:8080/",
          "height": 422
        },
        "id": "bDsZBBz8oE4V",
        "outputId": "f078ff73-61d3-4ee0-dfc0-fcfd6299b2fe"
      },
      "execution_count": 5,
      "outputs": [
        {
          "output_type": "stream",
          "name": "stderr",
          "text": [
            "[*********************100%***********************]  4 of 4 completed\n"
          ]
        },
        {
          "output_type": "execute_result",
          "data": {
            "text/plain": [
              "Price                       Adj Close                                     \\\n",
              "Ticker                           AAPL        MSFT       NVDA        TSLA   \n",
              "Date                                                                       \n",
              "2023-11-07 00:00:00+00:00  180.894363  357.844025  45.941105  222.179993   \n",
              "2023-11-08 00:00:00+00:00  181.958893  360.494110  46.559914  222.110001   \n",
              "2023-11-09 00:00:00+00:00  181.481354  358.002808  46.935799  209.979996   \n",
              "2023-11-10 00:00:00+00:00  185.695343  366.915924  48.320381  214.649994   \n",
              "2023-11-13 00:00:00+00:00  184.101395  363.948181  48.605293  223.710007   \n",
              "\n",
              "Price                           Close                                     \\\n",
              "Ticker                           AAPL        MSFT       NVDA        TSLA   \n",
              "Date                                                                       \n",
              "2023-11-07 00:00:00+00:00  181.820007  360.529999  45.955002  222.179993   \n",
              "2023-11-08 00:00:00+00:00  182.889999  363.200012  46.574001  222.110001   \n",
              "2023-11-09 00:00:00+00:00  182.410004  360.690002  46.950001  209.979996   \n",
              "2023-11-10 00:00:00+00:00  186.399994  369.670013  48.334999  214.649994   \n",
              "2023-11-13 00:00:00+00:00  184.800003  366.679993  48.619999  223.710007   \n",
              "\n",
              "Price                            High              ...        Low              \\\n",
              "Ticker                           AAPL        MSFT  ...       NVDA        TSLA   \n",
              "Date                                               ...                          \n",
              "2023-11-07 00:00:00+00:00  182.440002  362.459991  ...  45.158001  215.720001   \n",
              "2023-11-08 00:00:00+00:00  183.449997  363.869995  ...  45.967999  217.639999   \n",
              "2023-11-09 00:00:00+00:00  184.119995  364.790009  ...  46.750000  206.679993   \n",
              "2023-11-10 00:00:00+00:00  186.570007  370.100006  ...  47.283001  205.690002   \n",
              "2023-11-13 00:00:00+00:00  186.029999  368.470001  ...  48.098999  211.610001   \n",
              "\n",
              "Price                            Open                                     \\\n",
              "Ticker                           AAPL        MSFT       NVDA        TSLA   \n",
              "Date                                                                       \n",
              "2023-11-07 00:00:00+00:00  179.179993  359.399994  45.719002  219.979996   \n",
              "2023-11-08 00:00:00+00:00  182.350006  361.679993  46.099998  223.149994   \n",
              "2023-11-09 00:00:00+00:00  182.960007  362.299988  47.466999  219.750000   \n",
              "2023-11-10 00:00:00+00:00  183.970001  361.489990  47.500000  210.029999   \n",
              "2023-11-13 00:00:00+00:00  185.820007  368.220001  48.320000  215.600006   \n",
              "\n",
              "Price                        Volume                                  \n",
              "Ticker                         AAPL      MSFT       NVDA       TSLA  \n",
              "Date                                                                 \n",
              "2023-11-07 00:00:00+00:00  70530000  25833900  343165000  116900100  \n",
              "2023-11-08 00:00:00+00:00  49340300  26767800  346719000  106584800  \n",
              "2023-11-09 00:00:00+00:00  53763500  24847300  540496000  142110500  \n",
              "2023-11-10 00:00:00+00:00  66133400  28042100  421245000  130994000  \n",
              "2023-11-13 00:00:00+00:00  43627500  19986500  384136000  140447600  \n",
              "\n",
              "[5 rows x 24 columns]"
            ],
            "text/html": [
              "\n",
              "  <div id=\"df-a0268ea2-38f7-4e39-8126-c52ee1f1843f\" class=\"colab-df-container\">\n",
              "    <div>\n",
              "<style scoped>\n",
              "    .dataframe tbody tr th:only-of-type {\n",
              "        vertical-align: middle;\n",
              "    }\n",
              "\n",
              "    .dataframe tbody tr th {\n",
              "        vertical-align: top;\n",
              "    }\n",
              "\n",
              "    .dataframe thead tr th {\n",
              "        text-align: left;\n",
              "    }\n",
              "\n",
              "    .dataframe thead tr:last-of-type th {\n",
              "        text-align: right;\n",
              "    }\n",
              "</style>\n",
              "<table border=\"1\" class=\"dataframe\">\n",
              "  <thead>\n",
              "    <tr>\n",
              "      <th>Price</th>\n",
              "      <th colspan=\"4\" halign=\"left\">Adj Close</th>\n",
              "      <th colspan=\"4\" halign=\"left\">Close</th>\n",
              "      <th colspan=\"2\" halign=\"left\">High</th>\n",
              "      <th>...</th>\n",
              "      <th colspan=\"2\" halign=\"left\">Low</th>\n",
              "      <th colspan=\"4\" halign=\"left\">Open</th>\n",
              "      <th colspan=\"4\" halign=\"left\">Volume</th>\n",
              "    </tr>\n",
              "    <tr>\n",
              "      <th>Ticker</th>\n",
              "      <th>AAPL</th>\n",
              "      <th>MSFT</th>\n",
              "      <th>NVDA</th>\n",
              "      <th>TSLA</th>\n",
              "      <th>AAPL</th>\n",
              "      <th>MSFT</th>\n",
              "      <th>NVDA</th>\n",
              "      <th>TSLA</th>\n",
              "      <th>AAPL</th>\n",
              "      <th>MSFT</th>\n",
              "      <th>...</th>\n",
              "      <th>NVDA</th>\n",
              "      <th>TSLA</th>\n",
              "      <th>AAPL</th>\n",
              "      <th>MSFT</th>\n",
              "      <th>NVDA</th>\n",
              "      <th>TSLA</th>\n",
              "      <th>AAPL</th>\n",
              "      <th>MSFT</th>\n",
              "      <th>NVDA</th>\n",
              "      <th>TSLA</th>\n",
              "    </tr>\n",
              "    <tr>\n",
              "      <th>Date</th>\n",
              "      <th></th>\n",
              "      <th></th>\n",
              "      <th></th>\n",
              "      <th></th>\n",
              "      <th></th>\n",
              "      <th></th>\n",
              "      <th></th>\n",
              "      <th></th>\n",
              "      <th></th>\n",
              "      <th></th>\n",
              "      <th></th>\n",
              "      <th></th>\n",
              "      <th></th>\n",
              "      <th></th>\n",
              "      <th></th>\n",
              "      <th></th>\n",
              "      <th></th>\n",
              "      <th></th>\n",
              "      <th></th>\n",
              "      <th></th>\n",
              "      <th></th>\n",
              "    </tr>\n",
              "  </thead>\n",
              "  <tbody>\n",
              "    <tr>\n",
              "      <th>2023-11-07 00:00:00+00:00</th>\n",
              "      <td>180.894363</td>\n",
              "      <td>357.844025</td>\n",
              "      <td>45.941105</td>\n",
              "      <td>222.179993</td>\n",
              "      <td>181.820007</td>\n",
              "      <td>360.529999</td>\n",
              "      <td>45.955002</td>\n",
              "      <td>222.179993</td>\n",
              "      <td>182.440002</td>\n",
              "      <td>362.459991</td>\n",
              "      <td>...</td>\n",
              "      <td>45.158001</td>\n",
              "      <td>215.720001</td>\n",
              "      <td>179.179993</td>\n",
              "      <td>359.399994</td>\n",
              "      <td>45.719002</td>\n",
              "      <td>219.979996</td>\n",
              "      <td>70530000</td>\n",
              "      <td>25833900</td>\n",
              "      <td>343165000</td>\n",
              "      <td>116900100</td>\n",
              "    </tr>\n",
              "    <tr>\n",
              "      <th>2023-11-08 00:00:00+00:00</th>\n",
              "      <td>181.958893</td>\n",
              "      <td>360.494110</td>\n",
              "      <td>46.559914</td>\n",
              "      <td>222.110001</td>\n",
              "      <td>182.889999</td>\n",
              "      <td>363.200012</td>\n",
              "      <td>46.574001</td>\n",
              "      <td>222.110001</td>\n",
              "      <td>183.449997</td>\n",
              "      <td>363.869995</td>\n",
              "      <td>...</td>\n",
              "      <td>45.967999</td>\n",
              "      <td>217.639999</td>\n",
              "      <td>182.350006</td>\n",
              "      <td>361.679993</td>\n",
              "      <td>46.099998</td>\n",
              "      <td>223.149994</td>\n",
              "      <td>49340300</td>\n",
              "      <td>26767800</td>\n",
              "      <td>346719000</td>\n",
              "      <td>106584800</td>\n",
              "    </tr>\n",
              "    <tr>\n",
              "      <th>2023-11-09 00:00:00+00:00</th>\n",
              "      <td>181.481354</td>\n",
              "      <td>358.002808</td>\n",
              "      <td>46.935799</td>\n",
              "      <td>209.979996</td>\n",
              "      <td>182.410004</td>\n",
              "      <td>360.690002</td>\n",
              "      <td>46.950001</td>\n",
              "      <td>209.979996</td>\n",
              "      <td>184.119995</td>\n",
              "      <td>364.790009</td>\n",
              "      <td>...</td>\n",
              "      <td>46.750000</td>\n",
              "      <td>206.679993</td>\n",
              "      <td>182.960007</td>\n",
              "      <td>362.299988</td>\n",
              "      <td>47.466999</td>\n",
              "      <td>219.750000</td>\n",
              "      <td>53763500</td>\n",
              "      <td>24847300</td>\n",
              "      <td>540496000</td>\n",
              "      <td>142110500</td>\n",
              "    </tr>\n",
              "    <tr>\n",
              "      <th>2023-11-10 00:00:00+00:00</th>\n",
              "      <td>185.695343</td>\n",
              "      <td>366.915924</td>\n",
              "      <td>48.320381</td>\n",
              "      <td>214.649994</td>\n",
              "      <td>186.399994</td>\n",
              "      <td>369.670013</td>\n",
              "      <td>48.334999</td>\n",
              "      <td>214.649994</td>\n",
              "      <td>186.570007</td>\n",
              "      <td>370.100006</td>\n",
              "      <td>...</td>\n",
              "      <td>47.283001</td>\n",
              "      <td>205.690002</td>\n",
              "      <td>183.970001</td>\n",
              "      <td>361.489990</td>\n",
              "      <td>47.500000</td>\n",
              "      <td>210.029999</td>\n",
              "      <td>66133400</td>\n",
              "      <td>28042100</td>\n",
              "      <td>421245000</td>\n",
              "      <td>130994000</td>\n",
              "    </tr>\n",
              "    <tr>\n",
              "      <th>2023-11-13 00:00:00+00:00</th>\n",
              "      <td>184.101395</td>\n",
              "      <td>363.948181</td>\n",
              "      <td>48.605293</td>\n",
              "      <td>223.710007</td>\n",
              "      <td>184.800003</td>\n",
              "      <td>366.679993</td>\n",
              "      <td>48.619999</td>\n",
              "      <td>223.710007</td>\n",
              "      <td>186.029999</td>\n",
              "      <td>368.470001</td>\n",
              "      <td>...</td>\n",
              "      <td>48.098999</td>\n",
              "      <td>211.610001</td>\n",
              "      <td>185.820007</td>\n",
              "      <td>368.220001</td>\n",
              "      <td>48.320000</td>\n",
              "      <td>215.600006</td>\n",
              "      <td>43627500</td>\n",
              "      <td>19986500</td>\n",
              "      <td>384136000</td>\n",
              "      <td>140447600</td>\n",
              "    </tr>\n",
              "  </tbody>\n",
              "</table>\n",
              "<p>5 rows × 24 columns</p>\n",
              "</div>\n",
              "    <div class=\"colab-df-buttons\">\n",
              "\n",
              "  <div class=\"colab-df-container\">\n",
              "    <button class=\"colab-df-convert\" onclick=\"convertToInteractive('df-a0268ea2-38f7-4e39-8126-c52ee1f1843f')\"\n",
              "            title=\"Convert this dataframe to an interactive table.\"\n",
              "            style=\"display:none;\">\n",
              "\n",
              "  <svg xmlns=\"http://www.w3.org/2000/svg\" height=\"24px\" viewBox=\"0 -960 960 960\">\n",
              "    <path d=\"M120-120v-720h720v720H120Zm60-500h600v-160H180v160Zm220 220h160v-160H400v160Zm0 220h160v-160H400v160ZM180-400h160v-160H180v160Zm440 0h160v-160H620v160ZM180-180h160v-160H180v160Zm440 0h160v-160H620v160Z\"/>\n",
              "  </svg>\n",
              "    </button>\n",
              "\n",
              "  <style>\n",
              "    .colab-df-container {\n",
              "      display:flex;\n",
              "      gap: 12px;\n",
              "    }\n",
              "\n",
              "    .colab-df-convert {\n",
              "      background-color: #E8F0FE;\n",
              "      border: none;\n",
              "      border-radius: 50%;\n",
              "      cursor: pointer;\n",
              "      display: none;\n",
              "      fill: #1967D2;\n",
              "      height: 32px;\n",
              "      padding: 0 0 0 0;\n",
              "      width: 32px;\n",
              "    }\n",
              "\n",
              "    .colab-df-convert:hover {\n",
              "      background-color: #E2EBFA;\n",
              "      box-shadow: 0px 1px 2px rgba(60, 64, 67, 0.3), 0px 1px 3px 1px rgba(60, 64, 67, 0.15);\n",
              "      fill: #174EA6;\n",
              "    }\n",
              "\n",
              "    .colab-df-buttons div {\n",
              "      margin-bottom: 4px;\n",
              "    }\n",
              "\n",
              "    [theme=dark] .colab-df-convert {\n",
              "      background-color: #3B4455;\n",
              "      fill: #D2E3FC;\n",
              "    }\n",
              "\n",
              "    [theme=dark] .colab-df-convert:hover {\n",
              "      background-color: #434B5C;\n",
              "      box-shadow: 0px 1px 3px 1px rgba(0, 0, 0, 0.15);\n",
              "      filter: drop-shadow(0px 1px 2px rgba(0, 0, 0, 0.3));\n",
              "      fill: #FFFFFF;\n",
              "    }\n",
              "  </style>\n",
              "\n",
              "    <script>\n",
              "      const buttonEl =\n",
              "        document.querySelector('#df-a0268ea2-38f7-4e39-8126-c52ee1f1843f button.colab-df-convert');\n",
              "      buttonEl.style.display =\n",
              "        google.colab.kernel.accessAllowed ? 'block' : 'none';\n",
              "\n",
              "      async function convertToInteractive(key) {\n",
              "        const element = document.querySelector('#df-a0268ea2-38f7-4e39-8126-c52ee1f1843f');\n",
              "        const dataTable =\n",
              "          await google.colab.kernel.invokeFunction('convertToInteractive',\n",
              "                                                    [key], {});\n",
              "        if (!dataTable) return;\n",
              "\n",
              "        const docLinkHtml = 'Like what you see? Visit the ' +\n",
              "          '<a target=\"_blank\" href=https://colab.research.google.com/notebooks/data_table.ipynb>data table notebook</a>'\n",
              "          + ' to learn more about interactive tables.';\n",
              "        element.innerHTML = '';\n",
              "        dataTable['output_type'] = 'display_data';\n",
              "        await google.colab.output.renderOutput(dataTable, element);\n",
              "        const docLink = document.createElement('div');\n",
              "        docLink.innerHTML = docLinkHtml;\n",
              "        element.appendChild(docLink);\n",
              "      }\n",
              "    </script>\n",
              "  </div>\n",
              "\n",
              "\n",
              "<div id=\"df-2c7d77fe-cbf6-4052-9ad3-75681b9dc929\">\n",
              "  <button class=\"colab-df-quickchart\" onclick=\"quickchart('df-2c7d77fe-cbf6-4052-9ad3-75681b9dc929')\"\n",
              "            title=\"Suggest charts\"\n",
              "            style=\"display:none;\">\n",
              "\n",
              "<svg xmlns=\"http://www.w3.org/2000/svg\" height=\"24px\"viewBox=\"0 0 24 24\"\n",
              "     width=\"24px\">\n",
              "    <g>\n",
              "        <path d=\"M19 3H5c-1.1 0-2 .9-2 2v14c0 1.1.9 2 2 2h14c1.1 0 2-.9 2-2V5c0-1.1-.9-2-2-2zM9 17H7v-7h2v7zm4 0h-2V7h2v10zm4 0h-2v-4h2v4z\"/>\n",
              "    </g>\n",
              "</svg>\n",
              "  </button>\n",
              "\n",
              "<style>\n",
              "  .colab-df-quickchart {\n",
              "      --bg-color: #E8F0FE;\n",
              "      --fill-color: #1967D2;\n",
              "      --hover-bg-color: #E2EBFA;\n",
              "      --hover-fill-color: #174EA6;\n",
              "      --disabled-fill-color: #AAA;\n",
              "      --disabled-bg-color: #DDD;\n",
              "  }\n",
              "\n",
              "  [theme=dark] .colab-df-quickchart {\n",
              "      --bg-color: #3B4455;\n",
              "      --fill-color: #D2E3FC;\n",
              "      --hover-bg-color: #434B5C;\n",
              "      --hover-fill-color: #FFFFFF;\n",
              "      --disabled-bg-color: #3B4455;\n",
              "      --disabled-fill-color: #666;\n",
              "  }\n",
              "\n",
              "  .colab-df-quickchart {\n",
              "    background-color: var(--bg-color);\n",
              "    border: none;\n",
              "    border-radius: 50%;\n",
              "    cursor: pointer;\n",
              "    display: none;\n",
              "    fill: var(--fill-color);\n",
              "    height: 32px;\n",
              "    padding: 0;\n",
              "    width: 32px;\n",
              "  }\n",
              "\n",
              "  .colab-df-quickchart:hover {\n",
              "    background-color: var(--hover-bg-color);\n",
              "    box-shadow: 0 1px 2px rgba(60, 64, 67, 0.3), 0 1px 3px 1px rgba(60, 64, 67, 0.15);\n",
              "    fill: var(--button-hover-fill-color);\n",
              "  }\n",
              "\n",
              "  .colab-df-quickchart-complete:disabled,\n",
              "  .colab-df-quickchart-complete:disabled:hover {\n",
              "    background-color: var(--disabled-bg-color);\n",
              "    fill: var(--disabled-fill-color);\n",
              "    box-shadow: none;\n",
              "  }\n",
              "\n",
              "  .colab-df-spinner {\n",
              "    border: 2px solid var(--fill-color);\n",
              "    border-color: transparent;\n",
              "    border-bottom-color: var(--fill-color);\n",
              "    animation:\n",
              "      spin 1s steps(1) infinite;\n",
              "  }\n",
              "\n",
              "  @keyframes spin {\n",
              "    0% {\n",
              "      border-color: transparent;\n",
              "      border-bottom-color: var(--fill-color);\n",
              "      border-left-color: var(--fill-color);\n",
              "    }\n",
              "    20% {\n",
              "      border-color: transparent;\n",
              "      border-left-color: var(--fill-color);\n",
              "      border-top-color: var(--fill-color);\n",
              "    }\n",
              "    30% {\n",
              "      border-color: transparent;\n",
              "      border-left-color: var(--fill-color);\n",
              "      border-top-color: var(--fill-color);\n",
              "      border-right-color: var(--fill-color);\n",
              "    }\n",
              "    40% {\n",
              "      border-color: transparent;\n",
              "      border-right-color: var(--fill-color);\n",
              "      border-top-color: var(--fill-color);\n",
              "    }\n",
              "    60% {\n",
              "      border-color: transparent;\n",
              "      border-right-color: var(--fill-color);\n",
              "    }\n",
              "    80% {\n",
              "      border-color: transparent;\n",
              "      border-right-color: var(--fill-color);\n",
              "      border-bottom-color: var(--fill-color);\n",
              "    }\n",
              "    90% {\n",
              "      border-color: transparent;\n",
              "      border-bottom-color: var(--fill-color);\n",
              "    }\n",
              "  }\n",
              "</style>\n",
              "\n",
              "  <script>\n",
              "    async function quickchart(key) {\n",
              "      const quickchartButtonEl =\n",
              "        document.querySelector('#' + key + ' button');\n",
              "      quickchartButtonEl.disabled = true;  // To prevent multiple clicks.\n",
              "      quickchartButtonEl.classList.add('colab-df-spinner');\n",
              "      try {\n",
              "        const charts = await google.colab.kernel.invokeFunction(\n",
              "            'suggestCharts', [key], {});\n",
              "      } catch (error) {\n",
              "        console.error('Error during call to suggestCharts:', error);\n",
              "      }\n",
              "      quickchartButtonEl.classList.remove('colab-df-spinner');\n",
              "      quickchartButtonEl.classList.add('colab-df-quickchart-complete');\n",
              "    }\n",
              "    (() => {\n",
              "      let quickchartButtonEl =\n",
              "        document.querySelector('#df-2c7d77fe-cbf6-4052-9ad3-75681b9dc929 button');\n",
              "      quickchartButtonEl.style.display =\n",
              "        google.colab.kernel.accessAllowed ? 'block' : 'none';\n",
              "    })();\n",
              "  </script>\n",
              "</div>\n",
              "\n",
              "    </div>\n",
              "  </div>\n"
            ],
            "application/vnd.google.colaboratory.intrinsic+json": {
              "type": "dataframe",
              "variable_name": "df"
            }
          },
          "metadata": {},
          "execution_count": 5
        }
      ]
    },
    {
      "cell_type": "code",
      "source": [
        "df.index"
      ],
      "metadata": {
        "colab": {
          "base_uri": "https://localhost:8080/"
        },
        "id": "-nQtpGhY0rZ3",
        "outputId": "e0195c51-071b-4194-f961-01b4c08f5500"
      },
      "execution_count": 6,
      "outputs": [
        {
          "output_type": "execute_result",
          "data": {
            "text/plain": [
              "DatetimeIndex(['2023-11-07 00:00:00+00:00', '2023-11-08 00:00:00+00:00',\n",
              "               '2023-11-09 00:00:00+00:00', '2023-11-10 00:00:00+00:00',\n",
              "               '2023-11-13 00:00:00+00:00', '2023-11-14 00:00:00+00:00',\n",
              "               '2023-11-15 00:00:00+00:00', '2023-11-16 00:00:00+00:00',\n",
              "               '2023-11-17 00:00:00+00:00', '2023-11-20 00:00:00+00:00',\n",
              "               ...\n",
              "               '2024-10-23 00:00:00+00:00', '2024-10-24 00:00:00+00:00',\n",
              "               '2024-10-25 00:00:00+00:00', '2024-10-28 00:00:00+00:00',\n",
              "               '2024-10-29 00:00:00+00:00', '2024-10-30 00:00:00+00:00',\n",
              "               '2024-10-31 00:00:00+00:00', '2024-11-01 00:00:00+00:00',\n",
              "               '2024-11-04 00:00:00+00:00', '2024-11-05 00:00:00+00:00'],\n",
              "              dtype='datetime64[ns, UTC]', name='Date', length=251, freq=None)"
            ]
          },
          "metadata": {},
          "execution_count": 6
        }
      ]
    },
    {
      "cell_type": "code",
      "source": [
        "df.columns"
      ],
      "metadata": {
        "colab": {
          "base_uri": "https://localhost:8080/"
        },
        "id": "kwPKygr26ZrP",
        "outputId": "24bd4f9d-03ab-477b-b2f7-4517ff4cb0db"
      },
      "execution_count": 7,
      "outputs": [
        {
          "output_type": "execute_result",
          "data": {
            "text/plain": [
              "MultiIndex([('Adj Close', 'AAPL'),\n",
              "            ('Adj Close', 'MSFT'),\n",
              "            ('Adj Close', 'NVDA'),\n",
              "            ('Adj Close', 'TSLA'),\n",
              "            (    'Close', 'AAPL'),\n",
              "            (    'Close', 'MSFT'),\n",
              "            (    'Close', 'NVDA'),\n",
              "            (    'Close', 'TSLA'),\n",
              "            (     'High', 'AAPL'),\n",
              "            (     'High', 'MSFT'),\n",
              "            (     'High', 'NVDA'),\n",
              "            (     'High', 'TSLA'),\n",
              "            (      'Low', 'AAPL'),\n",
              "            (      'Low', 'MSFT'),\n",
              "            (      'Low', 'NVDA'),\n",
              "            (      'Low', 'TSLA'),\n",
              "            (     'Open', 'AAPL'),\n",
              "            (     'Open', 'MSFT'),\n",
              "            (     'Open', 'NVDA'),\n",
              "            (     'Open', 'TSLA'),\n",
              "            (   'Volume', 'AAPL'),\n",
              "            (   'Volume', 'MSFT'),\n",
              "            (   'Volume', 'NVDA'),\n",
              "            (   'Volume', 'TSLA')],\n",
              "           names=['Price', 'Ticker'])"
            ]
          },
          "metadata": {},
          "execution_count": 7
        }
      ]
    },
    {
      "cell_type": "code",
      "source": [
        "Close = df.Close\n",
        "Close.head()"
      ],
      "metadata": {
        "colab": {
          "base_uri": "https://localhost:8080/",
          "height": 237
        },
        "id": "B5OA7B-56sLA",
        "outputId": "a16f9928-929d-4aa6-b42b-c1e2ff550a3e"
      },
      "execution_count": 8,
      "outputs": [
        {
          "output_type": "execute_result",
          "data": {
            "text/plain": [
              "Ticker                           AAPL        MSFT       NVDA        TSLA\n",
              "Date                                                                    \n",
              "2023-11-07 00:00:00+00:00  181.820007  360.529999  45.955002  222.179993\n",
              "2023-11-08 00:00:00+00:00  182.889999  363.200012  46.574001  222.110001\n",
              "2023-11-09 00:00:00+00:00  182.410004  360.690002  46.950001  209.979996\n",
              "2023-11-10 00:00:00+00:00  186.399994  369.670013  48.334999  214.649994\n",
              "2023-11-13 00:00:00+00:00  184.800003  366.679993  48.619999  223.710007"
            ],
            "text/html": [
              "\n",
              "  <div id=\"df-2457fc12-8dca-472d-b5bd-9a31b1e04b98\" class=\"colab-df-container\">\n",
              "    <div>\n",
              "<style scoped>\n",
              "    .dataframe tbody tr th:only-of-type {\n",
              "        vertical-align: middle;\n",
              "    }\n",
              "\n",
              "    .dataframe tbody tr th {\n",
              "        vertical-align: top;\n",
              "    }\n",
              "\n",
              "    .dataframe thead th {\n",
              "        text-align: right;\n",
              "    }\n",
              "</style>\n",
              "<table border=\"1\" class=\"dataframe\">\n",
              "  <thead>\n",
              "    <tr style=\"text-align: right;\">\n",
              "      <th>Ticker</th>\n",
              "      <th>AAPL</th>\n",
              "      <th>MSFT</th>\n",
              "      <th>NVDA</th>\n",
              "      <th>TSLA</th>\n",
              "    </tr>\n",
              "    <tr>\n",
              "      <th>Date</th>\n",
              "      <th></th>\n",
              "      <th></th>\n",
              "      <th></th>\n",
              "      <th></th>\n",
              "    </tr>\n",
              "  </thead>\n",
              "  <tbody>\n",
              "    <tr>\n",
              "      <th>2023-11-07 00:00:00+00:00</th>\n",
              "      <td>181.820007</td>\n",
              "      <td>360.529999</td>\n",
              "      <td>45.955002</td>\n",
              "      <td>222.179993</td>\n",
              "    </tr>\n",
              "    <tr>\n",
              "      <th>2023-11-08 00:00:00+00:00</th>\n",
              "      <td>182.889999</td>\n",
              "      <td>363.200012</td>\n",
              "      <td>46.574001</td>\n",
              "      <td>222.110001</td>\n",
              "    </tr>\n",
              "    <tr>\n",
              "      <th>2023-11-09 00:00:00+00:00</th>\n",
              "      <td>182.410004</td>\n",
              "      <td>360.690002</td>\n",
              "      <td>46.950001</td>\n",
              "      <td>209.979996</td>\n",
              "    </tr>\n",
              "    <tr>\n",
              "      <th>2023-11-10 00:00:00+00:00</th>\n",
              "      <td>186.399994</td>\n",
              "      <td>369.670013</td>\n",
              "      <td>48.334999</td>\n",
              "      <td>214.649994</td>\n",
              "    </tr>\n",
              "    <tr>\n",
              "      <th>2023-11-13 00:00:00+00:00</th>\n",
              "      <td>184.800003</td>\n",
              "      <td>366.679993</td>\n",
              "      <td>48.619999</td>\n",
              "      <td>223.710007</td>\n",
              "    </tr>\n",
              "  </tbody>\n",
              "</table>\n",
              "</div>\n",
              "    <div class=\"colab-df-buttons\">\n",
              "\n",
              "  <div class=\"colab-df-container\">\n",
              "    <button class=\"colab-df-convert\" onclick=\"convertToInteractive('df-2457fc12-8dca-472d-b5bd-9a31b1e04b98')\"\n",
              "            title=\"Convert this dataframe to an interactive table.\"\n",
              "            style=\"display:none;\">\n",
              "\n",
              "  <svg xmlns=\"http://www.w3.org/2000/svg\" height=\"24px\" viewBox=\"0 -960 960 960\">\n",
              "    <path d=\"M120-120v-720h720v720H120Zm60-500h600v-160H180v160Zm220 220h160v-160H400v160Zm0 220h160v-160H400v160ZM180-400h160v-160H180v160Zm440 0h160v-160H620v160ZM180-180h160v-160H180v160Zm440 0h160v-160H620v160Z\"/>\n",
              "  </svg>\n",
              "    </button>\n",
              "\n",
              "  <style>\n",
              "    .colab-df-container {\n",
              "      display:flex;\n",
              "      gap: 12px;\n",
              "    }\n",
              "\n",
              "    .colab-df-convert {\n",
              "      background-color: #E8F0FE;\n",
              "      border: none;\n",
              "      border-radius: 50%;\n",
              "      cursor: pointer;\n",
              "      display: none;\n",
              "      fill: #1967D2;\n",
              "      height: 32px;\n",
              "      padding: 0 0 0 0;\n",
              "      width: 32px;\n",
              "    }\n",
              "\n",
              "    .colab-df-convert:hover {\n",
              "      background-color: #E2EBFA;\n",
              "      box-shadow: 0px 1px 2px rgba(60, 64, 67, 0.3), 0px 1px 3px 1px rgba(60, 64, 67, 0.15);\n",
              "      fill: #174EA6;\n",
              "    }\n",
              "\n",
              "    .colab-df-buttons div {\n",
              "      margin-bottom: 4px;\n",
              "    }\n",
              "\n",
              "    [theme=dark] .colab-df-convert {\n",
              "      background-color: #3B4455;\n",
              "      fill: #D2E3FC;\n",
              "    }\n",
              "\n",
              "    [theme=dark] .colab-df-convert:hover {\n",
              "      background-color: #434B5C;\n",
              "      box-shadow: 0px 1px 3px 1px rgba(0, 0, 0, 0.15);\n",
              "      filter: drop-shadow(0px 1px 2px rgba(0, 0, 0, 0.3));\n",
              "      fill: #FFFFFF;\n",
              "    }\n",
              "  </style>\n",
              "\n",
              "    <script>\n",
              "      const buttonEl =\n",
              "        document.querySelector('#df-2457fc12-8dca-472d-b5bd-9a31b1e04b98 button.colab-df-convert');\n",
              "      buttonEl.style.display =\n",
              "        google.colab.kernel.accessAllowed ? 'block' : 'none';\n",
              "\n",
              "      async function convertToInteractive(key) {\n",
              "        const element = document.querySelector('#df-2457fc12-8dca-472d-b5bd-9a31b1e04b98');\n",
              "        const dataTable =\n",
              "          await google.colab.kernel.invokeFunction('convertToInteractive',\n",
              "                                                    [key], {});\n",
              "        if (!dataTable) return;\n",
              "\n",
              "        const docLinkHtml = 'Like what you see? Visit the ' +\n",
              "          '<a target=\"_blank\" href=https://colab.research.google.com/notebooks/data_table.ipynb>data table notebook</a>'\n",
              "          + ' to learn more about interactive tables.';\n",
              "        element.innerHTML = '';\n",
              "        dataTable['output_type'] = 'display_data';\n",
              "        await google.colab.output.renderOutput(dataTable, element);\n",
              "        const docLink = document.createElement('div');\n",
              "        docLink.innerHTML = docLinkHtml;\n",
              "        element.appendChild(docLink);\n",
              "      }\n",
              "    </script>\n",
              "  </div>\n",
              "\n",
              "\n",
              "<div id=\"df-1ab28e87-bf8f-4b7c-b809-8585f4b8165b\">\n",
              "  <button class=\"colab-df-quickchart\" onclick=\"quickchart('df-1ab28e87-bf8f-4b7c-b809-8585f4b8165b')\"\n",
              "            title=\"Suggest charts\"\n",
              "            style=\"display:none;\">\n",
              "\n",
              "<svg xmlns=\"http://www.w3.org/2000/svg\" height=\"24px\"viewBox=\"0 0 24 24\"\n",
              "     width=\"24px\">\n",
              "    <g>\n",
              "        <path d=\"M19 3H5c-1.1 0-2 .9-2 2v14c0 1.1.9 2 2 2h14c1.1 0 2-.9 2-2V5c0-1.1-.9-2-2-2zM9 17H7v-7h2v7zm4 0h-2V7h2v10zm4 0h-2v-4h2v4z\"/>\n",
              "    </g>\n",
              "</svg>\n",
              "  </button>\n",
              "\n",
              "<style>\n",
              "  .colab-df-quickchart {\n",
              "      --bg-color: #E8F0FE;\n",
              "      --fill-color: #1967D2;\n",
              "      --hover-bg-color: #E2EBFA;\n",
              "      --hover-fill-color: #174EA6;\n",
              "      --disabled-fill-color: #AAA;\n",
              "      --disabled-bg-color: #DDD;\n",
              "  }\n",
              "\n",
              "  [theme=dark] .colab-df-quickchart {\n",
              "      --bg-color: #3B4455;\n",
              "      --fill-color: #D2E3FC;\n",
              "      --hover-bg-color: #434B5C;\n",
              "      --hover-fill-color: #FFFFFF;\n",
              "      --disabled-bg-color: #3B4455;\n",
              "      --disabled-fill-color: #666;\n",
              "  }\n",
              "\n",
              "  .colab-df-quickchart {\n",
              "    background-color: var(--bg-color);\n",
              "    border: none;\n",
              "    border-radius: 50%;\n",
              "    cursor: pointer;\n",
              "    display: none;\n",
              "    fill: var(--fill-color);\n",
              "    height: 32px;\n",
              "    padding: 0;\n",
              "    width: 32px;\n",
              "  }\n",
              "\n",
              "  .colab-df-quickchart:hover {\n",
              "    background-color: var(--hover-bg-color);\n",
              "    box-shadow: 0 1px 2px rgba(60, 64, 67, 0.3), 0 1px 3px 1px rgba(60, 64, 67, 0.15);\n",
              "    fill: var(--button-hover-fill-color);\n",
              "  }\n",
              "\n",
              "  .colab-df-quickchart-complete:disabled,\n",
              "  .colab-df-quickchart-complete:disabled:hover {\n",
              "    background-color: var(--disabled-bg-color);\n",
              "    fill: var(--disabled-fill-color);\n",
              "    box-shadow: none;\n",
              "  }\n",
              "\n",
              "  .colab-df-spinner {\n",
              "    border: 2px solid var(--fill-color);\n",
              "    border-color: transparent;\n",
              "    border-bottom-color: var(--fill-color);\n",
              "    animation:\n",
              "      spin 1s steps(1) infinite;\n",
              "  }\n",
              "\n",
              "  @keyframes spin {\n",
              "    0% {\n",
              "      border-color: transparent;\n",
              "      border-bottom-color: var(--fill-color);\n",
              "      border-left-color: var(--fill-color);\n",
              "    }\n",
              "    20% {\n",
              "      border-color: transparent;\n",
              "      border-left-color: var(--fill-color);\n",
              "      border-top-color: var(--fill-color);\n",
              "    }\n",
              "    30% {\n",
              "      border-color: transparent;\n",
              "      border-left-color: var(--fill-color);\n",
              "      border-top-color: var(--fill-color);\n",
              "      border-right-color: var(--fill-color);\n",
              "    }\n",
              "    40% {\n",
              "      border-color: transparent;\n",
              "      border-right-color: var(--fill-color);\n",
              "      border-top-color: var(--fill-color);\n",
              "    }\n",
              "    60% {\n",
              "      border-color: transparent;\n",
              "      border-right-color: var(--fill-color);\n",
              "    }\n",
              "    80% {\n",
              "      border-color: transparent;\n",
              "      border-right-color: var(--fill-color);\n",
              "      border-bottom-color: var(--fill-color);\n",
              "    }\n",
              "    90% {\n",
              "      border-color: transparent;\n",
              "      border-bottom-color: var(--fill-color);\n",
              "    }\n",
              "  }\n",
              "</style>\n",
              "\n",
              "  <script>\n",
              "    async function quickchart(key) {\n",
              "      const quickchartButtonEl =\n",
              "        document.querySelector('#' + key + ' button');\n",
              "      quickchartButtonEl.disabled = true;  // To prevent multiple clicks.\n",
              "      quickchartButtonEl.classList.add('colab-df-spinner');\n",
              "      try {\n",
              "        const charts = await google.colab.kernel.invokeFunction(\n",
              "            'suggestCharts', [key], {});\n",
              "      } catch (error) {\n",
              "        console.error('Error during call to suggestCharts:', error);\n",
              "      }\n",
              "      quickchartButtonEl.classList.remove('colab-df-spinner');\n",
              "      quickchartButtonEl.classList.add('colab-df-quickchart-complete');\n",
              "    }\n",
              "    (() => {\n",
              "      let quickchartButtonEl =\n",
              "        document.querySelector('#df-1ab28e87-bf8f-4b7c-b809-8585f4b8165b button');\n",
              "      quickchartButtonEl.style.display =\n",
              "        google.colab.kernel.accessAllowed ? 'block' : 'none';\n",
              "    })();\n",
              "  </script>\n",
              "</div>\n",
              "\n",
              "    </div>\n",
              "  </div>\n"
            ],
            "application/vnd.google.colaboratory.intrinsic+json": {
              "type": "dataframe",
              "variable_name": "Close",
              "summary": "{\n  \"name\": \"Close\",\n  \"rows\": 251,\n  \"fields\": [\n    {\n      \"column\": \"Date\",\n      \"properties\": {\n        \"dtype\": \"date\",\n        \"min\": \"2023-11-07 00:00:00+00:00\",\n        \"max\": \"2024-11-05 00:00:00+00:00\",\n        \"num_unique_values\": 251,\n        \"samples\": [\n          \"2024-06-21 00:00:00+00:00\",\n          \"2023-11-15 00:00:00+00:00\",\n          \"2024-07-05 00:00:00+00:00\"\n        ],\n        \"semantic_type\": \"\",\n        \"description\": \"\"\n      }\n    },\n    {\n      \"column\": \"AAPL\",\n      \"properties\": {\n        \"dtype\": \"number\",\n        \"std\": 21.3292276569238,\n        \"min\": 165.0,\n        \"max\": 236.47999572753906,\n        \"num_unique_values\": 249,\n        \"samples\": [\n          189.99000549316406,\n          188.00999450683594,\n          171.47999572753906\n        ],\n        \"semantic_type\": \"\",\n        \"description\": \"\"\n      }\n    },\n    {\n      \"column\": \"MSFT\",\n      \"properties\": {\n        \"dtype\": \"number\",\n        \"std\": 23.338072241382015,\n        \"min\": 360.5299987792969,\n        \"max\": 467.55999755859375,\n        \"num_unique_values\": 246,\n        \"samples\": [\n          374.07000732421875,\n          376.1700134277344,\n          408.489990234375\n        ],\n        \"semantic_type\": \"\",\n        \"description\": \"\"\n      }\n    },\n    {\n      \"column\": \"NVDA\",\n      \"properties\": {\n        \"dtype\": \"number\",\n        \"std\": 30.11448068709758,\n        \"min\": 45.50299835205078,\n        \"max\": 143.7100067138672,\n        \"num_unique_values\": 249,\n        \"samples\": [\n          113.9010009765625,\n          48.88800048828125,\n          90.36299896240234\n        ],\n        \"semantic_type\": \"\",\n        \"description\": \"\"\n      }\n    },\n    {\n      \"column\": \"TSLA\",\n      \"properties\": {\n        \"dtype\": \"number\",\n        \"std\": 31.04394235963658,\n        \"min\": 142.0500030517578,\n        \"max\": 269.19000244140625,\n        \"num_unique_values\": 249,\n        \"samples\": [\n          179.24000549316406,\n          242.83999633789062,\n          175.7899932861328\n        ],\n        \"semantic_type\": \"\",\n        \"description\": \"\"\n      }\n    }\n  ]\n}"
            }
          },
          "metadata": {},
          "execution_count": 8
        }
      ]
    },
    {
      "cell_type": "code",
      "source": [
        "Close.describe()"
      ],
      "metadata": {
        "colab": {
          "base_uri": "https://localhost:8080/",
          "height": 300
        },
        "id": "Tv7aB91K7DOu",
        "outputId": "14ac9410-901e-4319-a04b-ddb75cf70f46"
      },
      "execution_count": 9,
      "outputs": [
        {
          "output_type": "execute_result",
          "data": {
            "text/plain": [
              "Ticker        AAPL        MSFT        NVDA        TSLA\n",
              "count   251.000000  251.000000  251.000000  251.000000\n",
              "mean    199.898366  411.656773   94.161434  209.783506\n",
              "std      21.329228   23.338072   30.114481   31.043942\n",
              "min     165.000000  360.529999   45.502998  142.050003\n",
              "25%     183.505005  401.895004   69.392002  180.000000\n",
              "50%     193.179993  414.670013   92.139999  210.600006\n",
              "75%     222.044998  425.250000  121.420002  238.584999\n",
              "max     236.479996  467.559998  143.710007  269.190002"
            ],
            "text/html": [
              "\n",
              "  <div id=\"df-1c2e0a68-a57d-45ee-9d00-008c7d29bd9c\" class=\"colab-df-container\">\n",
              "    <div>\n",
              "<style scoped>\n",
              "    .dataframe tbody tr th:only-of-type {\n",
              "        vertical-align: middle;\n",
              "    }\n",
              "\n",
              "    .dataframe tbody tr th {\n",
              "        vertical-align: top;\n",
              "    }\n",
              "\n",
              "    .dataframe thead th {\n",
              "        text-align: right;\n",
              "    }\n",
              "</style>\n",
              "<table border=\"1\" class=\"dataframe\">\n",
              "  <thead>\n",
              "    <tr style=\"text-align: right;\">\n",
              "      <th>Ticker</th>\n",
              "      <th>AAPL</th>\n",
              "      <th>MSFT</th>\n",
              "      <th>NVDA</th>\n",
              "      <th>TSLA</th>\n",
              "    </tr>\n",
              "  </thead>\n",
              "  <tbody>\n",
              "    <tr>\n",
              "      <th>count</th>\n",
              "      <td>251.000000</td>\n",
              "      <td>251.000000</td>\n",
              "      <td>251.000000</td>\n",
              "      <td>251.000000</td>\n",
              "    </tr>\n",
              "    <tr>\n",
              "      <th>mean</th>\n",
              "      <td>199.898366</td>\n",
              "      <td>411.656773</td>\n",
              "      <td>94.161434</td>\n",
              "      <td>209.783506</td>\n",
              "    </tr>\n",
              "    <tr>\n",
              "      <th>std</th>\n",
              "      <td>21.329228</td>\n",
              "      <td>23.338072</td>\n",
              "      <td>30.114481</td>\n",
              "      <td>31.043942</td>\n",
              "    </tr>\n",
              "    <tr>\n",
              "      <th>min</th>\n",
              "      <td>165.000000</td>\n",
              "      <td>360.529999</td>\n",
              "      <td>45.502998</td>\n",
              "      <td>142.050003</td>\n",
              "    </tr>\n",
              "    <tr>\n",
              "      <th>25%</th>\n",
              "      <td>183.505005</td>\n",
              "      <td>401.895004</td>\n",
              "      <td>69.392002</td>\n",
              "      <td>180.000000</td>\n",
              "    </tr>\n",
              "    <tr>\n",
              "      <th>50%</th>\n",
              "      <td>193.179993</td>\n",
              "      <td>414.670013</td>\n",
              "      <td>92.139999</td>\n",
              "      <td>210.600006</td>\n",
              "    </tr>\n",
              "    <tr>\n",
              "      <th>75%</th>\n",
              "      <td>222.044998</td>\n",
              "      <td>425.250000</td>\n",
              "      <td>121.420002</td>\n",
              "      <td>238.584999</td>\n",
              "    </tr>\n",
              "    <tr>\n",
              "      <th>max</th>\n",
              "      <td>236.479996</td>\n",
              "      <td>467.559998</td>\n",
              "      <td>143.710007</td>\n",
              "      <td>269.190002</td>\n",
              "    </tr>\n",
              "  </tbody>\n",
              "</table>\n",
              "</div>\n",
              "    <div class=\"colab-df-buttons\">\n",
              "\n",
              "  <div class=\"colab-df-container\">\n",
              "    <button class=\"colab-df-convert\" onclick=\"convertToInteractive('df-1c2e0a68-a57d-45ee-9d00-008c7d29bd9c')\"\n",
              "            title=\"Convert this dataframe to an interactive table.\"\n",
              "            style=\"display:none;\">\n",
              "\n",
              "  <svg xmlns=\"http://www.w3.org/2000/svg\" height=\"24px\" viewBox=\"0 -960 960 960\">\n",
              "    <path d=\"M120-120v-720h720v720H120Zm60-500h600v-160H180v160Zm220 220h160v-160H400v160Zm0 220h160v-160H400v160ZM180-400h160v-160H180v160Zm440 0h160v-160H620v160ZM180-180h160v-160H180v160Zm440 0h160v-160H620v160Z\"/>\n",
              "  </svg>\n",
              "    </button>\n",
              "\n",
              "  <style>\n",
              "    .colab-df-container {\n",
              "      display:flex;\n",
              "      gap: 12px;\n",
              "    }\n",
              "\n",
              "    .colab-df-convert {\n",
              "      background-color: #E8F0FE;\n",
              "      border: none;\n",
              "      border-radius: 50%;\n",
              "      cursor: pointer;\n",
              "      display: none;\n",
              "      fill: #1967D2;\n",
              "      height: 32px;\n",
              "      padding: 0 0 0 0;\n",
              "      width: 32px;\n",
              "    }\n",
              "\n",
              "    .colab-df-convert:hover {\n",
              "      background-color: #E2EBFA;\n",
              "      box-shadow: 0px 1px 2px rgba(60, 64, 67, 0.3), 0px 1px 3px 1px rgba(60, 64, 67, 0.15);\n",
              "      fill: #174EA6;\n",
              "    }\n",
              "\n",
              "    .colab-df-buttons div {\n",
              "      margin-bottom: 4px;\n",
              "    }\n",
              "\n",
              "    [theme=dark] .colab-df-convert {\n",
              "      background-color: #3B4455;\n",
              "      fill: #D2E3FC;\n",
              "    }\n",
              "\n",
              "    [theme=dark] .colab-df-convert:hover {\n",
              "      background-color: #434B5C;\n",
              "      box-shadow: 0px 1px 3px 1px rgba(0, 0, 0, 0.15);\n",
              "      filter: drop-shadow(0px 1px 2px rgba(0, 0, 0, 0.3));\n",
              "      fill: #FFFFFF;\n",
              "    }\n",
              "  </style>\n",
              "\n",
              "    <script>\n",
              "      const buttonEl =\n",
              "        document.querySelector('#df-1c2e0a68-a57d-45ee-9d00-008c7d29bd9c button.colab-df-convert');\n",
              "      buttonEl.style.display =\n",
              "        google.colab.kernel.accessAllowed ? 'block' : 'none';\n",
              "\n",
              "      async function convertToInteractive(key) {\n",
              "        const element = document.querySelector('#df-1c2e0a68-a57d-45ee-9d00-008c7d29bd9c');\n",
              "        const dataTable =\n",
              "          await google.colab.kernel.invokeFunction('convertToInteractive',\n",
              "                                                    [key], {});\n",
              "        if (!dataTable) return;\n",
              "\n",
              "        const docLinkHtml = 'Like what you see? Visit the ' +\n",
              "          '<a target=\"_blank\" href=https://colab.research.google.com/notebooks/data_table.ipynb>data table notebook</a>'\n",
              "          + ' to learn more about interactive tables.';\n",
              "        element.innerHTML = '';\n",
              "        dataTable['output_type'] = 'display_data';\n",
              "        await google.colab.output.renderOutput(dataTable, element);\n",
              "        const docLink = document.createElement('div');\n",
              "        docLink.innerHTML = docLinkHtml;\n",
              "        element.appendChild(docLink);\n",
              "      }\n",
              "    </script>\n",
              "  </div>\n",
              "\n",
              "\n",
              "<div id=\"df-1c43e6b3-e296-4389-ba84-cccbcd55e417\">\n",
              "  <button class=\"colab-df-quickchart\" onclick=\"quickchart('df-1c43e6b3-e296-4389-ba84-cccbcd55e417')\"\n",
              "            title=\"Suggest charts\"\n",
              "            style=\"display:none;\">\n",
              "\n",
              "<svg xmlns=\"http://www.w3.org/2000/svg\" height=\"24px\"viewBox=\"0 0 24 24\"\n",
              "     width=\"24px\">\n",
              "    <g>\n",
              "        <path d=\"M19 3H5c-1.1 0-2 .9-2 2v14c0 1.1.9 2 2 2h14c1.1 0 2-.9 2-2V5c0-1.1-.9-2-2-2zM9 17H7v-7h2v7zm4 0h-2V7h2v10zm4 0h-2v-4h2v4z\"/>\n",
              "    </g>\n",
              "</svg>\n",
              "  </button>\n",
              "\n",
              "<style>\n",
              "  .colab-df-quickchart {\n",
              "      --bg-color: #E8F0FE;\n",
              "      --fill-color: #1967D2;\n",
              "      --hover-bg-color: #E2EBFA;\n",
              "      --hover-fill-color: #174EA6;\n",
              "      --disabled-fill-color: #AAA;\n",
              "      --disabled-bg-color: #DDD;\n",
              "  }\n",
              "\n",
              "  [theme=dark] .colab-df-quickchart {\n",
              "      --bg-color: #3B4455;\n",
              "      --fill-color: #D2E3FC;\n",
              "      --hover-bg-color: #434B5C;\n",
              "      --hover-fill-color: #FFFFFF;\n",
              "      --disabled-bg-color: #3B4455;\n",
              "      --disabled-fill-color: #666;\n",
              "  }\n",
              "\n",
              "  .colab-df-quickchart {\n",
              "    background-color: var(--bg-color);\n",
              "    border: none;\n",
              "    border-radius: 50%;\n",
              "    cursor: pointer;\n",
              "    display: none;\n",
              "    fill: var(--fill-color);\n",
              "    height: 32px;\n",
              "    padding: 0;\n",
              "    width: 32px;\n",
              "  }\n",
              "\n",
              "  .colab-df-quickchart:hover {\n",
              "    background-color: var(--hover-bg-color);\n",
              "    box-shadow: 0 1px 2px rgba(60, 64, 67, 0.3), 0 1px 3px 1px rgba(60, 64, 67, 0.15);\n",
              "    fill: var(--button-hover-fill-color);\n",
              "  }\n",
              "\n",
              "  .colab-df-quickchart-complete:disabled,\n",
              "  .colab-df-quickchart-complete:disabled:hover {\n",
              "    background-color: var(--disabled-bg-color);\n",
              "    fill: var(--disabled-fill-color);\n",
              "    box-shadow: none;\n",
              "  }\n",
              "\n",
              "  .colab-df-spinner {\n",
              "    border: 2px solid var(--fill-color);\n",
              "    border-color: transparent;\n",
              "    border-bottom-color: var(--fill-color);\n",
              "    animation:\n",
              "      spin 1s steps(1) infinite;\n",
              "  }\n",
              "\n",
              "  @keyframes spin {\n",
              "    0% {\n",
              "      border-color: transparent;\n",
              "      border-bottom-color: var(--fill-color);\n",
              "      border-left-color: var(--fill-color);\n",
              "    }\n",
              "    20% {\n",
              "      border-color: transparent;\n",
              "      border-left-color: var(--fill-color);\n",
              "      border-top-color: var(--fill-color);\n",
              "    }\n",
              "    30% {\n",
              "      border-color: transparent;\n",
              "      border-left-color: var(--fill-color);\n",
              "      border-top-color: var(--fill-color);\n",
              "      border-right-color: var(--fill-color);\n",
              "    }\n",
              "    40% {\n",
              "      border-color: transparent;\n",
              "      border-right-color: var(--fill-color);\n",
              "      border-top-color: var(--fill-color);\n",
              "    }\n",
              "    60% {\n",
              "      border-color: transparent;\n",
              "      border-right-color: var(--fill-color);\n",
              "    }\n",
              "    80% {\n",
              "      border-color: transparent;\n",
              "      border-right-color: var(--fill-color);\n",
              "      border-bottom-color: var(--fill-color);\n",
              "    }\n",
              "    90% {\n",
              "      border-color: transparent;\n",
              "      border-bottom-color: var(--fill-color);\n",
              "    }\n",
              "  }\n",
              "</style>\n",
              "\n",
              "  <script>\n",
              "    async function quickchart(key) {\n",
              "      const quickchartButtonEl =\n",
              "        document.querySelector('#' + key + ' button');\n",
              "      quickchartButtonEl.disabled = true;  // To prevent multiple clicks.\n",
              "      quickchartButtonEl.classList.add('colab-df-spinner');\n",
              "      try {\n",
              "        const charts = await google.colab.kernel.invokeFunction(\n",
              "            'suggestCharts', [key], {});\n",
              "      } catch (error) {\n",
              "        console.error('Error during call to suggestCharts:', error);\n",
              "      }\n",
              "      quickchartButtonEl.classList.remove('colab-df-spinner');\n",
              "      quickchartButtonEl.classList.add('colab-df-quickchart-complete');\n",
              "    }\n",
              "    (() => {\n",
              "      let quickchartButtonEl =\n",
              "        document.querySelector('#df-1c43e6b3-e296-4389-ba84-cccbcd55e417 button');\n",
              "      quickchartButtonEl.style.display =\n",
              "        google.colab.kernel.accessAllowed ? 'block' : 'none';\n",
              "    })();\n",
              "  </script>\n",
              "</div>\n",
              "\n",
              "    </div>\n",
              "  </div>\n"
            ],
            "application/vnd.google.colaboratory.intrinsic+json": {
              "type": "dataframe",
              "summary": "{\n  \"name\": \"Close\",\n  \"rows\": 8,\n  \"fields\": [\n    {\n      \"column\": \"AAPL\",\n      \"properties\": {\n        \"dtype\": \"number\",\n        \"std\": 71.5647593040103,\n        \"min\": 21.3292276569238,\n        \"max\": 251.0,\n        \"num_unique_values\": 8,\n        \"samples\": [\n          199.89836649495766,\n          193.17999267578125,\n          251.0\n        ],\n        \"semantic_type\": \"\",\n        \"description\": \"\"\n      }\n    },\n    {\n      \"column\": \"MSFT\",\n      \"properties\": {\n        \"dtype\": \"number\",\n        \"std\": 144.68515986627713,\n        \"min\": 23.338072241382015,\n        \"max\": 467.55999755859375,\n        \"num_unique_values\": 8,\n        \"samples\": [\n          411.65677293268334,\n          414.6700134277344,\n          251.0\n        ],\n        \"semantic_type\": \"\",\n        \"description\": \"\"\n      }\n    },\n    {\n      \"column\": \"NVDA\",\n      \"properties\": {\n        \"dtype\": \"number\",\n        \"std\": 69.46291714786744,\n        \"min\": 30.11448068709758,\n        \"max\": 251.0,\n        \"num_unique_values\": 8,\n        \"samples\": [\n          94.16143431036596,\n          92.13999938964844,\n          251.0\n        ],\n        \"semantic_type\": \"\",\n        \"description\": \"\"\n      }\n    },\n    {\n      \"column\": \"TSLA\",\n      \"properties\": {\n        \"dtype\": \"number\",\n        \"std\": 76.35983528358912,\n        \"min\": 31.04394235963658,\n        \"max\": 269.19000244140625,\n        \"num_unique_values\": 8,\n        \"samples\": [\n          209.78350611226966,\n          210.60000610351562,\n          251.0\n        ],\n        \"semantic_type\": \"\",\n        \"description\": \"\"\n      }\n    }\n  ]\n}"
            }
          },
          "metadata": {},
          "execution_count": 9
        }
      ]
    },
    {
      "cell_type": "code",
      "source": [
        "Close.plot()"
      ],
      "metadata": {
        "colab": {
          "base_uri": "https://localhost:8080/",
          "height": 450
        },
        "id": "IUjEeo688qVf",
        "outputId": "82875839-9a68-4a71-d9b7-37fa5dc34776"
      },
      "execution_count": 10,
      "outputs": [
        {
          "output_type": "execute_result",
          "data": {
            "text/plain": [
              "<Axes: xlabel='Date'>"
            ]
          },
          "metadata": {},
          "execution_count": 10
        },
        {
          "output_type": "display_data",
          "data": {
            "text/plain": [
              "<Figure size 640x480 with 1 Axes>"
            ],
            "image/png": "[encoded data removed]"
          },
          "metadata": {}
        }
      ]
    },
    {
      "cell_type": "markdown",
      "source": [
        "# Twitter Data Collection\n",
        "https://www.youtube.com/watch?v=AFeXivA7Hh4"
      ],
      "metadata": {
        "id": "N__sKAgnul0g"
      }
    },
    {
      "cell_type": "code",
      "source": [
        "#following this tutorial https://www.youtube.com/watch?v=AFeXivA7Hh4\n",
        "import requests\n",
        "import pandas as pd\n"
      ],
      "metadata": {
        "id": "5bXxWL46rwpj",
        "collapsed": true
      },
      "execution_count": 11,
      "outputs": []
    },
    {
      "cell_type": "code",
      "source": [
        "twitter_data = []"
      ],
      "metadata": {
        "id": "3b4ymeZCwzdU"
      },
      "execution_count": 12,
      "outputs": []
    },
    {
      "cell_type": "code",
      "source": [
        "%%time\n",
        "from google.colab import userdata\n",
        "import requests\n",
        "import pandas as pd\n",
        "# Retrieve the 'twitter_api_key' secret from Colab\n",
        "twitter_api_key = userdata.get('twitter_api_key')\n",
        "\n",
        "\n",
        "payload = {\n",
        "    'api_key': twitter_api_key,\n",
        "    'query':'Stock',\n",
        "    'num': '10'\n",
        "\n",
        "}\n",
        "response = requests.get(\n",
        "    'https://api.scraperapi.com/structured/twitter/search', params=payload)\n",
        "\n",
        "# Check the response status code\n",
        "if response.status_code == 200:\n",
        "  twitter_data = response.json()\n",
        "  # Proceed with processing the JSON data\n",
        "else:\n",
        "  print(f\"Error: Request failed with status code {response.status_code}\")\n",
        "  print(response.text) # Print the response content to see the error message"
      ],
      "metadata": {
        "id": "trW9oNF-w31b",
        "colab": {
          "base_uri": "https://localhost:8080/"
        },
        "outputId": "e7e0639f-40bb-45cf-be38-4a23318f27e5"
      },
      "execution_count": 13,
      "outputs": [
        {
          "output_type": "stream",
          "name": "stdout",
          "text": [
            "CPU times: user 260 ms, sys: 15.5 ms, total: 275 ms\n",
            "Wall time: 20.8 s\n"
          ]
        }
      ]
    },
    {
      "cell_type": "code",
      "source": [
        "twitter_data"
      ],
      "metadata": {
        "colab": {
          "base_uri": "https://localhost:8080/"
        },
        "id": "8DHxqbtcw8pZ",
        "outputId": "146d8903-270a-45a5-9f94-3428583dd4ab"
      },
      "execution_count": 14,
      "outputs": [
        {
          "output_type": "execute_result",
          "data": {
            "text/plain": [
              "{'search_information': {'query_displayed': 'site:twitter.com \"Stock\"'},\n",
              " 'organic_results': [{'position': 0,\n",
              "   'title': 'MarketWatch',\n",
              "   'snippet': \"Boeing's stock fails to hold gains after strike ends, but bonds are holding up.\",\n",
              "   'highlighs': ['stock'],\n",
              "   'link': 'https://twitter.com/marketwatch',\n",
              "   'displayed_link': '4.6M+ followers'},\n",
              "  {'position': 1,\n",
              "   'title': 'Stock Analyst135 (@SAnalyst135) / ...',\n",
              "   'snippet': \"Time & again the market teaches us that we can't predict it.. I accepted it a few years back to not to predict or think about market movement or stock price\\xa0...\",\n",
              "   'highlighs': ['stock'],\n",
              "   'link': 'https://twitter.com/sanalyst135',\n",
              "   'displayed_link': '17.7K+ followers'},\n",
              "  {'position': 2,\n",
              "   'title': 'Brad Freeman (@StockMarketNerd) ...',\n",
              "   'snippet': 'I write Stock Market Nerd Newsletter for 40K+ Readers Across 173 Countries -- Subscribe for Free; Masters in Finance; @Umich x 2| 🇺🇸',\n",
              "   'highlighs': ['Stock'],\n",
              "   'link': 'https://twitter.com/stockmarketnerd',\n",
              "   'displayed_link': '148.8K+ followers'},\n",
              "  {'position': 3,\n",
              "   'title': 'Evan (@StockMKTNewz) / X',\n",
              "   'snippet': 'Free Stock Market News that is FAST, ACCURATE, CONSISTENT, and RELIABLE | Not Just Stock News | My Daily Stock Market Recap is the link in my bio',\n",
              "   'highlighs': ['Stock', 'Stock', 'Stock'],\n",
              "   'link': 'https://twitter.com/stockmktnewz',\n",
              "   'displayed_link': '484.1K+ followers'},\n",
              "  {'position': 4,\n",
              "   'title': 'Yahoo Finance (@YahooFinance ...',\n",
              "   'snippet': '3 things to know this morning: 1. Election Day: US stock futures trade in the green 2. $BA union votes to end strike 3. $PLTR\\xa0...',\n",
              "   'highlighs': ['stock'],\n",
              "   'link': 'https://twitter.com/yahoofinance',\n",
              "   'displayed_link': '1.8M+ followers'},\n",
              "  {'position': 5,\n",
              "   'title': 'This bank stock is losing momentum. How to profit from ...',\n",
              "   'snippet': 'This bank stock is losing momentum. How to profit from a pullback using options https://t.co/eo3yEyMN2A.',\n",
              "   'highlighs': ['stock'],\n",
              "   'link': 'https://twitter.com/CNBC/status/1853825730888499549',\n",
              "   'displayed_link': '7 likes  ·  9 hours ago'},\n",
              "  {'position': 6,\n",
              "   'title': 'Stock Market Scientist™ (@MarketScientist) / ...',\n",
              "   'snippet': \"Stock Market Scientist™'s posts ... Rallies India The New PI Industries in making I shared PI Industries at 800 few years back... ... Canadian inspired funds are\\xa0...\",\n",
              "   'highlighs': ['Stock'],\n",
              "   'link': 'https://twitter.com/marketscientist',\n",
              "   'displayed_link': '252.9K+ followers'},\n",
              "  {'position': 7,\n",
              "   'title': 'Motley Fool Stock Advisor (@TMFStockAdvisor) / X',\n",
              "   'snippet': 'The flagship service by The Motley Fool co-founders David and Tom Gardner. Provides top stock recommendations.',\n",
              "   'highlighs': ['stock'],\n",
              "   'link': 'https://twitter.com/tmfstockadvisor',\n",
              "   'displayed_link': '69K+ followers'},\n",
              "  {'position': 8,\n",
              "   'title': 'Resolution of close elections see biggest stock market rally ...',\n",
              "   'snippet': 'Resolution of close elections see biggest stock market rally, data shows https://t.co/uhxXgHvFZW.',\n",
              "   'highlighs': ['stock'],\n",
              "   'link': 'https://twitter.com/CNBC/status/1853840792344834366',\n",
              "   'displayed_link': '5 likes  ·  8 hours ago'},\n",
              "  {'position': 9,\n",
              "   'title': 'Stocktwits',\n",
              "   'snippet': 'Live look at $PLTR stock right now, up 12.6% The earnings call is starting NOW, listen live on Stocktwits: https://stocktwits.com/symbol/PLTR/earningscall…',\n",
              "   'highlighs': ['stock'],\n",
              "   'link': 'https://twitter.com/stocktwits',\n",
              "   'displayed_link': '1M+ followers'}],\n",
              " 'pagination': {'pages_count': 10,\n",
              "  'current_page': 1,\n",
              "  'next_page_url': 'http://api.scraperapi.com/?url=https%3A%2F%2Fwww.google.com%2Fsearch%3Fq%3Dsite%3Atwitter.com%2B%2522Stock%2522%26sca_esv%3Dfb9ba6523a533ee8%26gl%3DUS%26ei%3Du8MqZ_bdNfSfhbIP3NmKsQo%26start%3D10%26sa%3DN%26sstk%3DAagrsuh1FnI-tZ8QYr2PzokEPPKH1KWNMqsgtMjE1RSj_5s1l4M8UVdqy0FFdDc4hDDJ3dFjaMwnH6OkzSKL58Fa4xLjMvpbfaOJhA%26ved%3D2ahUKEwi2p6bJxMaJAxX0T0EAHdysIqYQ8tMDegQIKxAE&autoparse=true',\n",
              "  'pages': [{'page': 2,\n",
              "    'url': 'http://api.scraperapi.com/?url=https%3A%2F%2Fwww.google.com%2Fsearch%3Fq%3Dsite%3Atwitter.com%2B%2522Stock%2522%26sca_esv%3Dfb9ba6523a533ee8%26gl%3DUS%26ei%3Du8MqZ_bdNfSfhbIP3NmKsQo%26start%3D10%26sa%3DN%26sstk%3DAagrsuh1FnI-tZ8QYr2PzokEPPKH1KWNMqsgtMjE1RSj_5s1l4M8UVdqy0FFdDc4hDDJ3dFjaMwnH6OkzSKL58Fa4xLjMvpbfaOJhA%26ved%3D2ahUKEwi2p6bJxMaJAxX0T0EAHdysIqYQ8tMDegQIKxAE&autoparse=true'},\n",
              "   {'page': 3,\n",
              "    'url': 'http://api.scraperapi.com/?url=https%3A%2F%2Fwww.google.com%2Fsearch%3Fq%3Dsite%3Atwitter.com%2B%2522Stock%2522%26sca_esv%3Dfb9ba6523a533ee8%26gl%3DUS%26ei%3Du8MqZ_bdNfSfhbIP3NmKsQo%26start%3D20%26sa%3DN%26sstk%3DAagrsuh1FnI-tZ8QYr2PzokEPPKH1KWNMqsgtMjE1RSj_5s1l4M8UVdqy0FFdDc4hDDJ3dFjaMwnH6OkzSKL58Fa4xLjMvpbfaOJhA%26ved%3D2ahUKEwi2p6bJxMaJAxX0T0EAHdysIqYQ8tMDegQIKxAG&autoparse=true'},\n",
              "   {'page': 4,\n",
              "    'url': 'http://api.scraperapi.com/?url=https%3A%2F%2Fwww.google.com%2Fsearch%3Fq%3Dsite%3Atwitter.com%2B%2522Stock%2522%26sca_esv%3Dfb9ba6523a533ee8%26gl%3DUS%26ei%3Du8MqZ_bdNfSfhbIP3NmKsQo%26start%3D30%26sa%3DN%26sstk%3DAagrsuh1FnI-tZ8QYr2PzokEPPKH1KWNMqsgtMjE1RSj_5s1l4M8UVdqy0FFdDc4hDDJ3dFjaMwnH6OkzSKL58Fa4xLjMvpbfaOJhA%26ved%3D2ahUKEwi2p6bJxMaJAxX0T0EAHdysIqYQ8tMDegQIKxAI&autoparse=true'},\n",
              "   {'page': 5,\n",
              "    'url': 'http://api.scraperapi.com/?url=https%3A%2F%2Fwww.google.com%2Fsearch%3Fq%3Dsite%3Atwitter.com%2B%2522Stock%2522%26sca_esv%3Dfb9ba6523a533ee8%26gl%3DUS%26ei%3Du8MqZ_bdNfSfhbIP3NmKsQo%26start%3D40%26sa%3DN%26sstk%3DAagrsuh1FnI-tZ8QYr2PzokEPPKH1KWNMqsgtMjE1RSj_5s1l4M8UVdqy0FFdDc4hDDJ3dFjaMwnH6OkzSKL58Fa4xLjMvpbfaOJhA%26ved%3D2ahUKEwi2p6bJxMaJAxX0T0EAHdysIqYQ8tMDegQIKxAK&autoparse=true'},\n",
              "   {'page': 6,\n",
              "    'url': 'http://api.scraperapi.com/?url=https%3A%2F%2Fwww.google.com%2Fsearch%3Fq%3Dsite%3Atwitter.com%2B%2522Stock%2522%26sca_esv%3Dfb9ba6523a533ee8%26gl%3DUS%26ei%3Du8MqZ_bdNfSfhbIP3NmKsQo%26start%3D50%26sa%3DN%26sstk%3DAagrsuh1FnI-tZ8QYr2PzokEPPKH1KWNMqsgtMjE1RSj_5s1l4M8UVdqy0FFdDc4hDDJ3dFjaMwnH6OkzSKL58Fa4xLjMvpbfaOJhA%26ved%3D2ahUKEwi2p6bJxMaJAxX0T0EAHdysIqYQ8tMDegQIKxAM&autoparse=true'},\n",
              "   {'page': 7,\n",
              "    'url': 'http://api.scraperapi.com/?url=https%3A%2F%2Fwww.google.com%2Fsearch%3Fq%3Dsite%3Atwitter.com%2B%2522Stock%2522%26sca_esv%3Dfb9ba6523a533ee8%26gl%3DUS%26ei%3Du8MqZ_bdNfSfhbIP3NmKsQo%26start%3D60%26sa%3DN%26sstk%3DAagrsuh1FnI-tZ8QYr2PzokEPPKH1KWNMqsgtMjE1RSj_5s1l4M8UVdqy0FFdDc4hDDJ3dFjaMwnH6OkzSKL58Fa4xLjMvpbfaOJhA%26ved%3D2ahUKEwi2p6bJxMaJAxX0T0EAHdysIqYQ8tMDegQIKxAO&autoparse=true'},\n",
              "   {'page': 8,\n",
              "    'url': 'http://api.scraperapi.com/?url=https%3A%2F%2Fwww.google.com%2Fsearch%3Fq%3Dsite%3Atwitter.com%2B%2522Stock%2522%26sca_esv%3Dfb9ba6523a533ee8%26gl%3DUS%26ei%3Du8MqZ_bdNfSfhbIP3NmKsQo%26start%3D70%26sa%3DN%26sstk%3DAagrsuh1FnI-tZ8QYr2PzokEPPKH1KWNMqsgtMjE1RSj_5s1l4M8UVdqy0FFdDc4hDDJ3dFjaMwnH6OkzSKL58Fa4xLjMvpbfaOJhA%26ved%3D2ahUKEwi2p6bJxMaJAxX0T0EAHdysIqYQ8tMDegQIKxAQ&autoparse=true'},\n",
              "   {'page': 9,\n",
              "    'url': 'http://api.scraperapi.com/?url=https%3A%2F%2Fwww.google.com%2Fsearch%3Fq%3Dsite%3Atwitter.com%2B%2522Stock%2522%26sca_esv%3Dfb9ba6523a533ee8%26gl%3DUS%26ei%3Du8MqZ_bdNfSfhbIP3NmKsQo%26start%3D80%26sa%3DN%26sstk%3DAagrsuh1FnI-tZ8QYr2PzokEPPKH1KWNMqsgtMjE1RSj_5s1l4M8UVdqy0FFdDc4hDDJ3dFjaMwnH6OkzSKL58Fa4xLjMvpbfaOJhA%26ved%3D2ahUKEwi2p6bJxMaJAxX0T0EAHdysIqYQ8tMDegQIKxAS&autoparse=true'},\n",
              "   {'page': 10,\n",
              "    'url': 'http://api.scraperapi.com/?url=https%3A%2F%2Fwww.google.com%2Fsearch%3Fq%3Dsite%3Atwitter.com%2B%2522Stock%2522%26sca_esv%3Dfb9ba6523a533ee8%26gl%3DUS%26ei%3Du8MqZ_bdNfSfhbIP3NmKsQo%26start%3D90%26sa%3DN%26sstk%3DAagrsuh1FnI-tZ8QYr2PzokEPPKH1KWNMqsgtMjE1RSj_5s1l4M8UVdqy0FFdDc4hDDJ3dFjaMwnH6OkzSKL58Fa4xLjMvpbfaOJhA%26ved%3D2ahUKEwi2p6bJxMaJAxX0T0EAHdysIqYQ8tMDegQIKxAU&autoparse=true'}]}}"
            ]
          },
          "metadata": {},
          "execution_count": 14
        }
      ]
    },
    {
      "cell_type": "code",
      "source": [
        "# from pprint import pprint\n",
        "\n",
        "# print(f\"The type of data is: {type(data)}\")\n",
        "# print(\"Here is the content of data:\")\n",
        "# pprint(data)"
      ],
      "metadata": {
        "id": "QFNiz5-Gz7Gw"
      },
      "execution_count": 15,
      "outputs": []
    },
    {
      "cell_type": "markdown",
      "source": [],
      "metadata": {
        "id": "JY-tjVxz6O1E"
      }
    },
    {
      "cell_type": "markdown",
      "source": [
        "# Reddit Data Collection"
      ],
      "metadata": {
        "id": "E6GGCwoP6XIW"
      }
    },
    {
      "cell_type": "markdown",
      "source": [
        "https://www.youtube.com/watch?v=8KrUCXlAN4Q"
      ],
      "metadata": {
        "id": "2J38WOefA5T-"
      }
    },
    {
      "cell_type": "code",
      "source": [
        "!pip install praw\n",
        "!pip install asyncpraw"
      ],
      "metadata": {
        "colab": {
          "base_uri": "https://localhost:8080/"
        },
        "id": "F_sw32zJujTI",
        "outputId": "c510739e-e99a-4621-ca45-dfc33d728ade"
      },
      "execution_count": 16,
      "outputs": [
        {
          "output_type": "stream",
          "name": "stdout",
          "text": [
            "Collecting praw\n",
            "  Downloading praw-7.8.1-py3-none-any.whl.metadata (9.4 kB)\n",
            "Collecting prawcore<3,>=2.4 (from praw)\n",
            "  Downloading prawcore-2.4.0-py3-none-any.whl.metadata (5.0 kB)\n",
            "Collecting update_checker>=0.18 (from praw)\n",
            "  Downloading update_checker-0.18.0-py3-none-any.whl.metadata (2.3 kB)\n",
            "Requirement already satisfied: websocket-client>=0.54.0 in /usr/local/lib/python3.10/dist-packages (from praw) (1.8.0)\n",
            "Requirement already satisfied: requests<3.0,>=2.6.0 in /usr/local/lib/python3.10/dist-packages (from prawcore<3,>=2.4->praw) (2.32.3)\n",
            "Requirement already satisfied: charset-normalizer<4,>=2 in /usr/local/lib/python3.10/dist-packages (from requests<3.0,>=2.6.0->prawcore<3,>=2.4->praw) (3.4.0)\n",
            "Requirement already satisfied: idna<4,>=2.5 in /usr/local/lib/python3.10/dist-packages (from requests<3.0,>=2.6.0->prawcore<3,>=2.4->praw) (3.10)\n",
            "Requirement already satisfied: urllib3<3,>=1.21.1 in /usr/local/lib/python3.10/dist-packages (from requests<3.0,>=2.6.0->prawcore<3,>=2.4->praw) (2.2.3)\n",
            "Requirement already satisfied: certifi>=2017.4.17 in /usr/local/lib/python3.10/dist-packages (from requests<3.0,>=2.6.0->prawcore<3,>=2.4->praw) (2024.8.30)\n",
            "Downloading praw-7.8.1-py3-none-any.whl (189 kB)\n",
            "\u001b[2K   \u001b[90m━━━━━━━━━━━━━━━━━━━━━━━━━━━━━━━━━━━━━━━━\u001b[0m \u001b[32m189.3/189.3 kB\u001b[0m \u001b[31m3.5 MB/s\u001b[0m eta \u001b[36m0:00:00\u001b[0m\n",
            "\u001b[?25hDownloading prawcore-2.4.0-py3-none-any.whl (17 kB)\n",
            "Downloading update_checker-0.18.0-py3-none-any.whl (7.0 kB)\n",
            "Installing collected packages: update_checker, prawcore, praw\n",
            "Successfully installed praw-7.8.1 prawcore-2.4.0 update_checker-0.18.0\n",
            "Collecting asyncpraw\n",
            "  Downloading asyncpraw-7.8.0-py3-none-any.whl.metadata (9.0 kB)\n",
            "Collecting aiofiles (from asyncpraw)\n",
            "  Downloading aiofiles-24.1.0-py3-none-any.whl.metadata (10 kB)\n",
            "Requirement already satisfied: aiohttp<4 in /usr/local/lib/python3.10/dist-packages (from asyncpraw) (3.10.10)\n",
            "Collecting aiosqlite<=0.17.0 (from asyncpraw)\n",
            "  Downloading aiosqlite-0.17.0-py3-none-any.whl.metadata (4.1 kB)\n",
            "Collecting asyncprawcore<3,>=2.1 (from asyncpraw)\n",
            "  Downloading asyncprawcore-2.4.0-py3-none-any.whl.metadata (5.5 kB)\n",
            "Requirement already satisfied: update_checker>=0.18 in /usr/local/lib/python3.10/dist-packages (from asyncpraw) (0.18.0)\n",
            "Requirement already satisfied: aiohappyeyeballs>=2.3.0 in /usr/local/lib/python3.10/dist-packages (from aiohttp<4->asyncpraw) (2.4.3)\n",
            "Requirement already satisfied: aiosignal>=1.1.2 in /usr/local/lib/python3.10/dist-packages (from aiohttp<4->asyncpraw) (1.3.1)\n",
            "Requirement already satisfied: attrs>=17.3.0 in /usr/local/lib/python3.10/dist-packages (from aiohttp<4->asyncpraw) (24.2.0)\n",
            "Requirement already satisfied: frozenlist>=1.1.1 in /usr/local/lib/python3.10/dist-packages (from aiohttp<4->asyncpraw) (1.5.0)\n",
            "Requirement already satisfied: multidict<7.0,>=4.5 in /usr/local/lib/python3.10/dist-packages (from aiohttp<4->asyncpraw) (6.1.0)\n",
            "Requirement already satisfied: yarl<2.0,>=1.12.0 in /usr/local/lib/python3.10/dist-packages (from aiohttp<4->asyncpraw) (1.17.0)\n",
            "Requirement already satisfied: async-timeout<5.0,>=4.0 in /usr/local/lib/python3.10/dist-packages (from aiohttp<4->asyncpraw) (4.0.3)\n",
            "Requirement already satisfied: typing_extensions>=3.7.2 in /usr/local/lib/python3.10/dist-packages (from aiosqlite<=0.17.0->asyncpraw) (4.12.2)\n",
            "Requirement already satisfied: requests>=2.3.0 in /usr/local/lib/python3.10/dist-packages (from update_checker>=0.18->asyncpraw) (2.32.3)\n",
            "Requirement already satisfied: charset-normalizer<4,>=2 in /usr/local/lib/python3.10/dist-packages (from requests>=2.3.0->update_checker>=0.18->asyncpraw) (3.4.0)\n",
            "Requirement already satisfied: idna<4,>=2.5 in /usr/local/lib/python3.10/dist-packages (from requests>=2.3.0->update_checker>=0.18->asyncpraw) (3.10)\n",
            "Requirement already satisfied: urllib3<3,>=1.21.1 in /usr/local/lib/python3.10/dist-packages (from requests>=2.3.0->update_checker>=0.18->asyncpraw) (2.2.3)\n",
            "Requirement already satisfied: certifi>=2017.4.17 in /usr/local/lib/python3.10/dist-packages (from requests>=2.3.0->update_checker>=0.18->asyncpraw) (2024.8.30)\n",
            "Requirement already satisfied: propcache>=0.2.0 in /usr/local/lib/python3.10/dist-packages (from yarl<2.0,>=1.12.0->aiohttp<4->asyncpraw) (0.2.0)\n",
            "Downloading asyncpraw-7.8.0-py3-none-any.whl (196 kB)\n",
            "\u001b[2K   \u001b[90m━━━━━━━━━━━━━━━━━━━━━━━━━━━━━━━━━━━━━━━━\u001b[0m \u001b[32m196.4/196.4 kB\u001b[0m \u001b[31m3.5 MB/s\u001b[0m eta \u001b[36m0:00:00\u001b[0m\n",
            "\u001b[?25hDownloading aiosqlite-0.17.0-py3-none-any.whl (15 kB)\n",
            "Downloading asyncprawcore-2.4.0-py3-none-any.whl (19 kB)\n",
            "Downloading aiofiles-24.1.0-py3-none-any.whl (15 kB)\n",
            "Installing collected packages: aiosqlite, aiofiles, asyncprawcore, asyncpraw\n",
            "Successfully installed aiofiles-24.1.0 aiosqlite-0.17.0 asyncpraw-7.8.0 asyncprawcore-2.4.0\n"
          ]
        }
      ]
    },
    {
      "cell_type": "code",
      "source": [
        "import praw\n",
        "import asyncpraw\n",
        "import asyncio\n",
        "from datetime import datetime, timedelta"
      ],
      "metadata": {
        "id": "ihTQpk3if1Ql"
      },
      "execution_count": 17,
      "outputs": []
    },
    {
      "cell_type": "code",
      "source": [
        "from google.colab import userdata\n",
        "client_id = userdata.get('client_id')\n",
        "client_secret = userdata.get('client_secret')\n",
        "\n",
        "reddit = praw.Reddit(client_id= client_id,\n",
        "                     client_secret=client_secret,\n",
        "                     user_agent='StockBot')"
      ],
      "metadata": {
        "id": "27vUKrAyoSOT"
      },
      "execution_count": 18,
      "outputs": []
    },
    {
      "cell_type": "code",
      "source": [
        "import pandas as pd\n",
        "import re\n",
        "from datetime import datetime, timedelta\n",
        "top_posts = []\n",
        "subreddit = reddit.subreddit('stocks')\n",
        "subreddit_data = []\n",
        "\n",
        "for post in subreddit.hot(limit=10):\n",
        "    post_data = {\n",
        "        \"title\": post.title,\n",
        "        \"author\": str(post.author),\n",
        "        \"upvotes\": post.score,\n",
        "        \"comments_count\": post.num_comments,\n",
        "        \"url\": post.url,\n",
        "        \"comments\": []\n",
        "\n",
        "    }\n",
        "\n",
        "    submission = reddit.submission(id=post.id)\n",
        "    submission.comments.replace_more(limit=0)\n",
        "\n",
        "    for comment in submission.comments.list()[:10]:  # Limit to 10 comments\n",
        "        post_data[\"comments\"].append(comment.body)\n",
        "\n",
        "    top_posts.append(post_data)\n",
        ""
      ],
      "metadata": {
        "collapsed": true,
        "id": "7_IT0mCKRnoh",
        "outputId": "41b1ad71-65c4-45f6-f4bf-9d4ebaf303d0",
        "colab": {
          "base_uri": "https://localhost:8080/"
        }
      },
      "execution_count": 40,
      "outputs": [
        {
          "output_type": "stream",
          "name": "stderr",
          "text": [
            "WARNING:praw:It appears that you are using PRAW in an asynchronous environment.\n",
            "It is strongly recommended to use Async PRAW: https://asyncpraw.readthedocs.io.\n",
            "See https://praw.readthedocs.io/en/latest/getting_started/multiple_instances.html#discord-bots-and-asynchronous-environments for more info.\n",
            "\n",
            "WARNING:praw:It appears that you are using PRAW in an asynchronous environment.\n",
            "It is strongly recommended to use Async PRAW: https://asyncpraw.readthedocs.io.\n",
            "See https://praw.readthedocs.io/en/latest/getting_started/multiple_instances.html#discord-bots-and-asynchronous-environments for more info.\n",
            "\n",
            "WARNING:praw:It appears that you are using PRAW in an asynchronous environment.\n",
            "It is strongly recommended to use Async PRAW: https://asyncpraw.readthedocs.io.\n",
            "See https://praw.readthedocs.io/en/latest/getting_started/multiple_instances.html#discord-bots-and-asynchronous-environments for more info.\n",
            "\n",
            "WARNING:praw:It appears that you are using PRAW in an asynchronous environment.\n",
            "It is strongly recommended to use Async PRAW: https://asyncpraw.readthedocs.io.\n",
            "See https://praw.readthedocs.io/en/latest/getting_started/multiple_instances.html#discord-bots-and-asynchronous-environments for more info.\n",
            "\n",
            "WARNING:praw:It appears that you are using PRAW in an asynchronous environment.\n",
            "It is strongly recommended to use Async PRAW: https://asyncpraw.readthedocs.io.\n",
            "See https://praw.readthedocs.io/en/latest/getting_started/multiple_instances.html#discord-bots-and-asynchronous-environments for more info.\n",
            "\n",
            "WARNING:praw:It appears that you are using PRAW in an asynchronous environment.\n",
            "It is strongly recommended to use Async PRAW: https://asyncpraw.readthedocs.io.\n",
            "See https://praw.readthedocs.io/en/latest/getting_started/multiple_instances.html#discord-bots-and-asynchronous-environments for more info.\n",
            "\n",
            "WARNING:praw:It appears that you are using PRAW in an asynchronous environment.\n",
            "It is strongly recommended to use Async PRAW: https://asyncpraw.readthedocs.io.\n",
            "See https://praw.readthedocs.io/en/latest/getting_started/multiple_instances.html#discord-bots-and-asynchronous-environments for more info.\n",
            "\n",
            "WARNING:praw:It appears that you are using PRAW in an asynchronous environment.\n",
            "It is strongly recommended to use Async PRAW: https://asyncpraw.readthedocs.io.\n",
            "See https://praw.readthedocs.io/en/latest/getting_started/multiple_instances.html#discord-bots-and-asynchronous-environments for more info.\n",
            "\n",
            "WARNING:praw:It appears that you are using PRAW in an asynchronous environment.\n",
            "It is strongly recommended to use Async PRAW: https://asyncpraw.readthedocs.io.\n",
            "See https://praw.readthedocs.io/en/latest/getting_started/multiple_instances.html#discord-bots-and-asynchronous-environments for more info.\n",
            "\n",
            "WARNING:praw:It appears that you are using PRAW in an asynchronous environment.\n",
            "It is strongly recommended to use Async PRAW: https://asyncpraw.readthedocs.io.\n",
            "See https://praw.readthedocs.io/en/latest/getting_started/multiple_instances.html#discord-bots-and-asynchronous-environments for more info.\n",
            "\n",
            "WARNING:praw:It appears that you are using PRAW in an asynchronous environment.\n",
            "It is strongly recommended to use Async PRAW: https://asyncpraw.readthedocs.io.\n",
            "See https://praw.readthedocs.io/en/latest/getting_started/multiple_instances.html#discord-bots-and-asynchronous-environments for more info.\n",
            "\n"
          ]
        }
      ]
    },
    {
      "cell_type": "code",
      "source": [
        "print(submission)"
      ],
      "metadata": {
        "id": "YxrbfO5VTrWU",
        "outputId": "0ab5cf09-0792-44cc-defe-3b1c1d689191",
        "colab": {
          "base_uri": "https://localhost:8080/"
        }
      },
      "execution_count": 39,
      "outputs": [
        {
          "output_type": "stream",
          "name": "stdout",
          "text": [
            "1gk57du\n"
          ]
        }
      ]
    },
    {
      "cell_type": "code",
      "source": [
        "print(top_posts)"
      ],
      "metadata": {
        "id": "bCjNJHl3G408",
        "outputId": "6d7802d4-faea-4290-ece9-9534f99efd20",
        "colab": {
          "base_uri": "https://localhost:8080/"
        }
      },
      "execution_count": 41,
      "outputs": [
        {
          "output_type": "stream",
          "name": "stdout",
          "text": [
            "[{'title': '/r/stocks US Election and Market Megathread', 'author': 'turkeychicken', 'upvotes': 45, 'comments_count': 150, 'url': 'https://www.reddit.com/r/stocks/comments/1gjhdg1/rstocks_us_election_and_market_megathread/', 'comments': ['Stocks go down = Are we due for a correction?\\n\\nStocks go up = Are we overvalued?\\n\\nThe market is always nervous.', \"I've read so many different articles suggesting that markets will rally after we find out the results of the election, regardless of who wins, because the uncertainty goes away. Does anyone else find this difficult to comprehend? If we know for a fact that markets will go up by the end of this week, then what uncertainty is there in buying the index? Why wouldn't a guarantee of equity prices going up this week be already priced in today? They say that there's money on the sidelines waiting until election results come out to dive in - but if the victor of the election is irrelevant, why wait?\", 'Which night is \"election night\"? Today? Tomorrow?', 'The good news for all you people is that today I sold everything, so prepare for the biggest bull run in history.', 'I ran 80K simulations and in all of them the S&P 500 beat your portfolio. \\n\\nThank you for listening to my useful financial analysis', 'Calls on GOOGL, they crushed earnings yet prices is lower than what they were heading into earnings', \"Anyone got a solid resource to understand the impact of the election on markets? I can't get an idea with all the misinformation out there it's crazy\", '[deleted]', 'I’m betting that one party wins and one loses.', 'If Trump loses, he will contest the election, maybe have his fans start stuff. VIXX goes up.\\n\\nIf Trump wins, he will enact trade policies that will hurt companies like Amazon, leading to drop in tech stocks, increasing volatility. Not sure what happens with bank stocks, but it will be a jolt for the market. VIXX goes up.']}, {'title': 'r/Stocks Daily Discussion & Technicals Tuesday - Nov 05, 2024', 'author': 'AutoModerator', 'upvotes': 4, 'comments_count': 174, 'url': 'https://www.reddit.com/r/stocks/comments/1gk3ojg/rstocks_daily_discussion_technicals_tuesday_nov/', 'comments': ['Election Megathread here:\\n\\nhttps://www.reddit.com/r/stocks/s/vynlBhBLWT', 'Using P/E ratios is like the IQ bell curve meme:\\n\\nLow IQ: \"What does E mean? Anyway price went up a lot, it\\'s a good stock so I\\'m gonna buy it\" [Me buying CELH]\\n\\nMid IQ: \"The multiple of the S&P 500 is 22, this high quality company is growing faster and has a multiple of 18, so it\\'s a buy\" [Me buying Google]\\n\\nHigh IQ: \"Multiples are inadequate for cyclicals and temporarily under-earning or unprofitable companies. I prefer to directly model out different trajectories of cash flows. I built this complex valuation model based on historical industry data and a neural network to estimate the next 24 quarters of revenue. I incorporate a  wide margin of safety, and estimate this is a buy. I used Monte Carlo simulation to determine the most likely outcomes.\" [Not me ever, but AMR in 2023 was my attempt at a high IQ play]\\n\\nVery high IQ: \"P/E is low/medium/high, whatever, company good, it\\'s a buy\" [Not me ever]', 'Wtf pltr going crazy', 'amzn and the war for 200', \"Didn't even know I've been hanging on to 5 shares or PLTR since the meme days 🤣\", 'Any big news today that might affect the markets? /s', 'My PLTR position gains is now worth more than 4 of my loser positions in my portfolio. \\n\\nIt really is true one or two winners can cover all your losses.', \"Why's Reddit up 9%?\", \"I recommend that everyone run straightforward puts/calls, with at minimum 2-week expiration, **after** seeing the post-market and premarket election reaction. Like clockwork dating back to the early 1900s, the indices sink or explode after the presidential election for around 10-14 days. The first day anticipates which direction will go.\\n\\nAllocation size can be whatever you deem appropriate. If the market sinks, it will function as a hedge. If it rises, you're accruing extra alpha on top of your portfolio. If ATM premiums are too rich, pick long-dated OTMs for the end of the month. Choose the liquid ETFs - SPY, QQQ, IWM, TQQQ, etc.\", 'Yields rising hard, as is SPY - one market is wrong']}, {'title': 'SMCI fails to report earnings. Shares -10% AH', 'author': 'thelastsubject123', 'upvotes': 252, 'comments_count': 79, 'url': 'https://www.reddit.com/r/stocks/comments/1gkhrft/smci_fails_to_report_earnings_shares_10_ah/', 'comments': ['If it failed tro report earnings what did it just report?', 'That guidance tho lol. (bad.)', 'Would love to see the procedures that this committee performed to come to that conclusion.\\n\\nProbably not even close to an external audit.\\n\\nCompany is cooked if no accounting firms are willing to touch it.', 'Crazy results\\n\\nIf your gonna lie about it atleast give some crazy high numbers so you can dump your stock.\\n\\nThese guys can’t even get the fraud right.', 'They are a garbage company', 'Thank Christ I didn’t invest in SMCI, I was close to throwing some cash into it', 'So what would be an average timeline for SMCI going under (which seems more likely as they keep not reporting earnings)?', 'There will be a perp walk here before all is said and done', \"Between The Hindenburg research report and E&Y throwing the towel, it doesn't look good for the next few months...\\n\\nIf the un-audited earnings practices are in line with the report, it's going to hurt a bit  \\n[https://hindenburgresearch.com/smci/](https://hindenburgresearch.com/smci/)\", 'Bizarre']}, {'title': \"Musk now says it's 'pointless' to build a $25,000 Tesla for human drivers\", 'author': 'OG_Time_To_Kill', 'upvotes': 616, 'comments_count': 312, 'url': 'https://www.reddit.com/r/stocks/comments/1gk7fz6/musk_now_says_its_pointless_to_build_a_25000/', 'comments': ['Are you telling me that Elon Musk lied to investors and that Tesla isn’t valued on its fundamentals? First I’m hearing about this', 'If Tesla had any autonomous driving product then maybe this statement would have made sense but they can\\'t even trust \"FSD\" enough to get level 3 approval while other manufacturers are going ahead.', 'Bros going back and forth on his bet that he’s got a Trump job. \\n\\nBye Elon', \"Mmmh, I think I'll wait for the SpaceTaxi. 2027 probably.\", \"Did Elon just admit he can't beat BYD and other Chinese EV car makers $9,000 entry level price point.\", 'That’s why I never invest in Tesla. I don’t care how much potential money I can lose, I’ve realized it’s basically a marketing company first and a car company second. Anyone who’s been following Elon over the years realize how much he cannot be trusted and how it’s marketing and pump and \\xa0dumps', 'Elon Musk is not your friend.', 'After fsd? So in other words, never.', 'Concerning....', \"*Elon Musk walks back an outlandish statement that investors are still somehow dumb enough to believe at face value*\\n\\nHey I've seen this one before\"]}, {'title': 'Vanguard deposes BlackRock as provider of world’s second-largest ETF', 'author': 'bllshrfv', 'upvotes': 77, 'comments_count': 15, 'url': 'https://www.reddit.com/r/stocks/comments/1gkjlaq/vanguard_deposes_blackrock_as_provider_of_worlds/', 'comments': ['Hopefully this will make Blackrock finally 10-to-1 split their EU S&P500 ETF, 560€/share is outrageous since most people dont have fractional ETF’s\\n\\nIt’s also the only non-ESG S&P500 index etf available with UCITS', 'Vanguards size may become a problem to them. I imagine they may charge higher expense ratios to reduce their size\\n\\nOr they won’t care. More monies and that isn’t necessarily bad', 'Stock split + introduce 0dte', \"Schwab did a split on their ETFs.\\n\\nProbably trying to take some of that share.\\n\\nStill wondering why Schwab hasn't made an S&P500 ETF.\\n\\nI do own SCHG and SCHX.\", 'Stock split is all you have to do to avoid it?', 'VOO and chill', 'All my money is in IVV and not VOO. Am I stupid?', 'This, pls. Can’t really do a monthly dca on CSSPX if you save less than 560 or whatever is it now', \"Even with having access to fractional, it's annoying how long it takes them to fill\", \"That's going to be driven by demand. People would rather trade SPY options than VOO options.\"]}, {'title': 'Super Micro Computer- SMCI $26 - Avoid Till We Get Restated Financials', 'author': 'Fountainheadusa', 'upvotes': 47, 'comments_count': 27, 'url': 'https://www.reddit.com/r/stocks/comments/1gkgqx3/super_micro_computer_smci_26_avoid_till_we_get/', 'comments': ['Avoid forever', 'Will sell off even more when they get booted from S&P (no it’s not priced in)', 'Unaudited/Adjusted Results are out - For the period ending September 30, Super Micro\\xa0said\\xa0it expects to earn between $0.75 and $0.76 per share on an adjusted basis, with revenue between $5.9B and $6B, below its previous guidance of $6B to $7B. Analysts had expected the company to earn $0.74 per share on $6.79B in revenue. Looking ahead, Super Micro said it expects second-quarter revenue to be between $5.5B and $6.1B, with the mid-point of $5.8B below the $6.79B estimate. Adjusted earnings are forecast to be between $0.56 and $0.65 per share, with the midpoint of $0.61 below the $0.80 per share estimate. The stock is down 10%', 'Puts it is', 'Theta gang it is', 'They have applied to the Nasdaq for a 180-day extension for their 10K.', 'priced in.', \"Damnit OP now I'm tempted to inverse Reddit.\", 'I’m still surprised by how slowly the stock is sinking.', 'Auditors said no evidence of fraud.  Guidance cut.  Q1 cut because of Nvidia chip delays.']}, {'title': 'Nintendo cuts annual profit forecast 10% as Switch sales slow', 'author': 'Zhukov-74', 'upvotes': 148, 'comments_count': 65, 'url': 'https://www.reddit.com/r/stocks/comments/1gk4fym/nintendo_cuts_annual_profit_forecast_10_as_switch/', 'comments': [\"I am shocked 8 year old out of date tech isn't selling as well as it used to.\\n\\nRecession inbound.\", 'Release the Switch 2.0 and then people will buy more games', 'Steam deck and all other competitors have newer products with decent tech for a good price. It’s no wonder really.', \"After roughly 8 years, the Switch has never had a price cut. There hasn't been any large games on the Switch, only side-story games (Mario Brotherhood, Mario Party, and Zelda top-down). They are ramping up for a new console and it seems that the big guys are moving to it.\\n\\nRemember, the Switch 2 will be the first Nintendo console to host Call of Duty in a decade. Microsoft confirmed this. If Nintendo can get third party to support the Switch 2, they will be sitting pretty.\\n\\nEdit: Yes, I am referring to recent releases. The Switch has some of the best games over its lifetime.\", \"I'm surprised people actually still buy it in this numbers\", 'Need to release the old Pokémon games asap!', 'Switch 2 needs to come out already. I love Nintendo but the hardware is just ass in 2024. I’d love to get a new switch.', 'Just give us a new Mario kart already', 'Nintendo develops Switch 2\\n\\nSwitch sales slow\\n\\nNintendo:\\n\\n\\n⢀⣠⣾⣿⣿⣿⣿⣿⣿⣿⣿⣿⣿⣿⣿⣿⣿⣿⣿⣿⣿⣿⠀⠀⠀⠀⣠⣤⣶⣶ ⣿⣿⣿⣿⣿⣿⣿⣿⣿⣿⣿⣿⣿⣿⣿⣿⣿⣿⣿⣿⣿⣿⠀⠀⠀⢰⣿⣿⣿⣿ ⣿⣿⣿⣿⣿⣿⣿⣿⣿⣿⣿⣿⣿⣿⣿⣿⣿⣿⣿⣿⣿⣿⣧⣀⣀⣾⣿⣿⣿⣿ ⣿⣿⣿⣿⣿⡏⠉⠛⢿⣿⣿⣿⣿⣿⣿⣿⣿⣿⣿⣿⣿⣿⣿⣿⣿⣿⣿⣿⡿⣿ ⣿⣿⣿⣿⣿⣿⠀⠀⠀⠈⠛⢿⣿⣿⣿⣿⣿⣿⣿⣿⣿⣿⣿⣿⠿⠛⠉⠁⠀⣿ ⣿⣿⣿⣿⣿⣿⣧⡀⠀⠀⠀⠀⠙⠿⠿⠿⠻⠿⠿⠟⠿⠛⠉⠀⠀⠀⠀⠀⣸⣿ ⣿⣿⣿⣿⣿⣿⣿⣷⣄⠀⡀⠀⠀⠀⠀⠀⠀⠀⠀⠀⠀⠀⠀⠀⠀⠀⢀⣴⣿⣿ ⣿⣿⣿⣿⣿⣿⣿⣿⣿⠏⠀⠀⠀⠀⠀⠀⠀⠀⠀⠀⠀⠀⠀⠀⠠⣴⣿⣿⣿⣿ ⣿⣿⣿⣿⣿⣿⣿⣿⡟⠀⠀⢰⣹⡆⠀⠀⠀⠀⠀⠀⣭⣷⠀⠀⠀⠸⣿⣿⣿⣿ ⣿⣿⣿⣿⣿⣿⣿⣿⠃⠀⠀⠈⠉⠀⠀⠤⠄⠀⠀⠀⠉⠁⠀⠀⠀⠀⢿⣿⣿⣿ ⣿⣿⣿⣿⣿⣿⣿⣿⢾⣿⣷⠀⠀⠀⠀⡠⠤⢄⠀⠀⠀⠠⣿⣿⣷⠀⢸⣿⣿⣿ ⣿⣿⣿⣿⣿⣿⣿⣿⡀⠉⠀⠀⠀⠀⠀⢄⠀⢀⠀⠀⠀⠀⠉⠉⠁⠀⠀⣿⣿⣿ ⣿⣿⣿⣿⣿⣿⣿⣿⣧⠀⠀⠀⠀⠀⠀⠀⠈⠀⠀⠀⠀⠀⠀⠀⠀⠀⠀⢹⣿⣿ ⣿⣿⣿⣿⣿⣿⣿⣿⣿⠃⠀⠀⠀⠀⠀⠀⠀⠀⠀⠀⠀⠀⠀⠀⠀⠀⠀⢸⣿⣿', 'At what point do most potential buyers already own the product? Over 7 years old so id imagine most people who would ever buy it probably already did so this shouldn’t be much of a shocker.']}, {'title': 'Does anyone have an inverse Reddit portfolio?', 'author': 'rbrar33', 'upvotes': 45, 'comments_count': 75, 'url': 'https://www.reddit.com/r/stocks/comments/1gkbnqg/does_anyone_have_an_inverse_reddit_portfolio/', 'comments': ['Er yeah anyone with a value tilt', 'I would invest in this ETF!', 'Just flip your screen upside down', \"Reddit has been bullish on tech for well over 5 years btw. It's the one consistent stance. Sometimes less so for one single company, but as a whole over time, bullish.\\n\\nWouldn't have wanted to inverse that myself.\", 'You’d have to train a LLM to scan threads and be able to interpret comments as either bullish or bearish and aggregate data across subreddits and possibly even weigh different subs comments differently. I.e. palantir sub reddit maybe shouldn’t count, or you’d have to weigh it different. \\n\\nWould be interesting. \\n\\nI’d like to see the big reddit posts from 2008 before that crisis, and how wrong everyone probably was.', 'Reddit isn’t one person with an opinion on something. I see people/postswith opposite opinions on the same stock/crypto all the time on reddit.', 'I was bullish on RDDT from the beginning. It was hilariously undervalued compared to its potential. Redditors snarkily shit on my thesis because hating on reddit makes them feel cool.\\n\\nI made money though :)', 'Reddit', 'META and RDDT have both made me +170%', 'META - Remember when Reddit said no one uses FB anymore except boomers?\\n\\nNFLX - Remember when Reddit said no one will watch Netflix anymore after they raise subscription prices?\\n\\nTSLA - eLoN bAd']}, {'title': '\" Boeing workers vote to accept deal, end strike \"', 'author': 'AIONisMINE', 'upvotes': 237, 'comments_count': 99, 'url': 'https://www.reddit.com/r/stocks/comments/1gk0wsl/boeing_workers_vote_to_accept_deal_end_strike/', 'comments': [\"I'm happy to be going back to work. I take this contract as a win.\", 'I personally don’t understand the desire for a pension. I prefer a 401k match that I can invest in the market so that I don’t have my retirement hinge on a single company. So from my perspective this feels like a win for the workers (not saying 401ks are a panacea for all, btw)', 'TLDR 13k bonus now that can go to 401k \\n43% raise over 3 years \\nNo pension \\nPassed with 59% vote', 'My opinion Boeing won. Pretty bullish on the stock', 'Imagine voting against a 43 percent raise in just a few years.', 'And Boeing losing money, anyone that invested into Boeing is losing money.', \"Pension was not gonna happen, but they didn't get any of their asks other than pay raise. More PTO for everyone and a better pay progression for new members was basically axed. A real fuck you to the new union members tbh\", 'My company graciously hands out raised of 1%-3.5% and it’s based on performance where to fall in that range.', 'Bearish.\\n\\nWho am I kidding - bullish.', 'Why do they think they deserve a raise when their planes keep falling apart and they got 2 people stuck in space for months.']}, {'title': 'Oil giant Saudi Aramco posts 15% drop in third-quarter profit but maintains dividend', 'author': 'Puginator', 'upvotes': 82, 'comments_count': 6, 'url': 'https://www.reddit.com/r/stocks/comments/1gk57du/oil_giant_saudi_aramco_posts_15_drop_in/', 'comments': ['\"Saudi Government and it\\'s Sovereign Wealth Fund are it\\'s biggest shareholders\" that right there is why the dividend was untouched even after the profit decline.\\n\\nOr maybe cuz their net income is still in the tens of billions and they can get away with their dividend payout.', 'The Saudis, Emirates, Kuwait, Bahrain, Qatar.\\nSo much money they could use for the RELIABLE future of the countries, yet they waste it on stupid projects that will neber make it they way they were supposed to work.', 'The entire country and all its lavish spending depends on a company that makes as much profit as Google. Yikes. Maybe time for Saudi to spend less on football players.', 'It’s a way to funnel the money into their own bank accounts. Most of the local contractors are tied to princes and emirs in one way or another.\\nWho cares about a 50 billion dollar project with contractors racking up billions when the contractor is you and your family and friends :)', 'Most of these countries have more money than they can ever spend. Qatar has like 600 years worth of oil and gas reserves.', 'Leave my Neymar alone!']}]\n"
          ]
        }
      ]
    },
    {
      "cell_type": "code",
      "source": [
        "from pathlib import Path\n",
        "import json\n",
        "#print(top_posts)\n",
        "path = Path('reddit_data.json')\n",
        "print(path)\n",
        "contents = json.dumps(top_posts, indent=4)\n",
        "reddit_input = path.write_text(contents)\n",
        "#print(reddit_input)\n",
        "#print(contents)"
      ],
      "metadata": {
        "id": "KLIJ6e0ZEEFT",
        "outputId": "adc2f790-cee7-400c-b0c8-8f237854ba44",
        "colab": {
          "base_uri": "https://localhost:8080/"
        }
      },
      "execution_count": 43,
      "outputs": [
        {
          "output_type": "stream",
          "name": "stdout",
          "text": [
            "reddit_data.json\n"
          ]
        }
      ]
    },
    {
      "cell_type": "code",
      "source": [
        "import pprint\n",
        "from pprint import pprint\n",
        "pprint(subreddit_data)"
      ],
      "metadata": {
        "collapsed": true,
        "colab": {
          "base_uri": "https://localhost:8080/"
        },
        "id": "1XAlwsw0uBjf",
        "outputId": "5a65fdea-8477-4bfe-e2e4-1a07d171ebbc"
      },
      "execution_count": 22,
      "outputs": [
        {
          "output_type": "stream",
          "name": "stdout",
          "text": [
            "[]\n"
          ]
        }
      ]
    },
    {
      "cell_type": "code",
      "source": [
        "print(type(subreddit_data))\n",
        "print(subreddit_data[1])\n",
        "print(subreddit_data[0]['comments'])\n",
        "#data saved in subreddit_data"
      ],
      "metadata": {
        "id": "fWp-lVHMvQN7"
      },
      "execution_count": null,
      "outputs": []
    },
    {
      "cell_type": "markdown",
      "source": [
        "# Data preproccessing"
      ],
      "metadata": {
        "id": "DiHoNrKRp8vv"
      }
    },
    {
      "cell_type": "code",
      "source": [
        "print(twitter_data)"
      ],
      "metadata": {
        "id": "dIGxb_giCubL"
      },
      "execution_count": null,
      "outputs": []
    },
    {
      "cell_type": "code",
      "source": [
        "print(subreddit_data)"
      ],
      "metadata": {
        "id": "A7RMiupzp6-a"
      },
      "execution_count": null,
      "outputs": []
    },
    {
      "cell_type": "code",
      "source": [],
      "metadata": {
        "id": "xQqegX1Bp7zX"
      },
      "execution_count": null,
      "outputs": []
    },
    {
      "cell_type": "code",
      "source": [
        "%%time\n",
        "import pandas as pd\n",
        "import re\n",
        "\n",
        "subreddit = reddit.subreddit('stocks')\n",
        "subreddit_data = []\n",
        "\n",
        "for post in subreddit.hot(limit=2):\n",
        "    post_data = {\n",
        "        \"id\": post.id,\n",
        "                \"title\": post.title,\n",
        "        \"author\": str(post.author),\n",
        "        \"upvotes\": post.score,\n",
        "        \"comments_count\": post.num_comments,\n",
        "        \"url\": post.url,\n",
        "        \"comments\": []\n",
        "    }\n",
        "\n",
        "    submission = reddit.submission(id=post.id)\n",
        "    submission.comments.replace_more(limit=0)\n",
        "\n",
        "    for comment in submission.comments.list():\n",
        "        post_data[\"comments\"].append(comment.body)\n",
        "\n",
        "    subreddit_data.append(post_data)"
      ],
      "metadata": {
        "id": "bY7MdxedfdDy",
        "collapsed": true
      },
      "execution_count": null,
      "outputs": []
    },
    {
      "cell_type": "code",
      "source": [
        "subreddit_data"
      ],
      "metadata": {
        "collapsed": true,
        "id": "c5nzDEcMXhe5"
      },
      "execution_count": null,
      "outputs": []
    },
    {
      "cell_type": "code",
      "source": [
        "import pandas as pd\n",
        "import re\n",
        "\n",
        "def preprocess_text(text):\n",
        "  \"\"\"Preprocesses text data by removing URLs, mentions, hashtags, and special characters.\"\"\"\n",
        "  # Remove URLs\n",
        "  text = re.sub(r'http\\S+', '', text)\n",
        "  # Remove mentions (@username)\n",
        "  text = re.sub(r'@\\w+', '', text)\n",
        "  # Remove hashtags (#hashtag)\n",
        "  text = re.sub(r'#\\w+', '', text)\n",
        "  # Remove special characters and numbers\n",
        "  text = re.sub(r'[^a-zA-Z\\s]', '', text)\n",
        "  # Convert to lowercase\n",
        "  text = text.lower()\n",
        "  return text\n",
        "\n",
        "def process_data(data):    #twitter data needs this function\n",
        "    \"\"\"\n",
        "    Processes the input data and returns a list of preprocessed text.\n",
        "    \"\"\"\n",
        "    preprocessed_data = [] # Initialize an empty list to store preprocessed data\n",
        "    if data is None:\n",
        "        print(\"No data provided.\")\n",
        "    elif isinstance(data, dict) and 'organic_results' in data and isinstance(data['organic_results'], list):\n",
        "        # Process the list of organic results\n",
        "        for result in data['organic_results']:\n",
        "            #print(result)\n",
        "            # Access the 'snippet' key of the current result dictionary\n",
        "            preprocessed_data.append(preprocess_text(result['snippet']))\n",
        "    else:\n",
        "        print(\"Data is not in the expected format.\")\n",
        "    return preprocessed_data # Return the preprocessed data list\n",
        "\n",
        "# Call the function and assign the result\n",
        "preprocessed_twitter_data = process_data(twitter_data)\n",
        "\n",
        "\n",
        "import pandas as pd\n",
        "import re\n",
        "\n",
        "def preprocess_text(text):\n",
        "  \"\"\"Preprocesses text data by removing URLs, mentions, hashtags, and special characters.\"\"\"\n",
        "  # Remove URLs\n",
        "  text = re.sub(r'http\\S+', '', text)\n",
        "  # Remove mentions (@username)\n",
        "  text = re.sub(r'@\\w+', '', text)\n",
        "  # Remove hashtags (#hashtag)\n",
        "  text = re.sub(r'#\\w+', '', text)\n",
        "  # Remove special characters and numbers\n",
        "  text = re.sub(r'[^a-zA-Z\\s]', '', text)\n",
        "  # Convert to lowercase\n",
        "  text = text.lower()\n",
        "  return text\n",
        "\n",
        "def process_data(data):    #twitter data needs this function\n",
        "    \"\"\"\n",
        "    Processes the input data and returns a list of preprocessed text.\n",
        "    \"\"\"\n",
        "    preprocessed_data = [] # Initialize an empty list to store preprocessed data\n",
        "    if data is None:\n",
        "        print(\"No data provided.\")\n",
        "    elif isinstance(data, dict) and 'organic_results' in data and isinstance(data['organic_results'], list):\n",
        "        # Process the list of organic results\n",
        "        for result in data['organic_results']:\n",
        "            #print(result)\n",
        "            # Access the 'snippet' key of the current result dictionary\n",
        "            preprocessed_data.append(preprocess_text(result['snippet']))\n",
        "    else:\n",
        "        print(\"Data is not in the expected format.\")\n",
        "    return preprocessed_data # Return the preprocessed data list\n",
        "\n",
        "# Call the function and assign the result\n",
        "preprocessed_twitter_data = process_data(twitter_data)\n",
        "\n",
        "\n",
        "# Example usage with Reddit data:\n",
        "preprocessed_reddit_comments = []\n",
        "preprocessed_reddit_titles = [preprocess_text(post['title']) for post in subreddit_data]\n",
        "\n",
        "\n",
        "for post in subreddit_data:\n",
        "    submission = reddit.submission(id=post['id'])\n",
        "    submission.comments.replace_more(limit=0)\n",
        "    for comment in submission.comments.list():\n",
        "        preprocessed_reddit_comments.append(preprocess_text(comment.body))\n",
        "\n",
        "# preprocessed_reddit_titles\n",
        "# preprocessed_reddit_comments\n",
        "# preprocessed_twitter_data\n",
        "#pprint(preprocessed_twitter_data)"
      ],
      "metadata": {
        "id": "TuUhIsXSU4Ju",
        "collapsed": true
      },
      "execution_count": null,
      "outputs": []
    },
    {
      "cell_type": "code",
      "source": [
        "print(preprocessed_twitter_data)"
      ],
      "metadata": {
        "id": "FzI9fyMEx-DE"
      },
      "execution_count": null,
      "outputs": []
    },
    {
      "cell_type": "code",
      "source": [
        "print(preprocessed_reddit_titles)\n",
        "print(preprocessed_reddit_comments)"
      ],
      "metadata": {
        "id": "6t9Fmr610BHj"
      },
      "execution_count": null,
      "outputs": []
    },
    {
      "cell_type": "markdown",
      "source": [
        "# RabbitMQ"
      ],
      "metadata": {
        "id": "j4hz6GL3eiWT"
      }
    },
    {
      "cell_type": "markdown",
      "source": [
        "How to procede?\n",
        "Preprocess the data and EDA:\n"
      ],
      "metadata": {
        "id": "VWtGLF-AUkfZ"
      }
    },
    {
      "cell_type": "code",
      "source": [
        "\n",
        "data = preprocessed_twitter_data\n",
        "if isinstance(data, list) and len(data) > 0:  # Check if data is in the expected format\n",
        "    for tweet in data:\n",
        "        preprocessed_twitter_data.append(preprocess_text(tweet['text']))\n",
        "    data\n",
        "elif isinstance(data, dict) and 'results' in data and isinstance(data['results'], list): #handle different response structures\n",
        "    for tweet in data['results']:\n",
        "        if 'text' in tweet:  # check for the 'text' key\n",
        "            preprocessed_twitter_data.append(preprocess_text(tweet['text']))\n",
        "    data\n",
        "else:\n",
        "    print(\"Unexpected format of Twitter data.\")\n"
      ],
      "metadata": {
        "id": "BSBqlCh24jhP"
      },
      "execution_count": null,
      "outputs": []
    },
    {
      "cell_type": "code",
      "source": [],
      "metadata": {
        "id": "iCbQJhv-27Aj"
      },
      "execution_count": null,
      "outputs": []
    },
    {
      "cell_type": "code",
      "source": [
        "class RabbitMQConnection:\n",
        "  def publish_to_rabbitmq(queue_name: str, data:str):\n",
        "    \"\"\"a simple class to manage a connection to a RabbitMQ server.\"\"\"\n",
        "    try:\n",
        "      rabbitmq_con = RabbitMQConnection()\n",
        "      with rabbitmq_conn:\n",
        "        channel = rabbitmq_conn.get_channel()\n",
        "        channel.queue_declar(queue = queue_name, durable = True)\n",
        "        channel.confirm_delivery()\n",
        "        channel.basic_publish(exchange = '', routing_key = queue_name, body = data, properties = pika.BasicProperties(delivery_mode = 2))\n",
        "        print(\"Sent data to RabbitMQ\", data)\n",
        "    except pika.xceptions.UnroutableError:\n",
        "      print(\"Message could not be routed\")\n",
        "    except Exception as e:\n",
        "      print(f\"Error publishing to RabbitMQ: {e}\")\n",
        "\n"
      ],
      "metadata": {
        "id": "-aIW6xAq3Bqt"
      },
      "execution_count": null,
      "outputs": []
    },
    {
      "cell_type": "code",
      "source": [
        "\n",
        "from datetime import datetime\n",
        "params = {\"date\":datetime.now , \"subreddit\": 'stocks' }\n",
        "#other possible params T\n",
        "def collect(params):\n",
        "  response = requests.get('https://api.scraperapi.com/structured/twitter/search', params=payload)\n",
        "  data=response.json()#dict(dict) {“organic_data”: []}\n",
        "\n",
        "def collect(params):\n",
        "    response = requests.get('https://api.scraperapi.com/structured/twitter/search', params=payload)\n",
        "    data = response.json()\n",
        "\n",
        "    # Iterate through each tweet in the 'organic_results' list\n",
        "    for tweet in data[\"organic_results\"]:\n",
        "        Text = tweet['snippet']\n",
        "        processed_text = preprocess_text(Text)  # Process the tweet text\n",
        "        pubish_to_rabbitmq(bot, processed_text)"
      ],
      "metadata": {
        "id": "1SO8w4OX5zY-"
      },
      "execution_count": null,
      "outputs": []
    },
    {
      "cell_type": "code",
      "source": [
        "publish_to_rabbitmq(queue_name: str, data:str)"
      ],
      "metadata": {
        "id": "qv-47xV0CRYn"
      },
      "execution_count": null,
      "outputs": []
    }
  ]
}