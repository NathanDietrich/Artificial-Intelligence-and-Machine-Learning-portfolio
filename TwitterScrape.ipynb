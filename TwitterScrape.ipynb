{
  "nbformat": 4,
  "nbformat_minor": 0,
  "metadata": {
    "colab": {
      "provenance": [],
      "authorship_tag": "ABX9TyNKRcEMoJsR7vn9SgErO7Vu",
      "include_colab_link": true
    },
    "kernelspec": {
      "name": "python3",
      "display_name": "Python 3"
    },
    "language_info": {
      "name": "python"
    }
  },
  "cells": [
    {
      "cell_type": "markdown",
      "metadata": {
        "id": "view-in-github",
        "colab_type": "text"
      },
      "source": [
        "<a href=\"https://colab.research.google.com/github/NathanDietrich/Artificial-Intelligence-and-Machine-Learning-portfolio/blob/main/TwitterScrape.ipynb\" target=\"_parent\"><img src=\"https://colab.research.google.com/assets/colab-badge.svg\" alt=\"Open In Colab\"/></a>"
      ]
    },
    {
      "cell_type": "code",
      "execution_count": 1,
      "metadata": {
        "id": "DfM8dsjhStvX"
      },
      "outputs": [],
      "source": [
        "#following this tutorial https://www.youtube.com/watch?v=AFeXivA7Hh4\n",
        "import requests\n",
        "import pandas as pd\n"
      ]
    },
    {
      "cell_type": "code",
      "source": [
        "twitter_data = []\n"
      ],
      "metadata": {
        "id": "h4uGmsX2TaXv"
      },
      "execution_count": 2,
      "outputs": []
    },
    {
      "cell_type": "code",
      "source": [
        "payload = {\n",
        "    'api_key': 'fc77ba882232c929cdaa788e34e06b92',\n",
        "    'query':'Stock',\n",
        "    'num': '10'\n",
        "\n",
        "}\n",
        "response = requests.get(\n",
        "    'https://api.scraperapi.com/structured/twitter/search', params=payload)\n",
        "data=response.json()\n"
      ],
      "metadata": {
        "id": "XNh8GgdRTeZq"
      },
      "execution_count": 4,
      "outputs": []
    },
    {
      "cell_type": "code",
      "source": [
        "data"
      ],
      "metadata": {
        "colab": {
          "base_uri": "https://localhost:8080/"
        },
        "id": "Vljwmvs8VD7Z",
        "outputId": "e6b9fca6-c042-42c3-d950-ca1976b44c7d"
      },
      "execution_count": 5,
      "outputs": [
        {
          "output_type": "execute_result",
          "data": {
            "text/plain": [
              "{'search_information': {'query_displayed': 'site:twitter.com \"Stock\"'},\n",
              " 'organic_results': [{'position': 0,\n",
              "   'title': 'Stocktwits',\n",
              "   'snippet': \"BREAKING $HOOD just announced it's adding index options and futures to the platform Stock is up 5% after-hours Watch the stream live: https://stocktwits\\xa0...\",\n",
              "   'highlighs': ['Stock'],\n",
              "   'link': 'https://twitter.com/stocktwits',\n",
              "   'displayed_link': '1M+ followers'},\n",
              "  {'position': 1,\n",
              "   'title': 'MarketWatch',\n",
              "   'snippet': 'Corporate stock buybacks on track for a fresh record in 2024. Corporate stock buybacks on track for a fresh record in 2024. From marketwatch.com. 1.',\n",
              "   'highlighs': ['stock', 'stock'],\n",
              "   'link': 'https://twitter.com/marketwatch',\n",
              "   'displayed_link': '4.6M+ followers'},\n",
              "  {'position': 2,\n",
              "   'title': 'Brad Freeman (@StockMarketNerd) ...',\n",
              "   'snippet': 'I write Stock Market Nerd Newsletter for 40K+ Readers Across 173 Countries -- Subscribe for Free; Masters in Finance; @Umich x 2| 🇺🇸',\n",
              "   'highlighs': ['Stock'],\n",
              "   'link': 'https://twitter.com/stockmarketnerd',\n",
              "   'displayed_link': '147.5K+ followers'},\n",
              "  {'position': 3,\n",
              "   'title': 'Stock Talk (@stocktalkweekly) / X',\n",
              "   'snippet': \"Stock Talk's posts ... You'll never be able to swing-trade a multi-bagger successfully if you start second-guessing & doubting your thesis every time the stock is\\xa0...\",\n",
              "   'highlighs': ['Stock', 'stock'],\n",
              "   'link': 'https://twitter.com/stocktalkweekly',\n",
              "   'displayed_link': '266.7K+ followers'},\n",
              "  {'position': 4,\n",
              "   'title': 'Evan (@StockMKTNewz) / X',\n",
              "   'snippet': 'Free Stock Market News that is FAST, ACCURATE, CONSISTENT, and RELIABLE | Not Just Stock News | My Daily Stock Market Recap is the link in my bio',\n",
              "   'highlighs': ['Stock', 'Stock', 'Stock'],\n",
              "   'link': 'https://twitter.com/stockmktnewz',\n",
              "   'displayed_link': '480.5K+ followers'},\n",
              "  {'position': 5,\n",
              "   'title': 'NYSE',\n",
              "   'snippet': \"The New York Stock Exchange welcomes Members Handicapped Children's Fund to ring The Opening Bell®. 4.\",\n",
              "   'highlighs': ['Stock'],\n",
              "   'link': 'https://twitter.com/nyse',\n",
              "   'displayed_link': '1.7M+ followers'},\n",
              "  {'position': 6,\n",
              "   'title': 'The White House',\n",
              "   'snippet': 'And this week, the stock market reached another all-time high on the back of strong business investments and consumer spending,\\xa0...',\n",
              "   'highlighs': ['stock'],\n",
              "   'link': 'https://twitter.com/WhiteHouse/status/1846672474815008911',\n",
              "   'displayed_link': '130+ likes  ·  6 hours ago'},\n",
              "  {'position': 7,\n",
              "   'title': 'Stock Market Scientist™ (@MarketScientist) / X',\n",
              "   'snippet': \"Joined October 2019. 24 Following · 250.4K Followers · Posts · Replies · Highlights · Media. Stock Market Scientist™'s posts. Stock Market Scientist™ reposted.\",\n",
              "   'highlighs': ['Stock', 'Stock'],\n",
              "   'link': 'https://twitter.com/marketscientist',\n",
              "   'displayed_link': '250.4K+ followers'},\n",
              "  {'position': 8,\n",
              "   'title': 'LSEG (London Stock Exchange Group) (@LSEGplc) ...',\n",
              "   'snippet': \"Headquartered in London, UK lseg.com Joined November 2010. 161 Following · 30.7K Followers · Posts · Replies · Media. LSEG (London Stock Exchange Group)'s posts.\",\n",
              "   'highlighs': ['Stock'],\n",
              "   'link': 'https://twitter.com/lsegplc',\n",
              "   'displayed_link': '30.7K+ followers'},\n",
              "  {'position': 9,\n",
              "   'title': 'London Stock Exchange (@LSEplc) / X',\n",
              "   'snippet': \"Official Twitter feed of London Stock Exchange - the world's most international stock exchange, at the heart of the global economy.\",\n",
              "   'highlighs': ['Stock', 'stock'],\n",
              "   'link': 'https://twitter.com/lseplc',\n",
              "   'displayed_link': '74.2K+ followers'}],\n",
              " 'pagination': {'pages_count': 10,\n",
              "  'current_page': 1,\n",
              "  'next_page_url': 'https://www.google.com/search?q=site:twitter.com+%22Stock%22&sca_esv=b10113c690fbab05&gl=US&ei=_pIQZ6rgHa2whbIP2aaH0A4&start=10&sa=N&sstk=Aagrsuh3BCO3qhUntXmp_yPh_72dzzuULlWKwHA-6pIXUwsNY_4UhHbkTSaUXqLp_idTbDeAcE3FyBUKSXarr8Czy7g10Umx7tQcfQ&ved=2ahUKEwiq1863ypSJAxUtWEEAHVnTAeoQ8tMDegQIKBAE',\n",
              "  'pages': [{'page': 2,\n",
              "    'url': 'https://www.google.com/search?q=site:twitter.com+%22Stock%22&sca_esv=b10113c690fbab05&gl=US&ei=_pIQZ6rgHa2whbIP2aaH0A4&start=10&sa=N&sstk=Aagrsuh3BCO3qhUntXmp_yPh_72dzzuULlWKwHA-6pIXUwsNY_4UhHbkTSaUXqLp_idTbDeAcE3FyBUKSXarr8Czy7g10Umx7tQcfQ&ved=2ahUKEwiq1863ypSJAxUtWEEAHVnTAeoQ8tMDegQIKBAE'},\n",
              "   {'page': 3,\n",
              "    'url': 'https://www.google.com/search?q=site:twitter.com+%22Stock%22&sca_esv=b10113c690fbab05&gl=US&ei=_pIQZ6rgHa2whbIP2aaH0A4&start=20&sa=N&sstk=Aagrsuh3BCO3qhUntXmp_yPh_72dzzuULlWKwHA-6pIXUwsNY_4UhHbkTSaUXqLp_idTbDeAcE3FyBUKSXarr8Czy7g10Umx7tQcfQ&ved=2ahUKEwiq1863ypSJAxUtWEEAHVnTAeoQ8tMDegQIKBAG'},\n",
              "   {'page': 4,\n",
              "    'url': 'https://www.google.com/search?q=site:twitter.com+%22Stock%22&sca_esv=b10113c690fbab05&gl=US&ei=_pIQZ6rgHa2whbIP2aaH0A4&start=30&sa=N&sstk=Aagrsuh3BCO3qhUntXmp_yPh_72dzzuULlWKwHA-6pIXUwsNY_4UhHbkTSaUXqLp_idTbDeAcE3FyBUKSXarr8Czy7g10Umx7tQcfQ&ved=2ahUKEwiq1863ypSJAxUtWEEAHVnTAeoQ8tMDegQIKBAI'},\n",
              "   {'page': 5,\n",
              "    'url': 'https://www.google.com/search?q=site:twitter.com+%22Stock%22&sca_esv=b10113c690fbab05&gl=US&ei=_pIQZ6rgHa2whbIP2aaH0A4&start=40&sa=N&sstk=Aagrsuh3BCO3qhUntXmp_yPh_72dzzuULlWKwHA-6pIXUwsNY_4UhHbkTSaUXqLp_idTbDeAcE3FyBUKSXarr8Czy7g10Umx7tQcfQ&ved=2ahUKEwiq1863ypSJAxUtWEEAHVnTAeoQ8tMDegQIKBAK'},\n",
              "   {'page': 6,\n",
              "    'url': 'https://www.google.com/search?q=site:twitter.com+%22Stock%22&sca_esv=b10113c690fbab05&gl=US&ei=_pIQZ6rgHa2whbIP2aaH0A4&start=50&sa=N&sstk=Aagrsuh3BCO3qhUntXmp_yPh_72dzzuULlWKwHA-6pIXUwsNY_4UhHbkTSaUXqLp_idTbDeAcE3FyBUKSXarr8Czy7g10Umx7tQcfQ&ved=2ahUKEwiq1863ypSJAxUtWEEAHVnTAeoQ8tMDegQIKBAM'},\n",
              "   {'page': 7,\n",
              "    'url': 'https://www.google.com/search?q=site:twitter.com+%22Stock%22&sca_esv=b10113c690fbab05&gl=US&ei=_pIQZ6rgHa2whbIP2aaH0A4&start=60&sa=N&sstk=Aagrsuh3BCO3qhUntXmp_yPh_72dzzuULlWKwHA-6pIXUwsNY_4UhHbkTSaUXqLp_idTbDeAcE3FyBUKSXarr8Czy7g10Umx7tQcfQ&ved=2ahUKEwiq1863ypSJAxUtWEEAHVnTAeoQ8tMDegQIKBAO'},\n",
              "   {'page': 8,\n",
              "    'url': 'https://www.google.com/search?q=site:twitter.com+%22Stock%22&sca_esv=b10113c690fbab05&gl=US&ei=_pIQZ6rgHa2whbIP2aaH0A4&start=70&sa=N&sstk=Aagrsuh3BCO3qhUntXmp_yPh_72dzzuULlWKwHA-6pIXUwsNY_4UhHbkTSaUXqLp_idTbDeAcE3FyBUKSXarr8Czy7g10Umx7tQcfQ&ved=2ahUKEwiq1863ypSJAxUtWEEAHVnTAeoQ8tMDegQIKBAQ'},\n",
              "   {'page': 9,\n",
              "    'url': 'https://www.google.com/search?q=site:twitter.com+%22Stock%22&sca_esv=b10113c690fbab05&gl=US&ei=_pIQZ6rgHa2whbIP2aaH0A4&start=80&sa=N&sstk=Aagrsuh3BCO3qhUntXmp_yPh_72dzzuULlWKwHA-6pIXUwsNY_4UhHbkTSaUXqLp_idTbDeAcE3FyBUKSXarr8Czy7g10Umx7tQcfQ&ved=2ahUKEwiq1863ypSJAxUtWEEAHVnTAeoQ8tMDegQIKBAS'},\n",
              "   {'page': 10,\n",
              "    'url': 'https://www.google.com/search?q=site:twitter.com+%22Stock%22&sca_esv=b10113c690fbab05&gl=US&ei=_pIQZ6rgHa2whbIP2aaH0A4&start=90&sa=N&sstk=Aagrsuh3BCO3qhUntXmp_yPh_72dzzuULlWKwHA-6pIXUwsNY_4UhHbkTSaUXqLp_idTbDeAcE3FyBUKSXarr8Czy7g10Umx7tQcfQ&ved=2ahUKEwiq1863ypSJAxUtWEEAHVnTAeoQ8tMDegQIKBAU'}]}}"
            ]
          },
          "metadata": {},
          "execution_count": 5
        }
      ]
    }
  ]
}