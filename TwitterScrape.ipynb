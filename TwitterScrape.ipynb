{
  "nbformat": 4,
  "nbformat_minor": 0,
  "metadata": {
    "colab": {
      "provenance": [],
      "authorship_tag": "ABX9TyNxQVOBTKaB6RNiwTECvo8Q",
      "include_colab_link": true
    },
    "kernelspec": {
      "name": "python3",
      "display_name": "Python 3"
    },
    "language_info": {
      "name": "python"
    }
  },
  "cells": [
    {
      "cell_type": "markdown",
      "metadata": {
        "id": "view-in-github",
        "colab_type": "text"
      },
      "source": [
        "<a href=\"https://colab.research.google.com/github/NathanDietrich/Artificial-Intelligence-and-Machine-Learning-portfolio/blob/main/TwitterScrape.ipynb\" target=\"_parent\"><img src=\"https://colab.research.google.com/assets/colab-badge.svg\" alt=\"Open In Colab\"/></a>"
      ]
    },
    {
      "cell_type": "code",
      "execution_count": 1,
      "metadata": {
        "id": "DfM8dsjhStvX"
      },
      "outputs": [],
      "source": [
        "#following this tutorial https://www.youtube.com/watch?v=AFeXivA7Hh4\n",
        "import requests\n",
        "import pandas as pd\n"
      ]
    },
    {
      "cell_type": "code",
      "source": [
        "twitter_data = []\n"
      ],
      "metadata": {
        "id": "h4uGmsX2TaXv"
      },
      "execution_count": 2,
      "outputs": []
    },
    {
      "cell_type": "code",
      "source": [
        "payload = {\n",
        "    'api_key': 'fc77ba882232c929cdaa788e34e06b92',\n",
        "    'query':'artificial intelligence',\n",
        "    'num': '25'\n",
        "\n",
        "}\n",
        "response = requests.get(\n",
        "    'https://api.scraperapi.com/structured/twitter/search', params=payload)\n",
        "data=response.json()"
      ],
      "metadata": {
        "id": "XNh8GgdRTeZq"
      },
      "execution_count": 7,
      "outputs": []
    },
    {
      "cell_type": "code",
      "source": [
        "data.keys()"
      ],
      "metadata": {
        "colab": {
          "base_uri": "https://localhost:8080/"
        },
        "id": "Vljwmvs8VD7Z",
        "outputId": "11757c01-d034-4136-f136-269f6ab0ab63"
      },
      "execution_count": 9,
      "outputs": [
        {
          "output_type": "execute_result",
          "data": {
            "text/plain": [
              "dict_keys(['search_information', 'organic_results', 'images', 'pagination'])"
            ]
          },
          "metadata": {},
          "execution_count": 9
        }
      ]
    }
  ]
}