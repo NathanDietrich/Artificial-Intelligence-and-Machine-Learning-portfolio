{
  "nbformat": 4,
  "nbformat_minor": 0,
  "metadata": {
    "colab": {
      "provenance": [],
      "authorship_tag": "ABX9TyN0ewQEna1xFbdgGpQ7hzVZ",
      "include_colab_link": true
    },
    "kernelspec": {
      "name": "python3",
      "display_name": "Python 3"
    },
    "language_info": {
      "name": "python"
    }
  },
  "cells": [
    {
      "cell_type": "markdown",
      "metadata": {
        "id": "view-in-github",
        "colab_type": "text"
      },
      "source": [
        "<a href=\"https://colab.research.google.com/github/NathanDietrich/Artificial-Intelligence-and-Machine-Learning-portfolio/blob/main/HyperparameterTuning.ipynb\" target=\"_parent\"><img src=\"https://colab.research.google.com/assets/colab-badge.svg\" alt=\"Open In Colab\"/></a>"
      ]
    },
    {
      "cell_type": "code",
      "execution_count": 34,
      "metadata": {
        "id": "bQidjNLyLLQ9"
      },
      "outputs": [],
      "source": [
        "import numpy as np\n",
        "import tensorflow as tf\n",
        "import pandas as pd\n",
        "from tensorflow.keras.datasets import cifar10\n",
        "from tensorflow.keras.applications import VGG16\n",
        "from tensorflow.keras.models import Model\n",
        "from tensorflow.keras.layers import Dense, GlobalAveragePooling2D\n",
        "from tensorflow.keras.optimizers import Adam\n",
        "from tensorflow.keras.utils import to_categorical\n",
        "from sklearn.model_selection import train_test_split"
      ]
    },
    {
      "cell_type": "code",
      "source": [
        "# Load the CIFAR-10 dataset\n",
        "(images_train, labels_train), (images_test, labels_test) = tf.keras.datasets.cifar10.load_data()"
      ],
      "metadata": {
        "id": "yibwidlHLcSR"
      },
      "execution_count": 35,
      "outputs": []
    },
    {
      "cell_type": "code",
      "source": [
        "#print(labels_test)\n",
        "#print(images_test)\n",
        "#print(images_train)\n",
        "#print(labels_train)"
      ],
      "metadata": {
        "id": "Uqg-1UyWMDDj"
      },
      "execution_count": 36,
      "outputs": []
    },
    {
      "cell_type": "code",
      "source": [
        "# Normalize the pixel values to [0,1]\n",
        "normalized_images_test = images_test/255\n",
        "normalized_images_train = images_train/255"
      ],
      "metadata": {
        "id": "nKms-orGMC_8"
      },
      "execution_count": 37,
      "outputs": []
    },
    {
      "cell_type": "code",
      "source": [
        "print(normalized_images_test)"
      ],
      "metadata": {
        "colab": {
          "base_uri": "https://localhost:8080/"
        },
        "collapsed": true,
        "id": "Yi7ye4-D9BsN",
        "outputId": "799aaa9a-9dec-41b8-c3e2-141df3970524"
      },
      "execution_count": 38,
      "outputs": [
        {
          "output_type": "stream",
          "name": "stdout",
          "text": [
            "[[[[0.61960784 0.43921569 0.19215686]\n",
            "   [0.62352941 0.43529412 0.18431373]\n",
            "   [0.64705882 0.45490196 0.2       ]\n",
            "   ...\n",
            "   [0.5372549  0.37254902 0.14117647]\n",
            "   [0.49411765 0.35686275 0.14117647]\n",
            "   [0.45490196 0.33333333 0.12941176]]\n",
            "\n",
            "  [[0.59607843 0.43921569 0.2       ]\n",
            "   [0.59215686 0.43137255 0.15686275]\n",
            "   [0.62352941 0.44705882 0.17647059]\n",
            "   ...\n",
            "   [0.53333333 0.37254902 0.12156863]\n",
            "   [0.49019608 0.35686275 0.1254902 ]\n",
            "   [0.46666667 0.34509804 0.13333333]]\n",
            "\n",
            "  [[0.59215686 0.43137255 0.18431373]\n",
            "   [0.59215686 0.42745098 0.12941176]\n",
            "   [0.61960784 0.43529412 0.14117647]\n",
            "   ...\n",
            "   [0.54509804 0.38431373 0.13333333]\n",
            "   [0.50980392 0.37254902 0.13333333]\n",
            "   [0.47058824 0.34901961 0.12941176]]\n",
            "\n",
            "  ...\n",
            "\n",
            "  [[0.26666667 0.48627451 0.69411765]\n",
            "   [0.16470588 0.39215686 0.58039216]\n",
            "   [0.12156863 0.34509804 0.5372549 ]\n",
            "   ...\n",
            "   [0.14901961 0.38039216 0.57254902]\n",
            "   [0.05098039 0.25098039 0.42352941]\n",
            "   [0.15686275 0.33333333 0.49803922]]\n",
            "\n",
            "  [[0.23921569 0.45490196 0.65882353]\n",
            "   [0.19215686 0.4        0.58039216]\n",
            "   [0.1372549  0.33333333 0.51764706]\n",
            "   ...\n",
            "   [0.10196078 0.32156863 0.50980392]\n",
            "   [0.11372549 0.32156863 0.49411765]\n",
            "   [0.07843137 0.25098039 0.41960784]]\n",
            "\n",
            "  [[0.21176471 0.41960784 0.62745098]\n",
            "   [0.21960784 0.41176471 0.58431373]\n",
            "   [0.17647059 0.34901961 0.51764706]\n",
            "   ...\n",
            "   [0.09411765 0.30196078 0.48627451]\n",
            "   [0.13333333 0.32941176 0.50588235]\n",
            "   [0.08235294 0.2627451  0.43137255]]]\n",
            "\n",
            "\n",
            " [[[0.92156863 0.92156863 0.92156863]\n",
            "   [0.90588235 0.90588235 0.90588235]\n",
            "   [0.90980392 0.90980392 0.90980392]\n",
            "   ...\n",
            "   [0.91372549 0.91372549 0.91372549]\n",
            "   [0.91372549 0.91372549 0.91372549]\n",
            "   [0.90980392 0.90980392 0.90980392]]\n",
            "\n",
            "  [[0.93333333 0.93333333 0.93333333]\n",
            "   [0.92156863 0.92156863 0.92156863]\n",
            "   [0.92156863 0.92156863 0.92156863]\n",
            "   ...\n",
            "   [0.9254902  0.9254902  0.9254902 ]\n",
            "   [0.9254902  0.9254902  0.9254902 ]\n",
            "   [0.92156863 0.92156863 0.92156863]]\n",
            "\n",
            "  [[0.92941176 0.92941176 0.92941176]\n",
            "   [0.91764706 0.91764706 0.91764706]\n",
            "   [0.91764706 0.91764706 0.91764706]\n",
            "   ...\n",
            "   [0.92156863 0.92156863 0.92156863]\n",
            "   [0.92156863 0.92156863 0.92156863]\n",
            "   [0.91764706 0.91764706 0.91764706]]\n",
            "\n",
            "  ...\n",
            "\n",
            "  [[0.34117647 0.38823529 0.34901961]\n",
            "   [0.16862745 0.2        0.14509804]\n",
            "   [0.0745098  0.09019608 0.04313725]\n",
            "   ...\n",
            "   [0.6627451  0.72156863 0.70196078]\n",
            "   [0.71372549 0.77254902 0.75686275]\n",
            "   [0.7372549  0.79215686 0.78823529]]\n",
            "\n",
            "  [[0.32156863 0.37647059 0.32156863]\n",
            "   [0.18039216 0.22352941 0.14117647]\n",
            "   [0.14117647 0.17254902 0.08627451]\n",
            "   ...\n",
            "   [0.68235294 0.74117647 0.71764706]\n",
            "   [0.7254902  0.78431373 0.76862745]\n",
            "   [0.73333333 0.79215686 0.78431373]]\n",
            "\n",
            "  [[0.33333333 0.39607843 0.3254902 ]\n",
            "   [0.24313725 0.29411765 0.18823529]\n",
            "   [0.22745098 0.2627451  0.14901961]\n",
            "   ...\n",
            "   [0.65882353 0.71764706 0.69803922]\n",
            "   [0.70588235 0.76470588 0.74901961]\n",
            "   [0.72941176 0.78431373 0.78039216]]]\n",
            "\n",
            "\n",
            " [[[0.61960784 0.74509804 0.87058824]\n",
            "   [0.61960784 0.73333333 0.85490196]\n",
            "   [0.54509804 0.65098039 0.76078431]\n",
            "   ...\n",
            "   [0.89411765 0.90588235 0.91764706]\n",
            "   [0.92941176 0.9372549  0.95294118]\n",
            "   [0.93333333 0.94509804 0.96470588]]\n",
            "\n",
            "  [[0.66666667 0.78431373 0.89803922]\n",
            "   [0.6745098  0.78039216 0.88627451]\n",
            "   [0.59215686 0.69019608 0.78823529]\n",
            "   ...\n",
            "   [0.90980392 0.90980392 0.9254902 ]\n",
            "   [0.96470588 0.96470588 0.98039216]\n",
            "   [0.96470588 0.96862745 0.98431373]]\n",
            "\n",
            "  [[0.68235294 0.78823529 0.88235294]\n",
            "   [0.69019608 0.78431373 0.87058824]\n",
            "   [0.61568627 0.70196078 0.78039216]\n",
            "   ...\n",
            "   [0.90196078 0.89803922 0.90980392]\n",
            "   [0.98039216 0.97647059 0.98431373]\n",
            "   [0.96078431 0.95686275 0.96862745]]\n",
            "\n",
            "  ...\n",
            "\n",
            "  [[0.12156863 0.15686275 0.17647059]\n",
            "   [0.11764706 0.15294118 0.17254902]\n",
            "   [0.10196078 0.1372549  0.15686275]\n",
            "   ...\n",
            "   [0.14509804 0.15686275 0.18039216]\n",
            "   [0.03529412 0.05098039 0.05490196]\n",
            "   [0.01568627 0.02745098 0.01960784]]\n",
            "\n",
            "  [[0.09019608 0.13333333 0.15294118]\n",
            "   [0.10588235 0.14901961 0.16862745]\n",
            "   [0.09803922 0.14117647 0.16078431]\n",
            "   ...\n",
            "   [0.0745098  0.07843137 0.09411765]\n",
            "   [0.01568627 0.02352941 0.01176471]\n",
            "   [0.01960784 0.02745098 0.01176471]]\n",
            "\n",
            "  [[0.10980392 0.16078431 0.18431373]\n",
            "   [0.11764706 0.16862745 0.19607843]\n",
            "   [0.1254902  0.17647059 0.20392157]\n",
            "   ...\n",
            "   [0.01960784 0.02352941 0.03137255]\n",
            "   [0.01568627 0.01960784 0.01176471]\n",
            "   [0.02745098 0.03137255 0.02745098]]]\n",
            "\n",
            "\n",
            " ...\n",
            "\n",
            "\n",
            " [[[0.07843137 0.05882353 0.04705882]\n",
            "   [0.0745098  0.05490196 0.04313725]\n",
            "   [0.05882353 0.05490196 0.04313725]\n",
            "   ...\n",
            "   [0.03921569 0.03529412 0.02745098]\n",
            "   [0.04705882 0.04313725 0.03529412]\n",
            "   [0.05098039 0.04705882 0.03921569]]\n",
            "\n",
            "  [[0.08235294 0.0627451  0.05098039]\n",
            "   [0.07843137 0.0627451  0.05098039]\n",
            "   [0.07058824 0.06666667 0.04705882]\n",
            "   ...\n",
            "   [0.03921569 0.03529412 0.02745098]\n",
            "   [0.03921569 0.03529412 0.02745098]\n",
            "   [0.04705882 0.04313725 0.03529412]]\n",
            "\n",
            "  [[0.08235294 0.0627451  0.05098039]\n",
            "   [0.08235294 0.06666667 0.04705882]\n",
            "   [0.07843137 0.07058824 0.04313725]\n",
            "   ...\n",
            "   [0.04705882 0.04313725 0.03529412]\n",
            "   [0.04705882 0.04313725 0.03529412]\n",
            "   [0.05098039 0.04705882 0.03921569]]\n",
            "\n",
            "  ...\n",
            "\n",
            "  [[0.12941176 0.09803922 0.05098039]\n",
            "   [0.13333333 0.10196078 0.05882353]\n",
            "   [0.13333333 0.10196078 0.05882353]\n",
            "   ...\n",
            "   [0.10980392 0.09803922 0.20392157]\n",
            "   [0.11372549 0.09803922 0.22745098]\n",
            "   [0.09019608 0.07843137 0.16470588]]\n",
            "\n",
            "  [[0.12941176 0.09803922 0.05490196]\n",
            "   [0.13333333 0.10196078 0.05882353]\n",
            "   [0.13333333 0.10196078 0.05882353]\n",
            "   ...\n",
            "   [0.10588235 0.09411765 0.20392157]\n",
            "   [0.10588235 0.09411765 0.21960784]\n",
            "   [0.09803922 0.08627451 0.18431373]]\n",
            "\n",
            "  [[0.12156863 0.09019608 0.04705882]\n",
            "   [0.1254902  0.09411765 0.05098039]\n",
            "   [0.12941176 0.09803922 0.05490196]\n",
            "   ...\n",
            "   [0.09411765 0.09019608 0.19607843]\n",
            "   [0.10196078 0.09019608 0.20784314]\n",
            "   [0.09803922 0.07843137 0.18431373]]]\n",
            "\n",
            "\n",
            " [[[0.09803922 0.15686275 0.04705882]\n",
            "   [0.05882353 0.14117647 0.01176471]\n",
            "   [0.09019608 0.16078431 0.07058824]\n",
            "   ...\n",
            "   [0.23921569 0.32156863 0.30588235]\n",
            "   [0.36078431 0.44313725 0.43921569]\n",
            "   [0.29411765 0.34901961 0.36078431]]\n",
            "\n",
            "  [[0.04705882 0.09803922 0.02352941]\n",
            "   [0.07843137 0.14509804 0.02745098]\n",
            "   [0.09411765 0.14117647 0.05882353]\n",
            "   ...\n",
            "   [0.45098039 0.5254902  0.54117647]\n",
            "   [0.58431373 0.65882353 0.69411765]\n",
            "   [0.40784314 0.45882353 0.51372549]]\n",
            "\n",
            "  [[0.04705882 0.09803922 0.04313725]\n",
            "   [0.05882353 0.11372549 0.02352941]\n",
            "   [0.13333333 0.15686275 0.09411765]\n",
            "   ...\n",
            "   [0.60392157 0.6745098  0.71372549]\n",
            "   [0.61568627 0.68627451 0.75294118]\n",
            "   [0.45490196 0.50588235 0.59215686]]\n",
            "\n",
            "  ...\n",
            "\n",
            "  [[0.39215686 0.50588235 0.31764706]\n",
            "   [0.40392157 0.51764706 0.32941176]\n",
            "   [0.40784314 0.5254902  0.3372549 ]\n",
            "   ...\n",
            "   [0.38039216 0.50196078 0.32941176]\n",
            "   [0.38431373 0.49411765 0.32941176]\n",
            "   [0.35686275 0.4745098  0.30980392]]\n",
            "\n",
            "  [[0.40392157 0.51764706 0.3254902 ]\n",
            "   [0.40784314 0.51372549 0.3254902 ]\n",
            "   [0.41960784 0.52941176 0.34117647]\n",
            "   ...\n",
            "   [0.39607843 0.51764706 0.34117647]\n",
            "   [0.38823529 0.49803922 0.32941176]\n",
            "   [0.36078431 0.4745098  0.30980392]]\n",
            "\n",
            "  [[0.37254902 0.49411765 0.30588235]\n",
            "   [0.37254902 0.48235294 0.29803922]\n",
            "   [0.39607843 0.50196078 0.31764706]\n",
            "   ...\n",
            "   [0.36470588 0.48627451 0.31372549]\n",
            "   [0.37254902 0.48235294 0.31764706]\n",
            "   [0.36078431 0.47058824 0.31372549]]]\n",
            "\n",
            "\n",
            " [[[0.28627451 0.30588235 0.29411765]\n",
            "   [0.38431373 0.40392157 0.44313725]\n",
            "   [0.38823529 0.41568627 0.44705882]\n",
            "   ...\n",
            "   [0.52941176 0.58823529 0.59607843]\n",
            "   [0.52941176 0.58431373 0.60392157]\n",
            "   [0.79607843 0.84313725 0.8745098 ]]\n",
            "\n",
            "  [[0.27058824 0.28627451 0.2745098 ]\n",
            "   [0.32941176 0.34901961 0.38039216]\n",
            "   [0.26666667 0.29411765 0.31764706]\n",
            "   ...\n",
            "   [0.33333333 0.37254902 0.34901961]\n",
            "   [0.27843137 0.32156863 0.31372549]\n",
            "   [0.47058824 0.52156863 0.52941176]]\n",
            "\n",
            "  [[0.27058824 0.28627451 0.2745098 ]\n",
            "   [0.35294118 0.37254902 0.39215686]\n",
            "   [0.24313725 0.27843137 0.29019608]\n",
            "   ...\n",
            "   [0.29019608 0.31764706 0.2745098 ]\n",
            "   [0.20784314 0.24313725 0.21176471]\n",
            "   [0.24313725 0.29019608 0.27058824]]\n",
            "\n",
            "  ...\n",
            "\n",
            "  [[0.48235294 0.50196078 0.37647059]\n",
            "   [0.51764706 0.51764706 0.4       ]\n",
            "   [0.50588235 0.50196078 0.39215686]\n",
            "   ...\n",
            "   [0.42352941 0.41960784 0.34509804]\n",
            "   [0.24313725 0.23529412 0.21568627]\n",
            "   [0.10588235 0.10588235 0.10980392]]\n",
            "\n",
            "  [[0.45098039 0.4745098  0.35686275]\n",
            "   [0.48235294 0.48627451 0.37254902]\n",
            "   [0.50588235 0.49411765 0.38823529]\n",
            "   ...\n",
            "   [0.45098039 0.45490196 0.36862745]\n",
            "   [0.25882353 0.25490196 0.23137255]\n",
            "   [0.10588235 0.10588235 0.10588235]]\n",
            "\n",
            "  [[0.45490196 0.47058824 0.35294118]\n",
            "   [0.4745098  0.47843137 0.36862745]\n",
            "   [0.50588235 0.50196078 0.39607843]\n",
            "   ...\n",
            "   [0.45490196 0.45098039 0.36862745]\n",
            "   [0.26666667 0.25490196 0.22745098]\n",
            "   [0.10588235 0.10196078 0.10196078]]]]\n"
          ]
        }
      ]
    },
    {
      "cell_type": "code",
      "source": [
        "#one hot encoding\n",
        "num_classes = 10\n",
        "train_labels_encoded = to_categorical(labels_train, num_classes)\n",
        "test_labels_encoded = to_categorical(labels_test, num_classes)\n",
        "print(train_labels_encoded)\n",
        "print(test_labels_encoded)"
      ],
      "metadata": {
        "id": "edkzjucnMC3j",
        "colab": {
          "base_uri": "https://localhost:8080/"
        },
        "outputId": "a5ea4d30-7c29-4d41-e2b1-6830116bb8ea"
      },
      "execution_count": 42,
      "outputs": [
        {
          "output_type": "stream",
          "name": "stdout",
          "text": [
            "[[0. 0. 0. ... 0. 0. 0.]\n",
            " [0. 0. 0. ... 0. 0. 1.]\n",
            " [0. 0. 0. ... 0. 0. 1.]\n",
            " ...\n",
            " [0. 0. 0. ... 0. 0. 1.]\n",
            " [0. 1. 0. ... 0. 0. 0.]\n",
            " [0. 1. 0. ... 0. 0. 0.]]\n",
            "[[0. 0. 0. ... 0. 0. 0.]\n",
            " [0. 0. 0. ... 0. 1. 0.]\n",
            " [0. 0. 0. ... 0. 1. 0.]\n",
            " ...\n",
            " [0. 0. 0. ... 0. 0. 0.]\n",
            " [0. 1. 0. ... 0. 0. 0.]\n",
            " [0. 0. 0. ... 1. 0. 0.]]\n"
          ]
        }
      ]
    },
    {
      "cell_type": "code",
      "source": [
        "print(f\"Encoded training labels shape: {train_labels_encoded.shape}\")\n",
        "print(f\"Encoded test labels shape: {test_labels_encoded.shape}\")\n",
        "print(f\"Training images shape: {images_train.shape}\")\n",
        "print(f\"Test images shape: {images_test.shape}\")"
      ],
      "metadata": {
        "colab": {
          "base_uri": "https://localhost:8080/"
        },
        "id": "J2h9ODsl-AHf",
        "outputId": "f335e9e9-cea3-4b74-abb3-565d863a7e53"
      },
      "execution_count": 43,
      "outputs": [
        {
          "output_type": "stream",
          "name": "stdout",
          "text": [
            "Encoded training labels shape: (50000, 10)\n",
            "Encoded test labels shape: (10000, 10)\n",
            "Training images shape: (50000, 32, 32, 3)\n",
            "Test images shape: (10000, 32, 32, 3)\n"
          ]
        }
      ]
    },
    {
      "cell_type": "code",
      "source": [
        "X_train, X_val, y_train, y_val = train_test_split(\n",
        "    images_train,\n",
        "    train_labels_encoded,\n",
        "    test_size=0.1,\n",
        "    random_state=42,\n",
        "    stratify=labels_train\n",
        ")"
      ],
      "metadata": {
        "id": "zM5ZqRi5-D7-"
      },
      "execution_count": 44,
      "outputs": []
    },
    {
      "cell_type": "code",
      "source": [
        "# Load the pre-trained VGG16 model (excluding the top classifier)\n",
        "base_model = VGG16(weights='imagenet', include_top=False, input_shape=(224, 224, 3))\n",
        "base_model.summary()"
      ],
      "metadata": {
        "colab": {
          "base_uri": "https://localhost:8080/",
          "height": 754
        },
        "id": "w3s1M-vDAKSY",
        "outputId": "2aaf2c6f-2fb6-4011-8424-a57c1d1eae5f"
      },
      "execution_count": 45,
      "outputs": [
        {
          "output_type": "display_data",
          "data": {
            "text/plain": [
              "\u001b[1mModel: \"vgg16\"\u001b[0m\n"
            ],
            "text/html": [
              "<pre style=\"white-space:pre;overflow-x:auto;line-height:normal;font-family:Menlo,'DejaVu Sans Mono',consolas,'Courier New',monospace\"><span style=\"font-weight: bold\">Model: \"vgg16\"</span>\n",
              "</pre>\n"
            ]
          },
          "metadata": {}
        },
        {
          "output_type": "display_data",
          "data": {
            "text/plain": [
              "┏━━━━━━━━━━━━━━━━━━━━━━━━━━━━━━━━━━━━━━┳━━━━━━━━━━━━━━━━━━━━━━━━━━━━━┳━━━━━━━━━━━━━━━━━┓\n",
              "┃\u001b[1m \u001b[0m\u001b[1mLayer (type)                        \u001b[0m\u001b[1m \u001b[0m┃\u001b[1m \u001b[0m\u001b[1mOutput Shape               \u001b[0m\u001b[1m \u001b[0m┃\u001b[1m \u001b[0m\u001b[1m        Param #\u001b[0m\u001b[1m \u001b[0m┃\n",
              "┡━━━━━━━━━━━━━━━━━━━━━━━━━━━━━━━━━━━━━━╇━━━━━━━━━━━━━━━━━━━━━━━━━━━━━╇━━━━━━━━━━━━━━━━━┩\n",
              "│ input_layer_1 (\u001b[38;5;33mInputLayer\u001b[0m)           │ (\u001b[38;5;45mNone\u001b[0m, \u001b[38;5;34m224\u001b[0m, \u001b[38;5;34m224\u001b[0m, \u001b[38;5;34m3\u001b[0m)         │               \u001b[38;5;34m0\u001b[0m │\n",
              "├──────────────────────────────────────┼─────────────────────────────┼─────────────────┤\n",
              "│ block1_conv1 (\u001b[38;5;33mConv2D\u001b[0m)                │ (\u001b[38;5;45mNone\u001b[0m, \u001b[38;5;34m224\u001b[0m, \u001b[38;5;34m224\u001b[0m, \u001b[38;5;34m64\u001b[0m)        │           \u001b[38;5;34m1,792\u001b[0m │\n",
              "├──────────────────────────────────────┼─────────────────────────────┼─────────────────┤\n",
              "│ block1_conv2 (\u001b[38;5;33mConv2D\u001b[0m)                │ (\u001b[38;5;45mNone\u001b[0m, \u001b[38;5;34m224\u001b[0m, \u001b[38;5;34m224\u001b[0m, \u001b[38;5;34m64\u001b[0m)        │          \u001b[38;5;34m36,928\u001b[0m │\n",
              "├──────────────────────────────────────┼─────────────────────────────┼─────────────────┤\n",
              "│ block1_pool (\u001b[38;5;33mMaxPooling2D\u001b[0m)           │ (\u001b[38;5;45mNone\u001b[0m, \u001b[38;5;34m112\u001b[0m, \u001b[38;5;34m112\u001b[0m, \u001b[38;5;34m64\u001b[0m)        │               \u001b[38;5;34m0\u001b[0m │\n",
              "├──────────────────────────────────────┼─────────────────────────────┼─────────────────┤\n",
              "│ block2_conv1 (\u001b[38;5;33mConv2D\u001b[0m)                │ (\u001b[38;5;45mNone\u001b[0m, \u001b[38;5;34m112\u001b[0m, \u001b[38;5;34m112\u001b[0m, \u001b[38;5;34m128\u001b[0m)       │          \u001b[38;5;34m73,856\u001b[0m │\n",
              "├──────────────────────────────────────┼─────────────────────────────┼─────────────────┤\n",
              "│ block2_conv2 (\u001b[38;5;33mConv2D\u001b[0m)                │ (\u001b[38;5;45mNone\u001b[0m, \u001b[38;5;34m112\u001b[0m, \u001b[38;5;34m112\u001b[0m, \u001b[38;5;34m128\u001b[0m)       │         \u001b[38;5;34m147,584\u001b[0m │\n",
              "├──────────────────────────────────────┼─────────────────────────────┼─────────────────┤\n",
              "│ block2_pool (\u001b[38;5;33mMaxPooling2D\u001b[0m)           │ (\u001b[38;5;45mNone\u001b[0m, \u001b[38;5;34m56\u001b[0m, \u001b[38;5;34m56\u001b[0m, \u001b[38;5;34m128\u001b[0m)         │               \u001b[38;5;34m0\u001b[0m │\n",
              "├──────────────────────────────────────┼─────────────────────────────┼─────────────────┤\n",
              "│ block3_conv1 (\u001b[38;5;33mConv2D\u001b[0m)                │ (\u001b[38;5;45mNone\u001b[0m, \u001b[38;5;34m56\u001b[0m, \u001b[38;5;34m56\u001b[0m, \u001b[38;5;34m256\u001b[0m)         │         \u001b[38;5;34m295,168\u001b[0m │\n",
              "├──────────────────────────────────────┼─────────────────────────────┼─────────────────┤\n",
              "│ block3_conv2 (\u001b[38;5;33mConv2D\u001b[0m)                │ (\u001b[38;5;45mNone\u001b[0m, \u001b[38;5;34m56\u001b[0m, \u001b[38;5;34m56\u001b[0m, \u001b[38;5;34m256\u001b[0m)         │         \u001b[38;5;34m590,080\u001b[0m │\n",
              "├──────────────────────────────────────┼─────────────────────────────┼─────────────────┤\n",
              "│ block3_conv3 (\u001b[38;5;33mConv2D\u001b[0m)                │ (\u001b[38;5;45mNone\u001b[0m, \u001b[38;5;34m56\u001b[0m, \u001b[38;5;34m56\u001b[0m, \u001b[38;5;34m256\u001b[0m)         │         \u001b[38;5;34m590,080\u001b[0m │\n",
              "├──────────────────────────────────────┼─────────────────────────────┼─────────────────┤\n",
              "│ block3_pool (\u001b[38;5;33mMaxPooling2D\u001b[0m)           │ (\u001b[38;5;45mNone\u001b[0m, \u001b[38;5;34m28\u001b[0m, \u001b[38;5;34m28\u001b[0m, \u001b[38;5;34m256\u001b[0m)         │               \u001b[38;5;34m0\u001b[0m │\n",
              "├──────────────────────────────────────┼─────────────────────────────┼─────────────────┤\n",
              "│ block4_conv1 (\u001b[38;5;33mConv2D\u001b[0m)                │ (\u001b[38;5;45mNone\u001b[0m, \u001b[38;5;34m28\u001b[0m, \u001b[38;5;34m28\u001b[0m, \u001b[38;5;34m512\u001b[0m)         │       \u001b[38;5;34m1,180,160\u001b[0m │\n",
              "├──────────────────────────────────────┼─────────────────────────────┼─────────────────┤\n",
              "│ block4_conv2 (\u001b[38;5;33mConv2D\u001b[0m)                │ (\u001b[38;5;45mNone\u001b[0m, \u001b[38;5;34m28\u001b[0m, \u001b[38;5;34m28\u001b[0m, \u001b[38;5;34m512\u001b[0m)         │       \u001b[38;5;34m2,359,808\u001b[0m │\n",
              "├──────────────────────────────────────┼─────────────────────────────┼─────────────────┤\n",
              "│ block4_conv3 (\u001b[38;5;33mConv2D\u001b[0m)                │ (\u001b[38;5;45mNone\u001b[0m, \u001b[38;5;34m28\u001b[0m, \u001b[38;5;34m28\u001b[0m, \u001b[38;5;34m512\u001b[0m)         │       \u001b[38;5;34m2,359,808\u001b[0m │\n",
              "├──────────────────────────────────────┼─────────────────────────────┼─────────────────┤\n",
              "│ block4_pool (\u001b[38;5;33mMaxPooling2D\u001b[0m)           │ (\u001b[38;5;45mNone\u001b[0m, \u001b[38;5;34m14\u001b[0m, \u001b[38;5;34m14\u001b[0m, \u001b[38;5;34m512\u001b[0m)         │               \u001b[38;5;34m0\u001b[0m │\n",
              "├──────────────────────────────────────┼─────────────────────────────┼─────────────────┤\n",
              "│ block5_conv1 (\u001b[38;5;33mConv2D\u001b[0m)                │ (\u001b[38;5;45mNone\u001b[0m, \u001b[38;5;34m14\u001b[0m, \u001b[38;5;34m14\u001b[0m, \u001b[38;5;34m512\u001b[0m)         │       \u001b[38;5;34m2,359,808\u001b[0m │\n",
              "├──────────────────────────────────────┼─────────────────────────────┼─────────────────┤\n",
              "│ block5_conv2 (\u001b[38;5;33mConv2D\u001b[0m)                │ (\u001b[38;5;45mNone\u001b[0m, \u001b[38;5;34m14\u001b[0m, \u001b[38;5;34m14\u001b[0m, \u001b[38;5;34m512\u001b[0m)         │       \u001b[38;5;34m2,359,808\u001b[0m │\n",
              "├──────────────────────────────────────┼─────────────────────────────┼─────────────────┤\n",
              "│ block5_conv3 (\u001b[38;5;33mConv2D\u001b[0m)                │ (\u001b[38;5;45mNone\u001b[0m, \u001b[38;5;34m14\u001b[0m, \u001b[38;5;34m14\u001b[0m, \u001b[38;5;34m512\u001b[0m)         │       \u001b[38;5;34m2,359,808\u001b[0m │\n",
              "├──────────────────────────────────────┼─────────────────────────────┼─────────────────┤\n",
              "│ block5_pool (\u001b[38;5;33mMaxPooling2D\u001b[0m)           │ (\u001b[38;5;45mNone\u001b[0m, \u001b[38;5;34m7\u001b[0m, \u001b[38;5;34m7\u001b[0m, \u001b[38;5;34m512\u001b[0m)           │               \u001b[38;5;34m0\u001b[0m │\n",
              "└──────────────────────────────────────┴─────────────────────────────┴─────────────────┘\n"
            ],
            "text/html": [
              "<pre style=\"white-space:pre;overflow-x:auto;line-height:normal;font-family:Menlo,'DejaVu Sans Mono',consolas,'Courier New',monospace\">┏━━━━━━━━━━━━━━━━━━━━━━━━━━━━━━━━━━━━━━┳━━━━━━━━━━━━━━━━━━━━━━━━━━━━━┳━━━━━━━━━━━━━━━━━┓\n",
              "┃<span style=\"font-weight: bold\"> Layer (type)                         </span>┃<span style=\"font-weight: bold\"> Output Shape                </span>┃<span style=\"font-weight: bold\">         Param # </span>┃\n",
              "┡━━━━━━━━━━━━━━━━━━━━━━━━━━━━━━━━━━━━━━╇━━━━━━━━━━━━━━━━━━━━━━━━━━━━━╇━━━━━━━━━━━━━━━━━┩\n",
              "│ input_layer_1 (<span style=\"color: #0087ff; text-decoration-color: #0087ff\">InputLayer</span>)           │ (<span style=\"color: #00d7ff; text-decoration-color: #00d7ff\">None</span>, <span style=\"color: #00af00; text-decoration-color: #00af00\">224</span>, <span style=\"color: #00af00; text-decoration-color: #00af00\">224</span>, <span style=\"color: #00af00; text-decoration-color: #00af00\">3</span>)         │               <span style=\"color: #00af00; text-decoration-color: #00af00\">0</span> │\n",
              "├──────────────────────────────────────┼─────────────────────────────┼─────────────────┤\n",
              "│ block1_conv1 (<span style=\"color: #0087ff; text-decoration-color: #0087ff\">Conv2D</span>)                │ (<span style=\"color: #00d7ff; text-decoration-color: #00d7ff\">None</span>, <span style=\"color: #00af00; text-decoration-color: #00af00\">224</span>, <span style=\"color: #00af00; text-decoration-color: #00af00\">224</span>, <span style=\"color: #00af00; text-decoration-color: #00af00\">64</span>)        │           <span style=\"color: #00af00; text-decoration-color: #00af00\">1,792</span> │\n",
              "├──────────────────────────────────────┼─────────────────────────────┼─────────────────┤\n",
              "│ block1_conv2 (<span style=\"color: #0087ff; text-decoration-color: #0087ff\">Conv2D</span>)                │ (<span style=\"color: #00d7ff; text-decoration-color: #00d7ff\">None</span>, <span style=\"color: #00af00; text-decoration-color: #00af00\">224</span>, <span style=\"color: #00af00; text-decoration-color: #00af00\">224</span>, <span style=\"color: #00af00; text-decoration-color: #00af00\">64</span>)        │          <span style=\"color: #00af00; text-decoration-color: #00af00\">36,928</span> │\n",
              "├──────────────────────────────────────┼─────────────────────────────┼─────────────────┤\n",
              "│ block1_pool (<span style=\"color: #0087ff; text-decoration-color: #0087ff\">MaxPooling2D</span>)           │ (<span style=\"color: #00d7ff; text-decoration-color: #00d7ff\">None</span>, <span style=\"color: #00af00; text-decoration-color: #00af00\">112</span>, <span style=\"color: #00af00; text-decoration-color: #00af00\">112</span>, <span style=\"color: #00af00; text-decoration-color: #00af00\">64</span>)        │               <span style=\"color: #00af00; text-decoration-color: #00af00\">0</span> │\n",
              "├──────────────────────────────────────┼─────────────────────────────┼─────────────────┤\n",
              "│ block2_conv1 (<span style=\"color: #0087ff; text-decoration-color: #0087ff\">Conv2D</span>)                │ (<span style=\"color: #00d7ff; text-decoration-color: #00d7ff\">None</span>, <span style=\"color: #00af00; text-decoration-color: #00af00\">112</span>, <span style=\"color: #00af00; text-decoration-color: #00af00\">112</span>, <span style=\"color: #00af00; text-decoration-color: #00af00\">128</span>)       │          <span style=\"color: #00af00; text-decoration-color: #00af00\">73,856</span> │\n",
              "├──────────────────────────────────────┼─────────────────────────────┼─────────────────┤\n",
              "│ block2_conv2 (<span style=\"color: #0087ff; text-decoration-color: #0087ff\">Conv2D</span>)                │ (<span style=\"color: #00d7ff; text-decoration-color: #00d7ff\">None</span>, <span style=\"color: #00af00; text-decoration-color: #00af00\">112</span>, <span style=\"color: #00af00; text-decoration-color: #00af00\">112</span>, <span style=\"color: #00af00; text-decoration-color: #00af00\">128</span>)       │         <span style=\"color: #00af00; text-decoration-color: #00af00\">147,584</span> │\n",
              "├──────────────────────────────────────┼─────────────────────────────┼─────────────────┤\n",
              "│ block2_pool (<span style=\"color: #0087ff; text-decoration-color: #0087ff\">MaxPooling2D</span>)           │ (<span style=\"color: #00d7ff; text-decoration-color: #00d7ff\">None</span>, <span style=\"color: #00af00; text-decoration-color: #00af00\">56</span>, <span style=\"color: #00af00; text-decoration-color: #00af00\">56</span>, <span style=\"color: #00af00; text-decoration-color: #00af00\">128</span>)         │               <span style=\"color: #00af00; text-decoration-color: #00af00\">0</span> │\n",
              "├──────────────────────────────────────┼─────────────────────────────┼─────────────────┤\n",
              "│ block3_conv1 (<span style=\"color: #0087ff; text-decoration-color: #0087ff\">Conv2D</span>)                │ (<span style=\"color: #00d7ff; text-decoration-color: #00d7ff\">None</span>, <span style=\"color: #00af00; text-decoration-color: #00af00\">56</span>, <span style=\"color: #00af00; text-decoration-color: #00af00\">56</span>, <span style=\"color: #00af00; text-decoration-color: #00af00\">256</span>)         │         <span style=\"color: #00af00; text-decoration-color: #00af00\">295,168</span> │\n",
              "├──────────────────────────────────────┼─────────────────────────────┼─────────────────┤\n",
              "│ block3_conv2 (<span style=\"color: #0087ff; text-decoration-color: #0087ff\">Conv2D</span>)                │ (<span style=\"color: #00d7ff; text-decoration-color: #00d7ff\">None</span>, <span style=\"color: #00af00; text-decoration-color: #00af00\">56</span>, <span style=\"color: #00af00; text-decoration-color: #00af00\">56</span>, <span style=\"color: #00af00; text-decoration-color: #00af00\">256</span>)         │         <span style=\"color: #00af00; text-decoration-color: #00af00\">590,080</span> │\n",
              "├──────────────────────────────────────┼─────────────────────────────┼─────────────────┤\n",
              "│ block3_conv3 (<span style=\"color: #0087ff; text-decoration-color: #0087ff\">Conv2D</span>)                │ (<span style=\"color: #00d7ff; text-decoration-color: #00d7ff\">None</span>, <span style=\"color: #00af00; text-decoration-color: #00af00\">56</span>, <span style=\"color: #00af00; text-decoration-color: #00af00\">56</span>, <span style=\"color: #00af00; text-decoration-color: #00af00\">256</span>)         │         <span style=\"color: #00af00; text-decoration-color: #00af00\">590,080</span> │\n",
              "├──────────────────────────────────────┼─────────────────────────────┼─────────────────┤\n",
              "│ block3_pool (<span style=\"color: #0087ff; text-decoration-color: #0087ff\">MaxPooling2D</span>)           │ (<span style=\"color: #00d7ff; text-decoration-color: #00d7ff\">None</span>, <span style=\"color: #00af00; text-decoration-color: #00af00\">28</span>, <span style=\"color: #00af00; text-decoration-color: #00af00\">28</span>, <span style=\"color: #00af00; text-decoration-color: #00af00\">256</span>)         │               <span style=\"color: #00af00; text-decoration-color: #00af00\">0</span> │\n",
              "├──────────────────────────────────────┼─────────────────────────────┼─────────────────┤\n",
              "│ block4_conv1 (<span style=\"color: #0087ff; text-decoration-color: #0087ff\">Conv2D</span>)                │ (<span style=\"color: #00d7ff; text-decoration-color: #00d7ff\">None</span>, <span style=\"color: #00af00; text-decoration-color: #00af00\">28</span>, <span style=\"color: #00af00; text-decoration-color: #00af00\">28</span>, <span style=\"color: #00af00; text-decoration-color: #00af00\">512</span>)         │       <span style=\"color: #00af00; text-decoration-color: #00af00\">1,180,160</span> │\n",
              "├──────────────────────────────────────┼─────────────────────────────┼─────────────────┤\n",
              "│ block4_conv2 (<span style=\"color: #0087ff; text-decoration-color: #0087ff\">Conv2D</span>)                │ (<span style=\"color: #00d7ff; text-decoration-color: #00d7ff\">None</span>, <span style=\"color: #00af00; text-decoration-color: #00af00\">28</span>, <span style=\"color: #00af00; text-decoration-color: #00af00\">28</span>, <span style=\"color: #00af00; text-decoration-color: #00af00\">512</span>)         │       <span style=\"color: #00af00; text-decoration-color: #00af00\">2,359,808</span> │\n",
              "├──────────────────────────────────────┼─────────────────────────────┼─────────────────┤\n",
              "│ block4_conv3 (<span style=\"color: #0087ff; text-decoration-color: #0087ff\">Conv2D</span>)                │ (<span style=\"color: #00d7ff; text-decoration-color: #00d7ff\">None</span>, <span style=\"color: #00af00; text-decoration-color: #00af00\">28</span>, <span style=\"color: #00af00; text-decoration-color: #00af00\">28</span>, <span style=\"color: #00af00; text-decoration-color: #00af00\">512</span>)         │       <span style=\"color: #00af00; text-decoration-color: #00af00\">2,359,808</span> │\n",
              "├──────────────────────────────────────┼─────────────────────────────┼─────────────────┤\n",
              "│ block4_pool (<span style=\"color: #0087ff; text-decoration-color: #0087ff\">MaxPooling2D</span>)           │ (<span style=\"color: #00d7ff; text-decoration-color: #00d7ff\">None</span>, <span style=\"color: #00af00; text-decoration-color: #00af00\">14</span>, <span style=\"color: #00af00; text-decoration-color: #00af00\">14</span>, <span style=\"color: #00af00; text-decoration-color: #00af00\">512</span>)         │               <span style=\"color: #00af00; text-decoration-color: #00af00\">0</span> │\n",
              "├──────────────────────────────────────┼─────────────────────────────┼─────────────────┤\n",
              "│ block5_conv1 (<span style=\"color: #0087ff; text-decoration-color: #0087ff\">Conv2D</span>)                │ (<span style=\"color: #00d7ff; text-decoration-color: #00d7ff\">None</span>, <span style=\"color: #00af00; text-decoration-color: #00af00\">14</span>, <span style=\"color: #00af00; text-decoration-color: #00af00\">14</span>, <span style=\"color: #00af00; text-decoration-color: #00af00\">512</span>)         │       <span style=\"color: #00af00; text-decoration-color: #00af00\">2,359,808</span> │\n",
              "├──────────────────────────────────────┼─────────────────────────────┼─────────────────┤\n",
              "│ block5_conv2 (<span style=\"color: #0087ff; text-decoration-color: #0087ff\">Conv2D</span>)                │ (<span style=\"color: #00d7ff; text-decoration-color: #00d7ff\">None</span>, <span style=\"color: #00af00; text-decoration-color: #00af00\">14</span>, <span style=\"color: #00af00; text-decoration-color: #00af00\">14</span>, <span style=\"color: #00af00; text-decoration-color: #00af00\">512</span>)         │       <span style=\"color: #00af00; text-decoration-color: #00af00\">2,359,808</span> │\n",
              "├──────────────────────────────────────┼─────────────────────────────┼─────────────────┤\n",
              "│ block5_conv3 (<span style=\"color: #0087ff; text-decoration-color: #0087ff\">Conv2D</span>)                │ (<span style=\"color: #00d7ff; text-decoration-color: #00d7ff\">None</span>, <span style=\"color: #00af00; text-decoration-color: #00af00\">14</span>, <span style=\"color: #00af00; text-decoration-color: #00af00\">14</span>, <span style=\"color: #00af00; text-decoration-color: #00af00\">512</span>)         │       <span style=\"color: #00af00; text-decoration-color: #00af00\">2,359,808</span> │\n",
              "├──────────────────────────────────────┼─────────────────────────────┼─────────────────┤\n",
              "│ block5_pool (<span style=\"color: #0087ff; text-decoration-color: #0087ff\">MaxPooling2D</span>)           │ (<span style=\"color: #00d7ff; text-decoration-color: #00d7ff\">None</span>, <span style=\"color: #00af00; text-decoration-color: #00af00\">7</span>, <span style=\"color: #00af00; text-decoration-color: #00af00\">7</span>, <span style=\"color: #00af00; text-decoration-color: #00af00\">512</span>)           │               <span style=\"color: #00af00; text-decoration-color: #00af00\">0</span> │\n",
              "└──────────────────────────────────────┴─────────────────────────────┴─────────────────┘\n",
              "</pre>\n"
            ]
          },
          "metadata": {}
        },
        {
          "output_type": "display_data",
          "data": {
            "text/plain": [
              "\u001b[1m Total params: \u001b[0m\u001b[38;5;34m14,714,688\u001b[0m (56.13 MB)\n"
            ],
            "text/html": [
              "<pre style=\"white-space:pre;overflow-x:auto;line-height:normal;font-family:Menlo,'DejaVu Sans Mono',consolas,'Courier New',monospace\"><span style=\"font-weight: bold\"> Total params: </span><span style=\"color: #00af00; text-decoration-color: #00af00\">14,714,688</span> (56.13 MB)\n",
              "</pre>\n"
            ]
          },
          "metadata": {}
        },
        {
          "output_type": "display_data",
          "data": {
            "text/plain": [
              "\u001b[1m Trainable params: \u001b[0m\u001b[38;5;34m14,714,688\u001b[0m (56.13 MB)\n"
            ],
            "text/html": [
              "<pre style=\"white-space:pre;overflow-x:auto;line-height:normal;font-family:Menlo,'DejaVu Sans Mono',consolas,'Courier New',monospace\"><span style=\"font-weight: bold\"> Trainable params: </span><span style=\"color: #00af00; text-decoration-color: #00af00\">14,714,688</span> (56.13 MB)\n",
              "</pre>\n"
            ]
          },
          "metadata": {}
        },
        {
          "output_type": "display_data",
          "data": {
            "text/plain": [
              "\u001b[1m Non-trainable params: \u001b[0m\u001b[38;5;34m0\u001b[0m (0.00 B)\n"
            ],
            "text/html": [
              "<pre style=\"white-space:pre;overflow-x:auto;line-height:normal;font-family:Menlo,'DejaVu Sans Mono',consolas,'Courier New',monospace\"><span style=\"font-weight: bold\"> Non-trainable params: </span><span style=\"color: #00af00; text-decoration-color: #00af00\">0</span> (0.00 B)\n",
              "</pre>\n"
            ]
          },
          "metadata": {}
        }
      ]
    },
    {
      "cell_type": "code",
      "source": [
        "# Freeze the layers in the base model\n",
        "for layer in base_model.layers:\n",
        "    layer.trainable = False"
      ],
      "metadata": {
        "id": "jfB5UzxuAg07"
      },
      "execution_count": 46,
      "outputs": []
    },
    {
      "cell_type": "code",
      "source": [
        "x = base_model.output\n",
        "x = GlobalAveragePooling2D()(x)"
      ],
      "metadata": {
        "id": "5m0M1vv8Avqk"
      },
      "execution_count": 47,
      "outputs": []
    },
    {
      "cell_type": "code",
      "source": [
        "x = Dense(256, activation='relu')(x)"
      ],
      "metadata": {
        "id": "XTuyWJK3Bou_"
      },
      "execution_count": null,
      "outputs": []
    },
    {
      "cell_type": "code",
      "source": [
        "# Add the final classification layer with 10 units (for CIFAR-10 classes) and softmax activation\n",
        "predictions = Dense(10, activation='softmax')(x)\n",
        "\n",
        "# Create the fine-tuned model\n",
        "model = Model(inputs=base_model.input, outputs=predictions)"
      ],
      "metadata": {
        "id": "_xnRtvJqBvv7"
      },
      "execution_count": null,
      "outputs": []
    },
    {
      "cell_type": "code",
      "source": [
        "model.compile(optimizer=Adam(learning_rate=1e-3),\n",
        "              loss='categorical_crossentropy',\n",
        "              metrics=['accuracy'])"
      ],
      "metadata": {
        "id": "PGwnxYEFCjW4"
      },
      "execution_count": null,
      "outputs": []
    },
    {
      "cell_type": "code",
      "source": [
        "history = model.fit(\n",
        "    X_train, y_train,\n",
        "    epochs=10,\n",
        "    batch_size=32,\n",
        "    validation_data=(X_val, y_val)\n",
        ")"
      ],
      "metadata": {
        "id": "W1ox7uc-CrrW"
      },
      "execution_count": null,
      "outputs": []
    }
  ]
}